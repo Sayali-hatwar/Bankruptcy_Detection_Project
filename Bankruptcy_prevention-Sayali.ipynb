{
 "cells": [
  {
   "cell_type": "markdown",
   "id": "a1665f34",
   "metadata": {},
   "source": [
    "# Business Objective:\n",
    "This is a classification project, since the variable to predict is binary (bankruptcy or non-bankruptcy). The goal here is to model the probability that a business goes bankrupt from different features. "
   ]
  },
  {
   "cell_type": "markdown",
   "id": "19901da9",
   "metadata": {},
   "source": [
    "### Importing Libraries"
   ]
  },
  {
   "cell_type": "code",
   "execution_count": 1,
   "id": "633d67dd",
   "metadata": {},
   "outputs": [],
   "source": [
    "import pandas as pd\n",
    "import numpy as np\n",
    "\n",
    "import seaborn as sns\n",
    "import matplotlib.pyplot as plt\n",
    "%matplotlib inline\n",
    "\n",
    "from sklearn import preprocessing\n",
    "from sklearn.preprocessing import LabelEncoder\n",
    "\n",
    "import warnings\n",
    "warnings.filterwarnings('ignore')"
   ]
  },
  {
   "cell_type": "markdown",
   "id": "93e5125f",
   "metadata": {},
   "source": [
    "### Importing Data"
   ]
  },
  {
   "cell_type": "code",
   "execution_count": 2,
   "id": "c8089ed9",
   "metadata": {},
   "outputs": [],
   "source": [
    "df=pd.read_csv('bankruptcy-prevention.csv',sep=';')"
   ]
  },
  {
   "cell_type": "code",
   "execution_count": 3,
   "id": "bdb49fee",
   "metadata": {},
   "outputs": [
    {
     "data": {
      "text/html": [
       "<div>\n",
       "<style scoped>\n",
       "    .dataframe tbody tr th:only-of-type {\n",
       "        vertical-align: middle;\n",
       "    }\n",
       "\n",
       "    .dataframe tbody tr th {\n",
       "        vertical-align: top;\n",
       "    }\n",
       "\n",
       "    .dataframe thead th {\n",
       "        text-align: right;\n",
       "    }\n",
       "</style>\n",
       "<table border=\"1\" class=\"dataframe\">\n",
       "  <thead>\n",
       "    <tr style=\"text-align: right;\">\n",
       "      <th></th>\n",
       "      <th>industrial_risk</th>\n",
       "      <th>management_risk</th>\n",
       "      <th>financial_flexibility</th>\n",
       "      <th>credibility</th>\n",
       "      <th>competitiveness</th>\n",
       "      <th>operating_risk</th>\n",
       "      <th>class</th>\n",
       "    </tr>\n",
       "  </thead>\n",
       "  <tbody>\n",
       "    <tr>\n",
       "      <th>0</th>\n",
       "      <td>0.5</td>\n",
       "      <td>1.0</td>\n",
       "      <td>0.0</td>\n",
       "      <td>0.0</td>\n",
       "      <td>0.0</td>\n",
       "      <td>0.5</td>\n",
       "      <td>bankruptcy</td>\n",
       "    </tr>\n",
       "    <tr>\n",
       "      <th>1</th>\n",
       "      <td>0.0</td>\n",
       "      <td>1.0</td>\n",
       "      <td>0.0</td>\n",
       "      <td>0.0</td>\n",
       "      <td>0.0</td>\n",
       "      <td>1.0</td>\n",
       "      <td>bankruptcy</td>\n",
       "    </tr>\n",
       "    <tr>\n",
       "      <th>2</th>\n",
       "      <td>1.0</td>\n",
       "      <td>0.0</td>\n",
       "      <td>0.0</td>\n",
       "      <td>0.0</td>\n",
       "      <td>0.0</td>\n",
       "      <td>1.0</td>\n",
       "      <td>bankruptcy</td>\n",
       "    </tr>\n",
       "    <tr>\n",
       "      <th>3</th>\n",
       "      <td>0.5</td>\n",
       "      <td>0.0</td>\n",
       "      <td>0.0</td>\n",
       "      <td>0.5</td>\n",
       "      <td>0.0</td>\n",
       "      <td>1.0</td>\n",
       "      <td>bankruptcy</td>\n",
       "    </tr>\n",
       "  </tbody>\n",
       "</table>\n",
       "</div>"
      ],
      "text/plain": [
       "   industrial_risk   management_risk   financial_flexibility   credibility  \\\n",
       "0              0.5               1.0                     0.0           0.0   \n",
       "1              0.0               1.0                     0.0           0.0   \n",
       "2              1.0               0.0                     0.0           0.0   \n",
       "3              0.5               0.0                     0.0           0.5   \n",
       "\n",
       "    competitiveness   operating_risk       class  \n",
       "0               0.0              0.5  bankruptcy  \n",
       "1               0.0              1.0  bankruptcy  \n",
       "2               0.0              1.0  bankruptcy  \n",
       "3               0.0              1.0  bankruptcy  "
      ]
     },
     "execution_count": 3,
     "metadata": {},
     "output_type": "execute_result"
    }
   ],
   "source": [
    "df.head(4)"
   ]
  },
  {
   "cell_type": "code",
   "execution_count": 4,
   "id": "b4402d9a",
   "metadata": {},
   "outputs": [
    {
     "data": {
      "text/html": [
       "<div>\n",
       "<style scoped>\n",
       "    .dataframe tbody tr th:only-of-type {\n",
       "        vertical-align: middle;\n",
       "    }\n",
       "\n",
       "    .dataframe tbody tr th {\n",
       "        vertical-align: top;\n",
       "    }\n",
       "\n",
       "    .dataframe thead th {\n",
       "        text-align: right;\n",
       "    }\n",
       "</style>\n",
       "<table border=\"1\" class=\"dataframe\">\n",
       "  <thead>\n",
       "    <tr style=\"text-align: right;\">\n",
       "      <th></th>\n",
       "      <th>industrial_risk</th>\n",
       "      <th>management_risk</th>\n",
       "      <th>financial_flexibility</th>\n",
       "      <th>credibility</th>\n",
       "      <th>competitiveness</th>\n",
       "      <th>operating_risk</th>\n",
       "      <th>class</th>\n",
       "    </tr>\n",
       "  </thead>\n",
       "  <tbody>\n",
       "    <tr>\n",
       "      <th>246</th>\n",
       "      <td>1.0</td>\n",
       "      <td>1.0</td>\n",
       "      <td>0.5</td>\n",
       "      <td>1.0</td>\n",
       "      <td>1.0</td>\n",
       "      <td>0.0</td>\n",
       "      <td>non-bankruptcy</td>\n",
       "    </tr>\n",
       "    <tr>\n",
       "      <th>247</th>\n",
       "      <td>0.0</td>\n",
       "      <td>1.0</td>\n",
       "      <td>1.0</td>\n",
       "      <td>0.5</td>\n",
       "      <td>0.5</td>\n",
       "      <td>0.0</td>\n",
       "      <td>non-bankruptcy</td>\n",
       "    </tr>\n",
       "    <tr>\n",
       "      <th>248</th>\n",
       "      <td>1.0</td>\n",
       "      <td>0.0</td>\n",
       "      <td>0.5</td>\n",
       "      <td>1.0</td>\n",
       "      <td>0.5</td>\n",
       "      <td>0.0</td>\n",
       "      <td>non-bankruptcy</td>\n",
       "    </tr>\n",
       "    <tr>\n",
       "      <th>249</th>\n",
       "      <td>1.0</td>\n",
       "      <td>0.0</td>\n",
       "      <td>0.5</td>\n",
       "      <td>0.5</td>\n",
       "      <td>1.0</td>\n",
       "      <td>1.0</td>\n",
       "      <td>non-bankruptcy</td>\n",
       "    </tr>\n",
       "  </tbody>\n",
       "</table>\n",
       "</div>"
      ],
      "text/plain": [
       "     industrial_risk   management_risk   financial_flexibility   credibility  \\\n",
       "246              1.0               1.0                     0.5           1.0   \n",
       "247              0.0               1.0                     1.0           0.5   \n",
       "248              1.0               0.0                     0.5           1.0   \n",
       "249              1.0               0.0                     0.5           0.5   \n",
       "\n",
       "      competitiveness   operating_risk           class  \n",
       "246               1.0              0.0  non-bankruptcy  \n",
       "247               0.5              0.0  non-bankruptcy  \n",
       "248               0.5              0.0  non-bankruptcy  \n",
       "249               1.0              1.0  non-bankruptcy  "
      ]
     },
     "execution_count": 4,
     "metadata": {},
     "output_type": "execute_result"
    }
   ],
   "source": [
    "df.tail(4)"
   ]
  },
  {
   "cell_type": "markdown",
   "id": "1818844b",
   "metadata": {},
   "source": [
    "## Exploratory Data Analysis\n",
    "Now we will check the following points for data validation\n",
    "\n",
    "#### 1.Typing errors\n",
    "\n",
    "#### 2. Null values\n",
    "\n",
    "#### 3.Duplicates values\n",
    "\n",
    "#### 4.Label Encoder\n",
    "\n",
    "#### 5.Visualization\n",
    "\n",
    "In visualization we explore Distribution of data, outliers detection and replacement, Use Boxplot, Density plot, Histogram to get more detail regarding concentration, distribution, skewness, outliers, range etc of data. Also Check the Correlation between the variables and Use scatterplot."
   ]
  },
  {
   "cell_type": "code",
   "execution_count": 5,
   "id": "ea65bf21",
   "metadata": {
    "scrolled": true
   },
   "outputs": [
    {
     "name": "stdout",
     "output_type": "stream",
     "text": [
      "<class 'pandas.core.frame.DataFrame'>\n",
      "RangeIndex: 250 entries, 0 to 249\n",
      "Data columns (total 7 columns):\n",
      " #   Column                  Non-Null Count  Dtype  \n",
      "---  ------                  --------------  -----  \n",
      " 0   industrial_risk         250 non-null    float64\n",
      " 1    management_risk        250 non-null    float64\n",
      " 2    financial_flexibility  250 non-null    float64\n",
      " 3    credibility            250 non-null    float64\n",
      " 4    competitiveness        250 non-null    float64\n",
      " 5    operating_risk         250 non-null    float64\n",
      " 6    class                  250 non-null    object \n",
      "dtypes: float64(6), object(1)\n",
      "memory usage: 13.8+ KB\n"
     ]
    }
   ],
   "source": [
    "df.info()"
   ]
  },
  {
   "cell_type": "code",
   "execution_count": 6,
   "id": "e272ea9d",
   "metadata": {},
   "outputs": [
    {
     "data": {
      "text/plain": [
       "(250, 7)"
      ]
     },
     "execution_count": 6,
     "metadata": {},
     "output_type": "execute_result"
    }
   ],
   "source": [
    "df.shape"
   ]
  },
  {
   "cell_type": "code",
   "execution_count": 7,
   "id": "e3ee2ab4",
   "metadata": {
    "scrolled": true
   },
   "outputs": [
    {
     "data": {
      "text/html": [
       "<div>\n",
       "<style scoped>\n",
       "    .dataframe tbody tr th:only-of-type {\n",
       "        vertical-align: middle;\n",
       "    }\n",
       "\n",
       "    .dataframe tbody tr th {\n",
       "        vertical-align: top;\n",
       "    }\n",
       "\n",
       "    .dataframe thead th {\n",
       "        text-align: right;\n",
       "    }\n",
       "</style>\n",
       "<table border=\"1\" class=\"dataframe\">\n",
       "  <thead>\n",
       "    <tr style=\"text-align: right;\">\n",
       "      <th></th>\n",
       "      <th>industrial_risk</th>\n",
       "      <th>management_risk</th>\n",
       "      <th>financial_flexibility</th>\n",
       "      <th>credibility</th>\n",
       "      <th>competitiveness</th>\n",
       "      <th>operating_risk</th>\n",
       "    </tr>\n",
       "  </thead>\n",
       "  <tbody>\n",
       "    <tr>\n",
       "      <th>count</th>\n",
       "      <td>250.000000</td>\n",
       "      <td>250.000000</td>\n",
       "      <td>250.000000</td>\n",
       "      <td>250.000000</td>\n",
       "      <td>250.000000</td>\n",
       "      <td>250.000000</td>\n",
       "    </tr>\n",
       "    <tr>\n",
       "      <th>mean</th>\n",
       "      <td>0.518000</td>\n",
       "      <td>0.614000</td>\n",
       "      <td>0.376000</td>\n",
       "      <td>0.470000</td>\n",
       "      <td>0.476000</td>\n",
       "      <td>0.570000</td>\n",
       "    </tr>\n",
       "    <tr>\n",
       "      <th>std</th>\n",
       "      <td>0.411526</td>\n",
       "      <td>0.410705</td>\n",
       "      <td>0.401583</td>\n",
       "      <td>0.415682</td>\n",
       "      <td>0.440682</td>\n",
       "      <td>0.434575</td>\n",
       "    </tr>\n",
       "    <tr>\n",
       "      <th>min</th>\n",
       "      <td>0.000000</td>\n",
       "      <td>0.000000</td>\n",
       "      <td>0.000000</td>\n",
       "      <td>0.000000</td>\n",
       "      <td>0.000000</td>\n",
       "      <td>0.000000</td>\n",
       "    </tr>\n",
       "    <tr>\n",
       "      <th>25%</th>\n",
       "      <td>0.000000</td>\n",
       "      <td>0.500000</td>\n",
       "      <td>0.000000</td>\n",
       "      <td>0.000000</td>\n",
       "      <td>0.000000</td>\n",
       "      <td>0.000000</td>\n",
       "    </tr>\n",
       "    <tr>\n",
       "      <th>50%</th>\n",
       "      <td>0.500000</td>\n",
       "      <td>0.500000</td>\n",
       "      <td>0.500000</td>\n",
       "      <td>0.500000</td>\n",
       "      <td>0.500000</td>\n",
       "      <td>0.500000</td>\n",
       "    </tr>\n",
       "    <tr>\n",
       "      <th>75%</th>\n",
       "      <td>1.000000</td>\n",
       "      <td>1.000000</td>\n",
       "      <td>0.500000</td>\n",
       "      <td>1.000000</td>\n",
       "      <td>1.000000</td>\n",
       "      <td>1.000000</td>\n",
       "    </tr>\n",
       "    <tr>\n",
       "      <th>max</th>\n",
       "      <td>1.000000</td>\n",
       "      <td>1.000000</td>\n",
       "      <td>1.000000</td>\n",
       "      <td>1.000000</td>\n",
       "      <td>1.000000</td>\n",
       "      <td>1.000000</td>\n",
       "    </tr>\n",
       "  </tbody>\n",
       "</table>\n",
       "</div>"
      ],
      "text/plain": [
       "       industrial_risk   management_risk   financial_flexibility  \\\n",
       "count       250.000000        250.000000              250.000000   \n",
       "mean          0.518000          0.614000                0.376000   \n",
       "std           0.411526          0.410705                0.401583   \n",
       "min           0.000000          0.000000                0.000000   \n",
       "25%           0.000000          0.500000                0.000000   \n",
       "50%           0.500000          0.500000                0.500000   \n",
       "75%           1.000000          1.000000                0.500000   \n",
       "max           1.000000          1.000000                1.000000   \n",
       "\n",
       "        credibility   competitiveness   operating_risk  \n",
       "count    250.000000        250.000000       250.000000  \n",
       "mean       0.470000          0.476000         0.570000  \n",
       "std        0.415682          0.440682         0.434575  \n",
       "min        0.000000          0.000000         0.000000  \n",
       "25%        0.000000          0.000000         0.000000  \n",
       "50%        0.500000          0.500000         0.500000  \n",
       "75%        1.000000          1.000000         1.000000  \n",
       "max        1.000000          1.000000         1.000000  "
      ]
     },
     "execution_count": 7,
     "metadata": {},
     "output_type": "execute_result"
    }
   ],
   "source": [
    "df.describe()"
   ]
  },
  {
   "cell_type": "code",
   "execution_count": 8,
   "id": "6033da62",
   "metadata": {
    "scrolled": true
   },
   "outputs": [
    {
     "name": "stdout",
     "output_type": "stream",
     "text": [
      "industrial_risk\n",
      " management_risk\n",
      " financial_flexibility\n",
      " credibility\n",
      " competitiveness\n",
      " operating_risk\n",
      " class\n",
      "class\n"
     ]
    }
   ],
   "source": [
    "# Stripping Space\n",
    "columns=[]\n",
    "for col in df.columns:\n",
    "     print(col)\n",
    "     col=col.strip()\n",
    "     columns.append(col)\n",
    "        \n",
    "df.columns=columns\n",
    "print(col)"
   ]
  },
  {
   "cell_type": "code",
   "execution_count": 9,
   "id": "857625c3",
   "metadata": {},
   "outputs": [
    {
     "data": {
      "text/plain": [
       "industrial_risk          0\n",
       "management_risk          0\n",
       "financial_flexibility    0\n",
       "credibility              0\n",
       "competitiveness          0\n",
       "operating_risk           0\n",
       "class                    0\n",
       "dtype: int64"
      ]
     },
     "execution_count": 9,
     "metadata": {},
     "output_type": "execute_result"
    }
   ],
   "source": [
    "df.isnull().sum()"
   ]
  },
  {
   "cell_type": "code",
   "execution_count": 10,
   "id": "1ac00740",
   "metadata": {},
   "outputs": [
    {
     "data": {
      "text/plain": [
       "industrial_risk          3\n",
       "management_risk          3\n",
       "financial_flexibility    3\n",
       "credibility              3\n",
       "competitiveness          3\n",
       "operating_risk           3\n",
       "class                    2\n",
       "dtype: int64"
      ]
     },
     "execution_count": 10,
     "metadata": {},
     "output_type": "execute_result"
    }
   ],
   "source": [
    "df.nunique()"
   ]
  },
  {
   "cell_type": "code",
   "execution_count": 11,
   "id": "9c621bc8",
   "metadata": {
    "scrolled": true
   },
   "outputs": [
    {
     "data": {
      "text/plain": [
       "non-bankruptcy    143\n",
       "bankruptcy        107\n",
       "Name: class, dtype: int64"
      ]
     },
     "execution_count": 11,
     "metadata": {},
     "output_type": "execute_result"
    }
   ],
   "source": [
    "df['class'].value_counts()"
   ]
  },
  {
   "cell_type": "code",
   "execution_count": 12,
   "id": "8a4184d7",
   "metadata": {},
   "outputs": [
    {
     "data": {
      "text/plain": [
       "(221, 7)"
      ]
     },
     "execution_count": 12,
     "metadata": {},
     "output_type": "execute_result"
    }
   ],
   "source": [
    "# checking duplicate values\n",
    "df_bank = df[df.duplicated(keep=False)].sort_values(['class', 'industrial_risk', 'management_risk', 'financial_flexibility', 'credibility', 'operating_risk'])\n",
    "df_bank.shape"
   ]
  },
  {
   "cell_type": "code",
   "execution_count": 13,
   "id": "23ef8b6a",
   "metadata": {},
   "outputs": [
    {
     "data": {
      "text/plain": [
       "(29, 7)"
      ]
     },
     "execution_count": 13,
     "metadata": {},
     "output_type": "execute_result"
    }
   ],
   "source": [
    "bank_unique_records = df.drop_duplicates(keep= False)\n",
    "bank_unique_records.shape"
   ]
  },
  {
   "cell_type": "code",
   "execution_count": 14,
   "id": "e0e5d6a1",
   "metadata": {},
   "outputs": [
    {
     "data": {
      "text/html": [
       "<div>\n",
       "<style scoped>\n",
       "    .dataframe tbody tr th:only-of-type {\n",
       "        vertical-align: middle;\n",
       "    }\n",
       "\n",
       "    .dataframe tbody tr th {\n",
       "        vertical-align: top;\n",
       "    }\n",
       "\n",
       "    .dataframe thead th {\n",
       "        text-align: right;\n",
       "    }\n",
       "</style>\n",
       "<table border=\"1\" class=\"dataframe\">\n",
       "  <thead>\n",
       "    <tr style=\"text-align: right;\">\n",
       "      <th></th>\n",
       "      <th>industrial_risk</th>\n",
       "      <th>management_risk</th>\n",
       "      <th>financial_flexibility</th>\n",
       "      <th>credibility</th>\n",
       "      <th>competitiveness</th>\n",
       "      <th>operating_risk</th>\n",
       "      <th>class</th>\n",
       "    </tr>\n",
       "  </thead>\n",
       "  <tbody>\n",
       "    <tr>\n",
       "      <th>27</th>\n",
       "      <td>0.0</td>\n",
       "      <td>0.0</td>\n",
       "      <td>0.0</td>\n",
       "      <td>0.0</td>\n",
       "      <td>0.0</td>\n",
       "      <td>1.0</td>\n",
       "      <td>bankruptcy</td>\n",
       "    </tr>\n",
       "    <tr>\n",
       "      <th>36</th>\n",
       "      <td>1.0</td>\n",
       "      <td>1.0</td>\n",
       "      <td>0.0</td>\n",
       "      <td>1.0</td>\n",
       "      <td>0.0</td>\n",
       "      <td>0.0</td>\n",
       "      <td>bankruptcy</td>\n",
       "    </tr>\n",
       "    <tr>\n",
       "      <th>72</th>\n",
       "      <td>1.0</td>\n",
       "      <td>0.5</td>\n",
       "      <td>1.0</td>\n",
       "      <td>0.5</td>\n",
       "      <td>0.0</td>\n",
       "      <td>0.0</td>\n",
       "      <td>bankruptcy</td>\n",
       "    </tr>\n",
       "    <tr>\n",
       "      <th>142</th>\n",
       "      <td>0.0</td>\n",
       "      <td>1.0</td>\n",
       "      <td>1.0</td>\n",
       "      <td>1.0</td>\n",
       "      <td>0.5</td>\n",
       "      <td>1.0</td>\n",
       "      <td>non-bankruptcy</td>\n",
       "    </tr>\n",
       "    <tr>\n",
       "      <th>143</th>\n",
       "      <td>1.0</td>\n",
       "      <td>0.0</td>\n",
       "      <td>1.0</td>\n",
       "      <td>0.5</td>\n",
       "      <td>1.0</td>\n",
       "      <td>0.5</td>\n",
       "      <td>non-bankruptcy</td>\n",
       "    </tr>\n",
       "    <tr>\n",
       "      <th>144</th>\n",
       "      <td>0.5</td>\n",
       "      <td>1.0</td>\n",
       "      <td>0.5</td>\n",
       "      <td>1.0</td>\n",
       "      <td>1.0</td>\n",
       "      <td>0.5</td>\n",
       "      <td>non-bankruptcy</td>\n",
       "    </tr>\n",
       "    <tr>\n",
       "      <th>145</th>\n",
       "      <td>0.5</td>\n",
       "      <td>0.0</td>\n",
       "      <td>1.0</td>\n",
       "      <td>0.5</td>\n",
       "      <td>0.5</td>\n",
       "      <td>0.5</td>\n",
       "      <td>non-bankruptcy</td>\n",
       "    </tr>\n",
       "    <tr>\n",
       "      <th>146</th>\n",
       "      <td>0.5</td>\n",
       "      <td>0.5</td>\n",
       "      <td>0.5</td>\n",
       "      <td>1.0</td>\n",
       "      <td>0.5</td>\n",
       "      <td>0.0</td>\n",
       "      <td>non-bankruptcy</td>\n",
       "    </tr>\n",
       "    <tr>\n",
       "      <th>147</th>\n",
       "      <td>0.5</td>\n",
       "      <td>0.5</td>\n",
       "      <td>0.5</td>\n",
       "      <td>0.5</td>\n",
       "      <td>1.0</td>\n",
       "      <td>1.0</td>\n",
       "      <td>non-bankruptcy</td>\n",
       "    </tr>\n",
       "    <tr>\n",
       "      <th>148</th>\n",
       "      <td>1.0</td>\n",
       "      <td>0.5</td>\n",
       "      <td>1.0</td>\n",
       "      <td>1.0</td>\n",
       "      <td>1.0</td>\n",
       "      <td>1.0</td>\n",
       "      <td>non-bankruptcy</td>\n",
       "    </tr>\n",
       "    <tr>\n",
       "      <th>149</th>\n",
       "      <td>0.5</td>\n",
       "      <td>1.0</td>\n",
       "      <td>1.0</td>\n",
       "      <td>0.5</td>\n",
       "      <td>1.0</td>\n",
       "      <td>1.0</td>\n",
       "      <td>non-bankruptcy</td>\n",
       "    </tr>\n",
       "    <tr>\n",
       "      <th>150</th>\n",
       "      <td>0.5</td>\n",
       "      <td>0.0</td>\n",
       "      <td>1.0</td>\n",
       "      <td>0.5</td>\n",
       "      <td>1.0</td>\n",
       "      <td>1.0</td>\n",
       "      <td>non-bankruptcy</td>\n",
       "    </tr>\n",
       "    <tr>\n",
       "      <th>151</th>\n",
       "      <td>1.0</td>\n",
       "      <td>1.0</td>\n",
       "      <td>1.0</td>\n",
       "      <td>0.5</td>\n",
       "      <td>1.0</td>\n",
       "      <td>0.0</td>\n",
       "      <td>non-bankruptcy</td>\n",
       "    </tr>\n",
       "    <tr>\n",
       "      <th>152</th>\n",
       "      <td>1.0</td>\n",
       "      <td>1.0</td>\n",
       "      <td>1.0</td>\n",
       "      <td>1.0</td>\n",
       "      <td>1.0</td>\n",
       "      <td>0.0</td>\n",
       "      <td>non-bankruptcy</td>\n",
       "    </tr>\n",
       "    <tr>\n",
       "      <th>153</th>\n",
       "      <td>0.0</td>\n",
       "      <td>0.5</td>\n",
       "      <td>1.0</td>\n",
       "      <td>1.0</td>\n",
       "      <td>1.0</td>\n",
       "      <td>1.0</td>\n",
       "      <td>non-bankruptcy</td>\n",
       "    </tr>\n",
       "    <tr>\n",
       "      <th>154</th>\n",
       "      <td>0.5</td>\n",
       "      <td>0.0</td>\n",
       "      <td>1.0</td>\n",
       "      <td>1.0</td>\n",
       "      <td>1.0</td>\n",
       "      <td>1.0</td>\n",
       "      <td>non-bankruptcy</td>\n",
       "    </tr>\n",
       "    <tr>\n",
       "      <th>155</th>\n",
       "      <td>0.5</td>\n",
       "      <td>1.0</td>\n",
       "      <td>0.0</td>\n",
       "      <td>0.5</td>\n",
       "      <td>1.0</td>\n",
       "      <td>0.0</td>\n",
       "      <td>non-bankruptcy</td>\n",
       "    </tr>\n",
       "    <tr>\n",
       "      <th>156</th>\n",
       "      <td>0.5</td>\n",
       "      <td>0.0</td>\n",
       "      <td>1.0</td>\n",
       "      <td>0.5</td>\n",
       "      <td>1.0</td>\n",
       "      <td>0.0</td>\n",
       "      <td>non-bankruptcy</td>\n",
       "    </tr>\n",
       "    <tr>\n",
       "      <th>157</th>\n",
       "      <td>0.0</td>\n",
       "      <td>0.5</td>\n",
       "      <td>1.0</td>\n",
       "      <td>0.5</td>\n",
       "      <td>1.0</td>\n",
       "      <td>1.0</td>\n",
       "      <td>non-bankruptcy</td>\n",
       "    </tr>\n",
       "    <tr>\n",
       "      <th>158</th>\n",
       "      <td>0.5</td>\n",
       "      <td>1.0</td>\n",
       "      <td>0.5</td>\n",
       "      <td>0.5</td>\n",
       "      <td>1.0</td>\n",
       "      <td>0.0</td>\n",
       "      <td>non-bankruptcy</td>\n",
       "    </tr>\n",
       "    <tr>\n",
       "      <th>159</th>\n",
       "      <td>0.5</td>\n",
       "      <td>1.0</td>\n",
       "      <td>0.5</td>\n",
       "      <td>0.5</td>\n",
       "      <td>1.0</td>\n",
       "      <td>1.0</td>\n",
       "      <td>non-bankruptcy</td>\n",
       "    </tr>\n",
       "    <tr>\n",
       "      <th>160</th>\n",
       "      <td>0.5</td>\n",
       "      <td>1.0</td>\n",
       "      <td>0.5</td>\n",
       "      <td>0.5</td>\n",
       "      <td>1.0</td>\n",
       "      <td>0.5</td>\n",
       "      <td>non-bankruptcy</td>\n",
       "    </tr>\n",
       "    <tr>\n",
       "      <th>161</th>\n",
       "      <td>0.5</td>\n",
       "      <td>0.5</td>\n",
       "      <td>0.0</td>\n",
       "      <td>1.0</td>\n",
       "      <td>1.0</td>\n",
       "      <td>0.5</td>\n",
       "      <td>non-bankruptcy</td>\n",
       "    </tr>\n",
       "    <tr>\n",
       "      <th>171</th>\n",
       "      <td>0.0</td>\n",
       "      <td>1.0</td>\n",
       "      <td>0.0</td>\n",
       "      <td>1.0</td>\n",
       "      <td>1.0</td>\n",
       "      <td>0.5</td>\n",
       "      <td>non-bankruptcy</td>\n",
       "    </tr>\n",
       "    <tr>\n",
       "      <th>174</th>\n",
       "      <td>0.0</td>\n",
       "      <td>0.5</td>\n",
       "      <td>0.0</td>\n",
       "      <td>0.5</td>\n",
       "      <td>1.0</td>\n",
       "      <td>1.0</td>\n",
       "      <td>non-bankruptcy</td>\n",
       "    </tr>\n",
       "    <tr>\n",
       "      <th>185</th>\n",
       "      <td>0.0</td>\n",
       "      <td>0.5</td>\n",
       "      <td>0.0</td>\n",
       "      <td>0.5</td>\n",
       "      <td>1.0</td>\n",
       "      <td>0.5</td>\n",
       "      <td>non-bankruptcy</td>\n",
       "    </tr>\n",
       "    <tr>\n",
       "      <th>190</th>\n",
       "      <td>0.0</td>\n",
       "      <td>0.5</td>\n",
       "      <td>0.5</td>\n",
       "      <td>0.0</td>\n",
       "      <td>1.0</td>\n",
       "      <td>0.0</td>\n",
       "      <td>non-bankruptcy</td>\n",
       "    </tr>\n",
       "    <tr>\n",
       "      <th>192</th>\n",
       "      <td>0.5</td>\n",
       "      <td>1.0</td>\n",
       "      <td>0.0</td>\n",
       "      <td>0.0</td>\n",
       "      <td>1.0</td>\n",
       "      <td>0.0</td>\n",
       "      <td>non-bankruptcy</td>\n",
       "    </tr>\n",
       "    <tr>\n",
       "      <th>194</th>\n",
       "      <td>0.0</td>\n",
       "      <td>1.0</td>\n",
       "      <td>0.5</td>\n",
       "      <td>0.0</td>\n",
       "      <td>0.5</td>\n",
       "      <td>0.0</td>\n",
       "      <td>non-bankruptcy</td>\n",
       "    </tr>\n",
       "  </tbody>\n",
       "</table>\n",
       "</div>"
      ],
      "text/plain": [
       "     industrial_risk  management_risk  financial_flexibility  credibility  \\\n",
       "27               0.0              0.0                    0.0          0.0   \n",
       "36               1.0              1.0                    0.0          1.0   \n",
       "72               1.0              0.5                    1.0          0.5   \n",
       "142              0.0              1.0                    1.0          1.0   \n",
       "143              1.0              0.0                    1.0          0.5   \n",
       "144              0.5              1.0                    0.5          1.0   \n",
       "145              0.5              0.0                    1.0          0.5   \n",
       "146              0.5              0.5                    0.5          1.0   \n",
       "147              0.5              0.5                    0.5          0.5   \n",
       "148              1.0              0.5                    1.0          1.0   \n",
       "149              0.5              1.0                    1.0          0.5   \n",
       "150              0.5              0.0                    1.0          0.5   \n",
       "151              1.0              1.0                    1.0          0.5   \n",
       "152              1.0              1.0                    1.0          1.0   \n",
       "153              0.0              0.5                    1.0          1.0   \n",
       "154              0.5              0.0                    1.0          1.0   \n",
       "155              0.5              1.0                    0.0          0.5   \n",
       "156              0.5              0.0                    1.0          0.5   \n",
       "157              0.0              0.5                    1.0          0.5   \n",
       "158              0.5              1.0                    0.5          0.5   \n",
       "159              0.5              1.0                    0.5          0.5   \n",
       "160              0.5              1.0                    0.5          0.5   \n",
       "161              0.5              0.5                    0.0          1.0   \n",
       "171              0.0              1.0                    0.0          1.0   \n",
       "174              0.0              0.5                    0.0          0.5   \n",
       "185              0.0              0.5                    0.0          0.5   \n",
       "190              0.0              0.5                    0.5          0.0   \n",
       "192              0.5              1.0                    0.0          0.0   \n",
       "194              0.0              1.0                    0.5          0.0   \n",
       "\n",
       "     competitiveness  operating_risk           class  \n",
       "27               0.0             1.0      bankruptcy  \n",
       "36               0.0             0.0      bankruptcy  \n",
       "72               0.0             0.0      bankruptcy  \n",
       "142              0.5             1.0  non-bankruptcy  \n",
       "143              1.0             0.5  non-bankruptcy  \n",
       "144              1.0             0.5  non-bankruptcy  \n",
       "145              0.5             0.5  non-bankruptcy  \n",
       "146              0.5             0.0  non-bankruptcy  \n",
       "147              1.0             1.0  non-bankruptcy  \n",
       "148              1.0             1.0  non-bankruptcy  \n",
       "149              1.0             1.0  non-bankruptcy  \n",
       "150              1.0             1.0  non-bankruptcy  \n",
       "151              1.0             0.0  non-bankruptcy  \n",
       "152              1.0             0.0  non-bankruptcy  \n",
       "153              1.0             1.0  non-bankruptcy  \n",
       "154              1.0             1.0  non-bankruptcy  \n",
       "155              1.0             0.0  non-bankruptcy  \n",
       "156              1.0             0.0  non-bankruptcy  \n",
       "157              1.0             1.0  non-bankruptcy  \n",
       "158              1.0             0.0  non-bankruptcy  \n",
       "159              1.0             1.0  non-bankruptcy  \n",
       "160              1.0             0.5  non-bankruptcy  \n",
       "161              1.0             0.5  non-bankruptcy  \n",
       "171              1.0             0.5  non-bankruptcy  \n",
       "174              1.0             1.0  non-bankruptcy  \n",
       "185              1.0             0.5  non-bankruptcy  \n",
       "190              1.0             0.0  non-bankruptcy  \n",
       "192              1.0             0.0  non-bankruptcy  \n",
       "194              0.5             0.0  non-bankruptcy  "
      ]
     },
     "execution_count": 14,
     "metadata": {},
     "output_type": "execute_result"
    }
   ],
   "source": [
    "bank_unique_records"
   ]
  },
  {
   "cell_type": "code",
   "execution_count": 15,
   "id": "1ee62d53",
   "metadata": {},
   "outputs": [],
   "source": [
    "bank_final= df.copy()"
   ]
  },
  {
   "cell_type": "code",
   "execution_count": 16,
   "id": "c26477b0",
   "metadata": {},
   "outputs": [
    {
     "data": {
      "text/plain": [
       "(250, 7)"
      ]
     },
     "execution_count": 16,
     "metadata": {},
     "output_type": "execute_result"
    }
   ],
   "source": [
    "bank_final.shape"
   ]
  },
  {
   "cell_type": "code",
   "execution_count": 17,
   "id": "a2df2855",
   "metadata": {},
   "outputs": [
    {
     "data": {
      "text/html": [
       "<div>\n",
       "<style scoped>\n",
       "    .dataframe tbody tr th:only-of-type {\n",
       "        vertical-align: middle;\n",
       "    }\n",
       "\n",
       "    .dataframe tbody tr th {\n",
       "        vertical-align: top;\n",
       "    }\n",
       "\n",
       "    .dataframe thead th {\n",
       "        text-align: right;\n",
       "    }\n",
       "</style>\n",
       "<table border=\"1\" class=\"dataframe\">\n",
       "  <thead>\n",
       "    <tr style=\"text-align: right;\">\n",
       "      <th></th>\n",
       "      <th>industrial_risk</th>\n",
       "      <th>management_risk</th>\n",
       "      <th>financial_flexibility</th>\n",
       "      <th>credibility</th>\n",
       "      <th>competitiveness</th>\n",
       "      <th>operating_risk</th>\n",
       "      <th>class</th>\n",
       "    </tr>\n",
       "  </thead>\n",
       "  <tbody>\n",
       "    <tr>\n",
       "      <th>0</th>\n",
       "      <td>0.5</td>\n",
       "      <td>1.0</td>\n",
       "      <td>0.0</td>\n",
       "      <td>0.0</td>\n",
       "      <td>0.0</td>\n",
       "      <td>0.5</td>\n",
       "      <td>0</td>\n",
       "    </tr>\n",
       "    <tr>\n",
       "      <th>1</th>\n",
       "      <td>0.0</td>\n",
       "      <td>1.0</td>\n",
       "      <td>0.0</td>\n",
       "      <td>0.0</td>\n",
       "      <td>0.0</td>\n",
       "      <td>1.0</td>\n",
       "      <td>0</td>\n",
       "    </tr>\n",
       "    <tr>\n",
       "      <th>2</th>\n",
       "      <td>1.0</td>\n",
       "      <td>0.0</td>\n",
       "      <td>0.0</td>\n",
       "      <td>0.0</td>\n",
       "      <td>0.0</td>\n",
       "      <td>1.0</td>\n",
       "      <td>0</td>\n",
       "    </tr>\n",
       "    <tr>\n",
       "      <th>3</th>\n",
       "      <td>0.5</td>\n",
       "      <td>0.0</td>\n",
       "      <td>0.0</td>\n",
       "      <td>0.5</td>\n",
       "      <td>0.0</td>\n",
       "      <td>1.0</td>\n",
       "      <td>0</td>\n",
       "    </tr>\n",
       "    <tr>\n",
       "      <th>4</th>\n",
       "      <td>1.0</td>\n",
       "      <td>1.0</td>\n",
       "      <td>0.0</td>\n",
       "      <td>0.0</td>\n",
       "      <td>0.0</td>\n",
       "      <td>1.0</td>\n",
       "      <td>0</td>\n",
       "    </tr>\n",
       "    <tr>\n",
       "      <th>...</th>\n",
       "      <td>...</td>\n",
       "      <td>...</td>\n",
       "      <td>...</td>\n",
       "      <td>...</td>\n",
       "      <td>...</td>\n",
       "      <td>...</td>\n",
       "      <td>...</td>\n",
       "    </tr>\n",
       "    <tr>\n",
       "      <th>245</th>\n",
       "      <td>0.0</td>\n",
       "      <td>1.0</td>\n",
       "      <td>1.0</td>\n",
       "      <td>1.0</td>\n",
       "      <td>1.0</td>\n",
       "      <td>1.0</td>\n",
       "      <td>1</td>\n",
       "    </tr>\n",
       "    <tr>\n",
       "      <th>246</th>\n",
       "      <td>1.0</td>\n",
       "      <td>1.0</td>\n",
       "      <td>0.5</td>\n",
       "      <td>1.0</td>\n",
       "      <td>1.0</td>\n",
       "      <td>0.0</td>\n",
       "      <td>1</td>\n",
       "    </tr>\n",
       "    <tr>\n",
       "      <th>247</th>\n",
       "      <td>0.0</td>\n",
       "      <td>1.0</td>\n",
       "      <td>1.0</td>\n",
       "      <td>0.5</td>\n",
       "      <td>0.5</td>\n",
       "      <td>0.0</td>\n",
       "      <td>1</td>\n",
       "    </tr>\n",
       "    <tr>\n",
       "      <th>248</th>\n",
       "      <td>1.0</td>\n",
       "      <td>0.0</td>\n",
       "      <td>0.5</td>\n",
       "      <td>1.0</td>\n",
       "      <td>0.5</td>\n",
       "      <td>0.0</td>\n",
       "      <td>1</td>\n",
       "    </tr>\n",
       "    <tr>\n",
       "      <th>249</th>\n",
       "      <td>1.0</td>\n",
       "      <td>0.0</td>\n",
       "      <td>0.5</td>\n",
       "      <td>0.5</td>\n",
       "      <td>1.0</td>\n",
       "      <td>1.0</td>\n",
       "      <td>1</td>\n",
       "    </tr>\n",
       "  </tbody>\n",
       "</table>\n",
       "<p>250 rows × 7 columns</p>\n",
       "</div>"
      ],
      "text/plain": [
       "     industrial_risk  management_risk  financial_flexibility  credibility  \\\n",
       "0                0.5              1.0                    0.0          0.0   \n",
       "1                0.0              1.0                    0.0          0.0   \n",
       "2                1.0              0.0                    0.0          0.0   \n",
       "3                0.5              0.0                    0.0          0.5   \n",
       "4                1.0              1.0                    0.0          0.0   \n",
       "..               ...              ...                    ...          ...   \n",
       "245              0.0              1.0                    1.0          1.0   \n",
       "246              1.0              1.0                    0.5          1.0   \n",
       "247              0.0              1.0                    1.0          0.5   \n",
       "248              1.0              0.0                    0.5          1.0   \n",
       "249              1.0              0.0                    0.5          0.5   \n",
       "\n",
       "     competitiveness  operating_risk  class  \n",
       "0                0.0             0.5      0  \n",
       "1                0.0             1.0      0  \n",
       "2                0.0             1.0      0  \n",
       "3                0.0             1.0      0  \n",
       "4                0.0             1.0      0  \n",
       "..               ...             ...    ...  \n",
       "245              1.0             1.0      1  \n",
       "246              1.0             0.0      1  \n",
       "247              0.5             0.0      1  \n",
       "248              0.5             0.0      1  \n",
       "249              1.0             1.0      1  \n",
       "\n",
       "[250 rows x 7 columns]"
      ]
     },
     "execution_count": 17,
     "metadata": {},
     "output_type": "execute_result"
    }
   ],
   "source": [
    "# Label Encoding\n",
    "encode = LabelEncoder()\n",
    "bank_final['class'] = encode.fit_transform(bank_final['class'])\n",
    "bank_final\n",
    "# 0-bankruptcy & 1-Non bankruptcy"
   ]
  },
  {
   "cell_type": "markdown",
   "id": "51923da6",
   "metadata": {},
   "source": [
    "# Visualization"
   ]
  },
  {
   "cell_type": "markdown",
   "id": "7f1990f9",
   "metadata": {},
   "source": [
    "## Heatmap"
   ]
  },
  {
   "cell_type": "code",
   "execution_count": 18,
   "id": "88360457",
   "metadata": {},
   "outputs": [
    {
     "data": {
      "text/html": [
       "<div>\n",
       "<style scoped>\n",
       "    .dataframe tbody tr th:only-of-type {\n",
       "        vertical-align: middle;\n",
       "    }\n",
       "\n",
       "    .dataframe tbody tr th {\n",
       "        vertical-align: top;\n",
       "    }\n",
       "\n",
       "    .dataframe thead th {\n",
       "        text-align: right;\n",
       "    }\n",
       "</style>\n",
       "<table border=\"1\" class=\"dataframe\">\n",
       "  <thead>\n",
       "    <tr style=\"text-align: right;\">\n",
       "      <th></th>\n",
       "      <th>industrial_risk</th>\n",
       "      <th>management_risk</th>\n",
       "      <th>financial_flexibility</th>\n",
       "      <th>credibility</th>\n",
       "      <th>competitiveness</th>\n",
       "      <th>operating_risk</th>\n",
       "      <th>class</th>\n",
       "    </tr>\n",
       "  </thead>\n",
       "  <tbody>\n",
       "    <tr>\n",
       "      <th>industrial_risk</th>\n",
       "      <td>1.000000</td>\n",
       "      <td>0.255127</td>\n",
       "      <td>-0.162624</td>\n",
       "      <td>-0.014438</td>\n",
       "      <td>-0.257814</td>\n",
       "      <td>0.144507</td>\n",
       "      <td>-0.227823</td>\n",
       "    </tr>\n",
       "    <tr>\n",
       "      <th>management_risk</th>\n",
       "      <td>0.255127</td>\n",
       "      <td>1.000000</td>\n",
       "      <td>-0.254845</td>\n",
       "      <td>-0.303341</td>\n",
       "      <td>-0.306568</td>\n",
       "      <td>0.213874</td>\n",
       "      <td>-0.370838</td>\n",
       "    </tr>\n",
       "    <tr>\n",
       "      <th>financial_flexibility</th>\n",
       "      <td>-0.162624</td>\n",
       "      <td>-0.254845</td>\n",
       "      <td>1.000000</td>\n",
       "      <td>0.524951</td>\n",
       "      <td>0.686612</td>\n",
       "      <td>-0.116903</td>\n",
       "      <td>0.751020</td>\n",
       "    </tr>\n",
       "    <tr>\n",
       "      <th>credibility</th>\n",
       "      <td>-0.014438</td>\n",
       "      <td>-0.303341</td>\n",
       "      <td>0.524951</td>\n",
       "      <td>1.000000</td>\n",
       "      <td>0.675689</td>\n",
       "      <td>-0.288458</td>\n",
       "      <td>0.755909</td>\n",
       "    </tr>\n",
       "    <tr>\n",
       "      <th>competitiveness</th>\n",
       "      <td>-0.257814</td>\n",
       "      <td>-0.306568</td>\n",
       "      <td>0.686612</td>\n",
       "      <td>0.675689</td>\n",
       "      <td>1.000000</td>\n",
       "      <td>-0.211383</td>\n",
       "      <td>0.899452</td>\n",
       "    </tr>\n",
       "    <tr>\n",
       "      <th>operating_risk</th>\n",
       "      <td>0.144507</td>\n",
       "      <td>0.213874</td>\n",
       "      <td>-0.116903</td>\n",
       "      <td>-0.288458</td>\n",
       "      <td>-0.211383</td>\n",
       "      <td>1.000000</td>\n",
       "      <td>-0.279786</td>\n",
       "    </tr>\n",
       "    <tr>\n",
       "      <th>class</th>\n",
       "      <td>-0.227823</td>\n",
       "      <td>-0.370838</td>\n",
       "      <td>0.751020</td>\n",
       "      <td>0.755909</td>\n",
       "      <td>0.899452</td>\n",
       "      <td>-0.279786</td>\n",
       "      <td>1.000000</td>\n",
       "    </tr>\n",
       "  </tbody>\n",
       "</table>\n",
       "</div>"
      ],
      "text/plain": [
       "                       industrial_risk  management_risk  \\\n",
       "industrial_risk               1.000000         0.255127   \n",
       "management_risk               0.255127         1.000000   \n",
       "financial_flexibility        -0.162624        -0.254845   \n",
       "credibility                  -0.014438        -0.303341   \n",
       "competitiveness              -0.257814        -0.306568   \n",
       "operating_risk                0.144507         0.213874   \n",
       "class                        -0.227823        -0.370838   \n",
       "\n",
       "                       financial_flexibility  credibility  competitiveness  \\\n",
       "industrial_risk                    -0.162624    -0.014438        -0.257814   \n",
       "management_risk                    -0.254845    -0.303341        -0.306568   \n",
       "financial_flexibility               1.000000     0.524951         0.686612   \n",
       "credibility                         0.524951     1.000000         0.675689   \n",
       "competitiveness                     0.686612     0.675689         1.000000   \n",
       "operating_risk                     -0.116903    -0.288458        -0.211383   \n",
       "class                               0.751020     0.755909         0.899452   \n",
       "\n",
       "                       operating_risk     class  \n",
       "industrial_risk              0.144507 -0.227823  \n",
       "management_risk              0.213874 -0.370838  \n",
       "financial_flexibility       -0.116903  0.751020  \n",
       "credibility                 -0.288458  0.755909  \n",
       "competitiveness             -0.211383  0.899452  \n",
       "operating_risk               1.000000 -0.279786  \n",
       "class                       -0.279786  1.000000  "
      ]
     },
     "execution_count": 18,
     "metadata": {},
     "output_type": "execute_result"
    }
   ],
   "source": [
    "bank_final.corr()"
   ]
  },
  {
   "cell_type": "code",
   "execution_count": 19,
   "id": "a5c4cc5e",
   "metadata": {},
   "outputs": [
    {
     "data": {
      "image/png": "[encoded data removed]",
      "text/plain": [
       "<Figure size 720x432 with 2 Axes>"
      ]
     },
     "metadata": {
      "needs_background": "light"
     },
     "output_type": "display_data"
    }
   ],
   "source": [
    "plt.figure(figsize=(10,6))\n",
    "sns.heatmap(bank_final.corr(),cbar=True,annot=True,cmap='Greens')\n",
    "plt.show()"
   ]
  },
  {
   "cell_type": "markdown",
   "id": "ff8e2c51",
   "metadata": {},
   "source": [
    "#### From above correlation matrix we can say that:\n",
    "\n",
    "1.industrial_risk,management_risk, operating_risk are negatively correlated with target variable.\n",
    "\n",
    "2.financial_flexibility, credibility, competitiveness are positively correlated with target variable.\n",
    "\n",
    "3.competitiveness is highly correlated with target varable."
   ]
  },
  {
   "cell_type": "markdown",
   "id": "9b59e42b",
   "metadata": {},
   "source": [
    "## Boxplot "
   ]
  },
  {
   "cell_type": "code",
   "execution_count": 20,
   "id": "ab2b2322",
   "metadata": {},
   "outputs": [
    {
     "data": {
      "text/plain": [
       "<AxesSubplot:xlabel='class', ylabel='competitiveness'>"
      ]
     },
     "execution_count": 20,
     "metadata": {},
     "output_type": "execute_result"
    },
    {
     "data": {
      "image/png": "[encoded data removed]",
      "text/plain": [
       "<Figure size 432x288 with 1 Axes>"
      ]
     },
     "metadata": {
      "needs_background": "light"
     },
     "output_type": "display_data"
    }
   ],
   "source": [
    "sns.boxplot(x='class',y='competitiveness',hue='class',data=bank_final)"
   ]
  },
  {
   "cell_type": "code",
   "execution_count": 21,
   "id": "6ead49e5",
   "metadata": {},
   "outputs": [
    {
     "data": {
      "text/plain": [
       "<AxesSubplot:>"
      ]
     },
     "execution_count": 21,
     "metadata": {},
     "output_type": "execute_result"
    },
    {
     "data": {
      "image/png": "[encoded data removed]",
      "text/plain": [
       "<Figure size 1080x360 with 1 Axes>"
      ]
     },
     "metadata": {
      "needs_background": "light"
     },
     "output_type": "display_data"
    }
   ],
   "source": [
    "plt.figure(figsize=(15,5))\n",
    "sns.boxplot(data = bank_final, palette=sns.color_palette(\"ch:2,r=.2,l=.6\"))"
   ]
  },
  {
   "cell_type": "markdown",
   "id": "1bea4d50",
   "metadata": {},
   "source": [
    "## Countplot for class"
   ]
  },
  {
   "cell_type": "code",
   "execution_count": 22,
   "id": "e697f2b9",
   "metadata": {},
   "outputs": [
    {
     "data": {
      "image/png": "[encoded data removed]",
      "text/plain": [
       "<Figure size 432x360 with 1 Axes>"
      ]
     },
     "metadata": {
      "needs_background": "light"
     },
     "output_type": "display_data"
    }
   ],
   "source": [
    "plt.figure(figsize=(6,5))\n",
    "sns.countplot(x=bank_final['class'], palette='icefire', linewidth=5)\n",
    "plt.show()"
   ]
  },
  {
   "cell_type": "markdown",
   "id": "f230becf",
   "metadata": {},
   "source": [
    "## Countplot"
   ]
  },
  {
   "cell_type": "code",
   "execution_count": 23,
   "id": "116a7e33",
   "metadata": {},
   "outputs": [
    {
     "data": {
      "image/png": "[encoded data removed]",
      "text/plain": [
       "<Figure size 864x864 with 6 Axes>"
      ]
     },
     "metadata": {
      "needs_background": "light"
     },
     "output_type": "display_data"
    }
   ],
   "source": [
    "plt.figure(figsize=(12, 12))\n",
    "for i, predictor in enumerate(bank_final.drop(columns = ['class'])):\n",
    "    ax = plt.subplot(3, 2, i + 1)\n",
    "    sns.countplot(data=bank_final, x=predictor, hue='class')\n",
    "plt.show()"
   ]
  },
  {
   "cell_type": "markdown",
   "id": "b17c5f92",
   "metadata": {},
   "source": [
    "## Piechart"
   ]
  },
  {
   "cell_type": "code",
   "execution_count": 24,
   "id": "708f0d06",
   "metadata": {},
   "outputs": [
    {
     "data": {
      "image/png": "[encoded data removed]",
      "text/plain": [
       "<Figure size 864x432 with 1 Axes>"
      ]
     },
     "metadata": {},
     "output_type": "display_data"
    }
   ],
   "source": [
    "plt.figure(figsize=(12,6))\n",
    "bank_final['class'].value_counts().plot(kind=\"pie\",autopct=\"%1.2f%%\")\n",
    "plt.show()"
   ]
  },
  {
   "cell_type": "markdown",
   "id": "6693a516",
   "metadata": {},
   "source": [
    "## Pairplot"
   ]
  },
  {
   "cell_type": "code",
   "execution_count": 25,
   "id": "50dca347",
   "metadata": {},
   "outputs": [
    {
     "data": {
      "text/plain": [
       "<Figure size 1440x3600 with 0 Axes>"
      ]
     },
     "metadata": {},
     "output_type": "display_data"
    },
    {
     "data": {
      "image/png": "[encoded data removed]",
      "text/plain": [
       "<Figure size 1122.38x1080 with 27 Axes>"
      ]
     },
     "metadata": {
      "needs_background": "light"
     },
     "output_type": "display_data"
    }
   ],
   "source": [
    "plt.figure(figsize=(20,50))\n",
    "sns.pairplot(data = bank_final, hue = 'class', markers=['o', 'D'], corner=True)\n",
    "plt.show()"
   ]
  },
  {
   "cell_type": "code",
   "execution_count": 26,
   "id": "f7a56dbd",
   "metadata": {},
   "outputs": [
    {
     "data": {
      "text/html": [
       "<div>\n",
       "<style scoped>\n",
       "    .dataframe tbody tr th:only-of-type {\n",
       "        vertical-align: middle;\n",
       "    }\n",
       "\n",
       "    .dataframe tbody tr th {\n",
       "        vertical-align: top;\n",
       "    }\n",
       "\n",
       "    .dataframe thead th {\n",
       "        text-align: right;\n",
       "    }\n",
       "</style>\n",
       "<table border=\"1\" class=\"dataframe\">\n",
       "  <thead>\n",
       "    <tr style=\"text-align: right;\">\n",
       "      <th></th>\n",
       "      <th>industrial_risk</th>\n",
       "      <th>management_risk</th>\n",
       "      <th>financial_flexibility</th>\n",
       "      <th>credibility</th>\n",
       "      <th>competitiveness</th>\n",
       "      <th>operating_risk</th>\n",
       "      <th>class</th>\n",
       "    </tr>\n",
       "  </thead>\n",
       "  <tbody>\n",
       "    <tr>\n",
       "      <th>0</th>\n",
       "      <td>0.5</td>\n",
       "      <td>1.0</td>\n",
       "      <td>0.0</td>\n",
       "      <td>0.0</td>\n",
       "      <td>0.0</td>\n",
       "      <td>0.5</td>\n",
       "      <td>0</td>\n",
       "    </tr>\n",
       "    <tr>\n",
       "      <th>1</th>\n",
       "      <td>0.0</td>\n",
       "      <td>1.0</td>\n",
       "      <td>0.0</td>\n",
       "      <td>0.0</td>\n",
       "      <td>0.0</td>\n",
       "      <td>1.0</td>\n",
       "      <td>0</td>\n",
       "    </tr>\n",
       "    <tr>\n",
       "      <th>2</th>\n",
       "      <td>1.0</td>\n",
       "      <td>0.0</td>\n",
       "      <td>0.0</td>\n",
       "      <td>0.0</td>\n",
       "      <td>0.0</td>\n",
       "      <td>1.0</td>\n",
       "      <td>0</td>\n",
       "    </tr>\n",
       "    <tr>\n",
       "      <th>3</th>\n",
       "      <td>0.5</td>\n",
       "      <td>0.0</td>\n",
       "      <td>0.0</td>\n",
       "      <td>0.5</td>\n",
       "      <td>0.0</td>\n",
       "      <td>1.0</td>\n",
       "      <td>0</td>\n",
       "    </tr>\n",
       "    <tr>\n",
       "      <th>4</th>\n",
       "      <td>1.0</td>\n",
       "      <td>1.0</td>\n",
       "      <td>0.0</td>\n",
       "      <td>0.0</td>\n",
       "      <td>0.0</td>\n",
       "      <td>1.0</td>\n",
       "      <td>0</td>\n",
       "    </tr>\n",
       "    <tr>\n",
       "      <th>...</th>\n",
       "      <td>...</td>\n",
       "      <td>...</td>\n",
       "      <td>...</td>\n",
       "      <td>...</td>\n",
       "      <td>...</td>\n",
       "      <td>...</td>\n",
       "      <td>...</td>\n",
       "    </tr>\n",
       "    <tr>\n",
       "      <th>101</th>\n",
       "      <td>1.0</td>\n",
       "      <td>1.0</td>\n",
       "      <td>0.0</td>\n",
       "      <td>0.5</td>\n",
       "      <td>0.0</td>\n",
       "      <td>1.0</td>\n",
       "      <td>0</td>\n",
       "    </tr>\n",
       "    <tr>\n",
       "      <th>102</th>\n",
       "      <td>1.0</td>\n",
       "      <td>1.0</td>\n",
       "      <td>0.5</td>\n",
       "      <td>0.0</td>\n",
       "      <td>0.0</td>\n",
       "      <td>1.0</td>\n",
       "      <td>0</td>\n",
       "    </tr>\n",
       "    <tr>\n",
       "      <th>103</th>\n",
       "      <td>0.0</td>\n",
       "      <td>1.0</td>\n",
       "      <td>0.0</td>\n",
       "      <td>0.0</td>\n",
       "      <td>0.0</td>\n",
       "      <td>1.0</td>\n",
       "      <td>0</td>\n",
       "    </tr>\n",
       "    <tr>\n",
       "      <th>104</th>\n",
       "      <td>0.5</td>\n",
       "      <td>1.0</td>\n",
       "      <td>0.0</td>\n",
       "      <td>0.0</td>\n",
       "      <td>0.0</td>\n",
       "      <td>1.0</td>\n",
       "      <td>0</td>\n",
       "    </tr>\n",
       "    <tr>\n",
       "      <th>105</th>\n",
       "      <td>1.0</td>\n",
       "      <td>1.0</td>\n",
       "      <td>0.0</td>\n",
       "      <td>0.0</td>\n",
       "      <td>0.0</td>\n",
       "      <td>1.0</td>\n",
       "      <td>0</td>\n",
       "    </tr>\n",
       "  </tbody>\n",
       "</table>\n",
       "<p>103 rows × 7 columns</p>\n",
       "</div>"
      ],
      "text/plain": [
       "     industrial_risk  management_risk  financial_flexibility  credibility  \\\n",
       "0                0.5              1.0                    0.0          0.0   \n",
       "1                0.0              1.0                    0.0          0.0   \n",
       "2                1.0              0.0                    0.0          0.0   \n",
       "3                0.5              0.0                    0.0          0.5   \n",
       "4                1.0              1.0                    0.0          0.0   \n",
       "..               ...              ...                    ...          ...   \n",
       "101              1.0              1.0                    0.0          0.5   \n",
       "102              1.0              1.0                    0.5          0.0   \n",
       "103              0.0              1.0                    0.0          0.0   \n",
       "104              0.5              1.0                    0.0          0.0   \n",
       "105              1.0              1.0                    0.0          0.0   \n",
       "\n",
       "     competitiveness  operating_risk  class  \n",
       "0                0.0             0.5      0  \n",
       "1                0.0             1.0      0  \n",
       "2                0.0             1.0      0  \n",
       "3                0.0             1.0      0  \n",
       "4                0.0             1.0      0  \n",
       "..               ...             ...    ...  \n",
       "101              0.0             1.0      0  \n",
       "102              0.0             1.0      0  \n",
       "103              0.0             1.0      0  \n",
       "104              0.0             1.0      0  \n",
       "105              0.0             1.0      0  \n",
       "\n",
       "[103 rows x 7 columns]"
      ]
     },
     "execution_count": 26,
     "metadata": {},
     "output_type": "execute_result"
    }
   ],
   "source": [
    "bank_final[bank_final.competitiveness==0]"
   ]
  },
  {
   "cell_type": "code",
   "execution_count": 27,
   "id": "719036c5",
   "metadata": {},
   "outputs": [
    {
     "data": {
      "text/html": [
       "<div>\n",
       "<style scoped>\n",
       "    .dataframe tbody tr th:only-of-type {\n",
       "        vertical-align: middle;\n",
       "    }\n",
       "\n",
       "    .dataframe tbody tr th {\n",
       "        vertical-align: top;\n",
       "    }\n",
       "\n",
       "    .dataframe thead th {\n",
       "        text-align: right;\n",
       "    }\n",
       "</style>\n",
       "<table border=\"1\" class=\"dataframe\">\n",
       "  <thead>\n",
       "    <tr style=\"text-align: right;\">\n",
       "      <th></th>\n",
       "      <th>industrial_risk</th>\n",
       "      <th>management_risk</th>\n",
       "      <th>financial_flexibility</th>\n",
       "      <th>credibility</th>\n",
       "      <th>competitiveness</th>\n",
       "      <th>operating_risk</th>\n",
       "      <th>class</th>\n",
       "    </tr>\n",
       "  </thead>\n",
       "  <tbody>\n",
       "    <tr>\n",
       "      <th>14</th>\n",
       "      <td>0.0</td>\n",
       "      <td>1.0</td>\n",
       "      <td>0.0</td>\n",
       "      <td>0.0</td>\n",
       "      <td>0.5</td>\n",
       "      <td>0.5</td>\n",
       "      <td>0</td>\n",
       "    </tr>\n",
       "    <tr>\n",
       "      <th>48</th>\n",
       "      <td>0.0</td>\n",
       "      <td>1.0</td>\n",
       "      <td>0.0</td>\n",
       "      <td>0.0</td>\n",
       "      <td>0.5</td>\n",
       "      <td>0.5</td>\n",
       "      <td>0</td>\n",
       "    </tr>\n",
       "    <tr>\n",
       "      <th>49</th>\n",
       "      <td>0.0</td>\n",
       "      <td>1.0</td>\n",
       "      <td>0.0</td>\n",
       "      <td>0.0</td>\n",
       "      <td>0.5</td>\n",
       "      <td>0.5</td>\n",
       "      <td>0</td>\n",
       "    </tr>\n",
       "    <tr>\n",
       "      <th>106</th>\n",
       "      <td>0.0</td>\n",
       "      <td>1.0</td>\n",
       "      <td>0.0</td>\n",
       "      <td>0.0</td>\n",
       "      <td>0.5</td>\n",
       "      <td>0.5</td>\n",
       "      <td>0</td>\n",
       "    </tr>\n",
       "    <tr>\n",
       "      <th>107</th>\n",
       "      <td>0.0</td>\n",
       "      <td>0.0</td>\n",
       "      <td>0.5</td>\n",
       "      <td>0.5</td>\n",
       "      <td>0.5</td>\n",
       "      <td>0.0</td>\n",
       "      <td>1</td>\n",
       "    </tr>\n",
       "    <tr>\n",
       "      <th>108</th>\n",
       "      <td>1.0</td>\n",
       "      <td>1.0</td>\n",
       "      <td>0.5</td>\n",
       "      <td>0.5</td>\n",
       "      <td>0.5</td>\n",
       "      <td>1.0</td>\n",
       "      <td>1</td>\n",
       "    </tr>\n",
       "    <tr>\n",
       "      <th>109</th>\n",
       "      <td>0.5</td>\n",
       "      <td>0.5</td>\n",
       "      <td>0.5</td>\n",
       "      <td>0.5</td>\n",
       "      <td>0.5</td>\n",
       "      <td>0.5</td>\n",
       "      <td>1</td>\n",
       "    </tr>\n",
       "    <tr>\n",
       "      <th>114</th>\n",
       "      <td>0.0</td>\n",
       "      <td>0.0</td>\n",
       "      <td>1.0</td>\n",
       "      <td>0.5</td>\n",
       "      <td>0.5</td>\n",
       "      <td>0.0</td>\n",
       "      <td>1</td>\n",
       "    </tr>\n",
       "    <tr>\n",
       "      <th>115</th>\n",
       "      <td>0.0</td>\n",
       "      <td>0.0</td>\n",
       "      <td>0.5</td>\n",
       "      <td>1.0</td>\n",
       "      <td>0.5</td>\n",
       "      <td>0.0</td>\n",
       "      <td>1</td>\n",
       "    </tr>\n",
       "    <tr>\n",
       "      <th>117</th>\n",
       "      <td>0.0</td>\n",
       "      <td>0.0</td>\n",
       "      <td>1.0</td>\n",
       "      <td>1.0</td>\n",
       "      <td>0.5</td>\n",
       "      <td>0.0</td>\n",
       "      <td>1</td>\n",
       "    </tr>\n",
       "    <tr>\n",
       "      <th>120</th>\n",
       "      <td>1.0</td>\n",
       "      <td>1.0</td>\n",
       "      <td>1.0</td>\n",
       "      <td>0.5</td>\n",
       "      <td>0.5</td>\n",
       "      <td>1.0</td>\n",
       "      <td>1</td>\n",
       "    </tr>\n",
       "    <tr>\n",
       "      <th>121</th>\n",
       "      <td>1.0</td>\n",
       "      <td>1.0</td>\n",
       "      <td>0.5</td>\n",
       "      <td>1.0</td>\n",
       "      <td>0.5</td>\n",
       "      <td>1.0</td>\n",
       "      <td>1</td>\n",
       "    </tr>\n",
       "    <tr>\n",
       "      <th>122</th>\n",
       "      <td>1.0</td>\n",
       "      <td>1.0</td>\n",
       "      <td>0.5</td>\n",
       "      <td>1.0</td>\n",
       "      <td>0.5</td>\n",
       "      <td>1.0</td>\n",
       "      <td>1</td>\n",
       "    </tr>\n",
       "    <tr>\n",
       "      <th>124</th>\n",
       "      <td>1.0</td>\n",
       "      <td>1.0</td>\n",
       "      <td>1.0</td>\n",
       "      <td>1.0</td>\n",
       "      <td>0.5</td>\n",
       "      <td>1.0</td>\n",
       "      <td>1</td>\n",
       "    </tr>\n",
       "    <tr>\n",
       "      <th>127</th>\n",
       "      <td>0.5</td>\n",
       "      <td>0.5</td>\n",
       "      <td>1.0</td>\n",
       "      <td>0.5</td>\n",
       "      <td>0.5</td>\n",
       "      <td>0.5</td>\n",
       "      <td>1</td>\n",
       "    </tr>\n",
       "    <tr>\n",
       "      <th>128</th>\n",
       "      <td>0.5</td>\n",
       "      <td>0.5</td>\n",
       "      <td>0.5</td>\n",
       "      <td>1.0</td>\n",
       "      <td>0.5</td>\n",
       "      <td>0.5</td>\n",
       "      <td>1</td>\n",
       "    </tr>\n",
       "    <tr>\n",
       "      <th>130</th>\n",
       "      <td>0.5</td>\n",
       "      <td>0.5</td>\n",
       "      <td>1.0</td>\n",
       "      <td>1.0</td>\n",
       "      <td>0.5</td>\n",
       "      <td>0.5</td>\n",
       "      <td>1</td>\n",
       "    </tr>\n",
       "    <tr>\n",
       "      <th>132</th>\n",
       "      <td>0.0</td>\n",
       "      <td>1.0</td>\n",
       "      <td>0.5</td>\n",
       "      <td>0.5</td>\n",
       "      <td>0.5</td>\n",
       "      <td>0.0</td>\n",
       "      <td>1</td>\n",
       "    </tr>\n",
       "    <tr>\n",
       "      <th>133</th>\n",
       "      <td>1.0</td>\n",
       "      <td>0.0</td>\n",
       "      <td>0.5</td>\n",
       "      <td>0.5</td>\n",
       "      <td>0.5</td>\n",
       "      <td>1.0</td>\n",
       "      <td>1</td>\n",
       "    </tr>\n",
       "    <tr>\n",
       "      <th>134</th>\n",
       "      <td>0.0</td>\n",
       "      <td>1.0</td>\n",
       "      <td>0.5</td>\n",
       "      <td>0.5</td>\n",
       "      <td>0.5</td>\n",
       "      <td>1.0</td>\n",
       "      <td>1</td>\n",
       "    </tr>\n",
       "    <tr>\n",
       "      <th>139</th>\n",
       "      <td>0.0</td>\n",
       "      <td>1.0</td>\n",
       "      <td>1.0</td>\n",
       "      <td>0.5</td>\n",
       "      <td>0.5</td>\n",
       "      <td>0.0</td>\n",
       "      <td>1</td>\n",
       "    </tr>\n",
       "    <tr>\n",
       "      <th>140</th>\n",
       "      <td>1.0</td>\n",
       "      <td>0.0</td>\n",
       "      <td>0.5</td>\n",
       "      <td>1.0</td>\n",
       "      <td>0.5</td>\n",
       "      <td>0.0</td>\n",
       "      <td>1</td>\n",
       "    </tr>\n",
       "    <tr>\n",
       "      <th>142</th>\n",
       "      <td>0.0</td>\n",
       "      <td>1.0</td>\n",
       "      <td>1.0</td>\n",
       "      <td>1.0</td>\n",
       "      <td>0.5</td>\n",
       "      <td>1.0</td>\n",
       "      <td>1</td>\n",
       "    </tr>\n",
       "    <tr>\n",
       "      <th>145</th>\n",
       "      <td>0.5</td>\n",
       "      <td>0.0</td>\n",
       "      <td>1.0</td>\n",
       "      <td>0.5</td>\n",
       "      <td>0.5</td>\n",
       "      <td>0.5</td>\n",
       "      <td>1</td>\n",
       "    </tr>\n",
       "    <tr>\n",
       "      <th>146</th>\n",
       "      <td>0.5</td>\n",
       "      <td>0.5</td>\n",
       "      <td>0.5</td>\n",
       "      <td>1.0</td>\n",
       "      <td>0.5</td>\n",
       "      <td>0.0</td>\n",
       "      <td>1</td>\n",
       "    </tr>\n",
       "    <tr>\n",
       "      <th>164</th>\n",
       "      <td>0.5</td>\n",
       "      <td>0.0</td>\n",
       "      <td>0.5</td>\n",
       "      <td>0.5</td>\n",
       "      <td>0.5</td>\n",
       "      <td>0.0</td>\n",
       "      <td>1</td>\n",
       "    </tr>\n",
       "    <tr>\n",
       "      <th>181</th>\n",
       "      <td>0.5</td>\n",
       "      <td>0.5</td>\n",
       "      <td>0.5</td>\n",
       "      <td>0.5</td>\n",
       "      <td>0.5</td>\n",
       "      <td>0.0</td>\n",
       "      <td>1</td>\n",
       "    </tr>\n",
       "    <tr>\n",
       "      <th>183</th>\n",
       "      <td>0.5</td>\n",
       "      <td>0.0</td>\n",
       "      <td>0.0</td>\n",
       "      <td>1.0</td>\n",
       "      <td>0.5</td>\n",
       "      <td>0.0</td>\n",
       "      <td>1</td>\n",
       "    </tr>\n",
       "    <tr>\n",
       "      <th>184</th>\n",
       "      <td>0.5</td>\n",
       "      <td>0.0</td>\n",
       "      <td>0.5</td>\n",
       "      <td>1.0</td>\n",
       "      <td>0.5</td>\n",
       "      <td>0.0</td>\n",
       "      <td>1</td>\n",
       "    </tr>\n",
       "    <tr>\n",
       "      <th>186</th>\n",
       "      <td>0.5</td>\n",
       "      <td>0.0</td>\n",
       "      <td>0.0</td>\n",
       "      <td>1.0</td>\n",
       "      <td>0.5</td>\n",
       "      <td>0.0</td>\n",
       "      <td>1</td>\n",
       "    </tr>\n",
       "    <tr>\n",
       "      <th>188</th>\n",
       "      <td>0.5</td>\n",
       "      <td>0.0</td>\n",
       "      <td>0.5</td>\n",
       "      <td>1.0</td>\n",
       "      <td>0.5</td>\n",
       "      <td>0.0</td>\n",
       "      <td>1</td>\n",
       "    </tr>\n",
       "    <tr>\n",
       "      <th>191</th>\n",
       "      <td>0.5</td>\n",
       "      <td>0.0</td>\n",
       "      <td>0.5</td>\n",
       "      <td>0.5</td>\n",
       "      <td>0.5</td>\n",
       "      <td>0.0</td>\n",
       "      <td>1</td>\n",
       "    </tr>\n",
       "    <tr>\n",
       "      <th>194</th>\n",
       "      <td>0.0</td>\n",
       "      <td>1.0</td>\n",
       "      <td>0.5</td>\n",
       "      <td>0.0</td>\n",
       "      <td>0.5</td>\n",
       "      <td>0.0</td>\n",
       "      <td>1</td>\n",
       "    </tr>\n",
       "    <tr>\n",
       "      <th>208</th>\n",
       "      <td>0.5</td>\n",
       "      <td>0.5</td>\n",
       "      <td>0.5</td>\n",
       "      <td>0.5</td>\n",
       "      <td>0.5</td>\n",
       "      <td>0.0</td>\n",
       "      <td>1</td>\n",
       "    </tr>\n",
       "    <tr>\n",
       "      <th>210</th>\n",
       "      <td>0.5</td>\n",
       "      <td>0.0</td>\n",
       "      <td>0.0</td>\n",
       "      <td>1.0</td>\n",
       "      <td>0.5</td>\n",
       "      <td>0.0</td>\n",
       "      <td>1</td>\n",
       "    </tr>\n",
       "    <tr>\n",
       "      <th>212</th>\n",
       "      <td>0.5</td>\n",
       "      <td>0.0</td>\n",
       "      <td>0.5</td>\n",
       "      <td>1.0</td>\n",
       "      <td>0.5</td>\n",
       "      <td>0.0</td>\n",
       "      <td>1</td>\n",
       "    </tr>\n",
       "    <tr>\n",
       "      <th>213</th>\n",
       "      <td>0.5</td>\n",
       "      <td>0.0</td>\n",
       "      <td>0.0</td>\n",
       "      <td>1.0</td>\n",
       "      <td>0.5</td>\n",
       "      <td>0.0</td>\n",
       "      <td>1</td>\n",
       "    </tr>\n",
       "    <tr>\n",
       "      <th>214</th>\n",
       "      <td>0.5</td>\n",
       "      <td>0.0</td>\n",
       "      <td>0.5</td>\n",
       "      <td>1.0</td>\n",
       "      <td>0.5</td>\n",
       "      <td>0.0</td>\n",
       "      <td>1</td>\n",
       "    </tr>\n",
       "    <tr>\n",
       "      <th>215</th>\n",
       "      <td>0.0</td>\n",
       "      <td>0.0</td>\n",
       "      <td>0.5</td>\n",
       "      <td>0.5</td>\n",
       "      <td>0.5</td>\n",
       "      <td>0.0</td>\n",
       "      <td>1</td>\n",
       "    </tr>\n",
       "    <tr>\n",
       "      <th>216</th>\n",
       "      <td>1.0</td>\n",
       "      <td>1.0</td>\n",
       "      <td>0.5</td>\n",
       "      <td>0.5</td>\n",
       "      <td>0.5</td>\n",
       "      <td>1.0</td>\n",
       "      <td>1</td>\n",
       "    </tr>\n",
       "    <tr>\n",
       "      <th>217</th>\n",
       "      <td>0.5</td>\n",
       "      <td>0.5</td>\n",
       "      <td>0.5</td>\n",
       "      <td>0.5</td>\n",
       "      <td>0.5</td>\n",
       "      <td>0.5</td>\n",
       "      <td>1</td>\n",
       "    </tr>\n",
       "    <tr>\n",
       "      <th>222</th>\n",
       "      <td>0.0</td>\n",
       "      <td>0.0</td>\n",
       "      <td>1.0</td>\n",
       "      <td>0.5</td>\n",
       "      <td>0.5</td>\n",
       "      <td>0.0</td>\n",
       "      <td>1</td>\n",
       "    </tr>\n",
       "    <tr>\n",
       "      <th>223</th>\n",
       "      <td>0.0</td>\n",
       "      <td>0.0</td>\n",
       "      <td>0.5</td>\n",
       "      <td>1.0</td>\n",
       "      <td>0.5</td>\n",
       "      <td>0.0</td>\n",
       "      <td>1</td>\n",
       "    </tr>\n",
       "    <tr>\n",
       "      <th>225</th>\n",
       "      <td>0.0</td>\n",
       "      <td>0.0</td>\n",
       "      <td>1.0</td>\n",
       "      <td>1.0</td>\n",
       "      <td>0.5</td>\n",
       "      <td>0.0</td>\n",
       "      <td>1</td>\n",
       "    </tr>\n",
       "    <tr>\n",
       "      <th>228</th>\n",
       "      <td>1.0</td>\n",
       "      <td>1.0</td>\n",
       "      <td>1.0</td>\n",
       "      <td>0.5</td>\n",
       "      <td>0.5</td>\n",
       "      <td>1.0</td>\n",
       "      <td>1</td>\n",
       "    </tr>\n",
       "    <tr>\n",
       "      <th>229</th>\n",
       "      <td>1.0</td>\n",
       "      <td>1.0</td>\n",
       "      <td>0.5</td>\n",
       "      <td>1.0</td>\n",
       "      <td>0.5</td>\n",
       "      <td>1.0</td>\n",
       "      <td>1</td>\n",
       "    </tr>\n",
       "    <tr>\n",
       "      <th>230</th>\n",
       "      <td>1.0</td>\n",
       "      <td>1.0</td>\n",
       "      <td>0.5</td>\n",
       "      <td>1.0</td>\n",
       "      <td>0.5</td>\n",
       "      <td>1.0</td>\n",
       "      <td>1</td>\n",
       "    </tr>\n",
       "    <tr>\n",
       "      <th>232</th>\n",
       "      <td>1.0</td>\n",
       "      <td>1.0</td>\n",
       "      <td>1.0</td>\n",
       "      <td>1.0</td>\n",
       "      <td>0.5</td>\n",
       "      <td>1.0</td>\n",
       "      <td>1</td>\n",
       "    </tr>\n",
       "    <tr>\n",
       "      <th>235</th>\n",
       "      <td>0.5</td>\n",
       "      <td>0.5</td>\n",
       "      <td>1.0</td>\n",
       "      <td>0.5</td>\n",
       "      <td>0.5</td>\n",
       "      <td>0.5</td>\n",
       "      <td>1</td>\n",
       "    </tr>\n",
       "    <tr>\n",
       "      <th>236</th>\n",
       "      <td>0.5</td>\n",
       "      <td>0.5</td>\n",
       "      <td>0.5</td>\n",
       "      <td>1.0</td>\n",
       "      <td>0.5</td>\n",
       "      <td>0.5</td>\n",
       "      <td>1</td>\n",
       "    </tr>\n",
       "    <tr>\n",
       "      <th>238</th>\n",
       "      <td>0.5</td>\n",
       "      <td>0.5</td>\n",
       "      <td>1.0</td>\n",
       "      <td>1.0</td>\n",
       "      <td>0.5</td>\n",
       "      <td>0.5</td>\n",
       "      <td>1</td>\n",
       "    </tr>\n",
       "    <tr>\n",
       "      <th>240</th>\n",
       "      <td>0.0</td>\n",
       "      <td>1.0</td>\n",
       "      <td>0.5</td>\n",
       "      <td>0.5</td>\n",
       "      <td>0.5</td>\n",
       "      <td>0.0</td>\n",
       "      <td>1</td>\n",
       "    </tr>\n",
       "    <tr>\n",
       "      <th>241</th>\n",
       "      <td>1.0</td>\n",
       "      <td>0.0</td>\n",
       "      <td>0.5</td>\n",
       "      <td>0.5</td>\n",
       "      <td>0.5</td>\n",
       "      <td>1.0</td>\n",
       "      <td>1</td>\n",
       "    </tr>\n",
       "    <tr>\n",
       "      <th>242</th>\n",
       "      <td>0.0</td>\n",
       "      <td>1.0</td>\n",
       "      <td>0.5</td>\n",
       "      <td>0.5</td>\n",
       "      <td>0.5</td>\n",
       "      <td>1.0</td>\n",
       "      <td>1</td>\n",
       "    </tr>\n",
       "    <tr>\n",
       "      <th>247</th>\n",
       "      <td>0.0</td>\n",
       "      <td>1.0</td>\n",
       "      <td>1.0</td>\n",
       "      <td>0.5</td>\n",
       "      <td>0.5</td>\n",
       "      <td>0.0</td>\n",
       "      <td>1</td>\n",
       "    </tr>\n",
       "    <tr>\n",
       "      <th>248</th>\n",
       "      <td>1.0</td>\n",
       "      <td>0.0</td>\n",
       "      <td>0.5</td>\n",
       "      <td>1.0</td>\n",
       "      <td>0.5</td>\n",
       "      <td>0.0</td>\n",
       "      <td>1</td>\n",
       "    </tr>\n",
       "  </tbody>\n",
       "</table>\n",
       "</div>"
      ],
      "text/plain": [
       "     industrial_risk  management_risk  financial_flexibility  credibility  \\\n",
       "14               0.0              1.0                    0.0          0.0   \n",
       "48               0.0              1.0                    0.0          0.0   \n",
       "49               0.0              1.0                    0.0          0.0   \n",
       "106              0.0              1.0                    0.0          0.0   \n",
       "107              0.0              0.0                    0.5          0.5   \n",
       "108              1.0              1.0                    0.5          0.5   \n",
       "109              0.5              0.5                    0.5          0.5   \n",
       "114              0.0              0.0                    1.0          0.5   \n",
       "115              0.0              0.0                    0.5          1.0   \n",
       "117              0.0              0.0                    1.0          1.0   \n",
       "120              1.0              1.0                    1.0          0.5   \n",
       "121              1.0              1.0                    0.5          1.0   \n",
       "122              1.0              1.0                    0.5          1.0   \n",
       "124              1.0              1.0                    1.0          1.0   \n",
       "127              0.5              0.5                    1.0          0.5   \n",
       "128              0.5              0.5                    0.5          1.0   \n",
       "130              0.5              0.5                    1.0          1.0   \n",
       "132              0.0              1.0                    0.5          0.5   \n",
       "133              1.0              0.0                    0.5          0.5   \n",
       "134              0.0              1.0                    0.5          0.5   \n",
       "139              0.0              1.0                    1.0          0.5   \n",
       "140              1.0              0.0                    0.5          1.0   \n",
       "142              0.0              1.0                    1.0          1.0   \n",
       "145              0.5              0.0                    1.0          0.5   \n",
       "146              0.5              0.5                    0.5          1.0   \n",
       "164              0.5              0.0                    0.5          0.5   \n",
       "181              0.5              0.5                    0.5          0.5   \n",
       "183              0.5              0.0                    0.0          1.0   \n",
       "184              0.5              0.0                    0.5          1.0   \n",
       "186              0.5              0.0                    0.0          1.0   \n",
       "188              0.5              0.0                    0.5          1.0   \n",
       "191              0.5              0.0                    0.5          0.5   \n",
       "194              0.0              1.0                    0.5          0.0   \n",
       "208              0.5              0.5                    0.5          0.5   \n",
       "210              0.5              0.0                    0.0          1.0   \n",
       "212              0.5              0.0                    0.5          1.0   \n",
       "213              0.5              0.0                    0.0          1.0   \n",
       "214              0.5              0.0                    0.5          1.0   \n",
       "215              0.0              0.0                    0.5          0.5   \n",
       "216              1.0              1.0                    0.5          0.5   \n",
       "217              0.5              0.5                    0.5          0.5   \n",
       "222              0.0              0.0                    1.0          0.5   \n",
       "223              0.0              0.0                    0.5          1.0   \n",
       "225              0.0              0.0                    1.0          1.0   \n",
       "228              1.0              1.0                    1.0          0.5   \n",
       "229              1.0              1.0                    0.5          1.0   \n",
       "230              1.0              1.0                    0.5          1.0   \n",
       "232              1.0              1.0                    1.0          1.0   \n",
       "235              0.5              0.5                    1.0          0.5   \n",
       "236              0.5              0.5                    0.5          1.0   \n",
       "238              0.5              0.5                    1.0          1.0   \n",
       "240              0.0              1.0                    0.5          0.5   \n",
       "241              1.0              0.0                    0.5          0.5   \n",
       "242              0.0              1.0                    0.5          0.5   \n",
       "247              0.0              1.0                    1.0          0.5   \n",
       "248              1.0              0.0                    0.5          1.0   \n",
       "\n",
       "     competitiveness  operating_risk  class  \n",
       "14               0.5             0.5      0  \n",
       "48               0.5             0.5      0  \n",
       "49               0.5             0.5      0  \n",
       "106              0.5             0.5      0  \n",
       "107              0.5             0.0      1  \n",
       "108              0.5             1.0      1  \n",
       "109              0.5             0.5      1  \n",
       "114              0.5             0.0      1  \n",
       "115              0.5             0.0      1  \n",
       "117              0.5             0.0      1  \n",
       "120              0.5             1.0      1  \n",
       "121              0.5             1.0      1  \n",
       "122              0.5             1.0      1  \n",
       "124              0.5             1.0      1  \n",
       "127              0.5             0.5      1  \n",
       "128              0.5             0.5      1  \n",
       "130              0.5             0.5      1  \n",
       "132              0.5             0.0      1  \n",
       "133              0.5             1.0      1  \n",
       "134              0.5             1.0      1  \n",
       "139              0.5             0.0      1  \n",
       "140              0.5             0.0      1  \n",
       "142              0.5             1.0      1  \n",
       "145              0.5             0.5      1  \n",
       "146              0.5             0.0      1  \n",
       "164              0.5             0.0      1  \n",
       "181              0.5             0.0      1  \n",
       "183              0.5             0.0      1  \n",
       "184              0.5             0.0      1  \n",
       "186              0.5             0.0      1  \n",
       "188              0.5             0.0      1  \n",
       "191              0.5             0.0      1  \n",
       "194              0.5             0.0      1  \n",
       "208              0.5             0.0      1  \n",
       "210              0.5             0.0      1  \n",
       "212              0.5             0.0      1  \n",
       "213              0.5             0.0      1  \n",
       "214              0.5             0.0      1  \n",
       "215              0.5             0.0      1  \n",
       "216              0.5             1.0      1  \n",
       "217              0.5             0.5      1  \n",
       "222              0.5             0.0      1  \n",
       "223              0.5             0.0      1  \n",
       "225              0.5             0.0      1  \n",
       "228              0.5             1.0      1  \n",
       "229              0.5             1.0      1  \n",
       "230              0.5             1.0      1  \n",
       "232              0.5             1.0      1  \n",
       "235              0.5             0.5      1  \n",
       "236              0.5             0.5      1  \n",
       "238              0.5             0.5      1  \n",
       "240              0.5             0.0      1  \n",
       "241              0.5             1.0      1  \n",
       "242              0.5             1.0      1  \n",
       "247              0.5             0.0      1  \n",
       "248              0.5             0.0      1  "
      ]
     },
     "execution_count": 27,
     "metadata": {},
     "output_type": "execute_result"
    }
   ],
   "source": [
    "bank_final[bank_final.competitiveness==0.5]"
   ]
  },
  {
   "cell_type": "markdown",
   "id": "008aae5b",
   "metadata": {},
   "source": [
    "from above output we can see that there is a value where competiveness is 0.5 but still it is bankrupt so we need other variables also for prediction.\n",
    "\n",
    "but we can say that competitiveness plays an important role for our prediction."
   ]
  },
  {
   "cell_type": "markdown",
   "id": "f7a0e88c",
   "metadata": {},
   "source": [
    "# Balancing Dataset"
   ]
  },
  {
   "cell_type": "markdown",
   "id": "b6de7c50",
   "metadata": {},
   "source": [
    "Imbalanced data refers to those types of datasets where the target class has an uneven distribution of observations, i.e one class label has a very high number of observations and the other has a very low number of observations."
   ]
  },
  {
   "cell_type": "code",
   "execution_count": 28,
   "id": "b60e815f",
   "metadata": {},
   "outputs": [
    {
     "data": {
      "text/plain": [
       "1    143\n",
       "0    107\n",
       "Name: class, dtype: int64"
      ]
     },
     "execution_count": 28,
     "metadata": {},
     "output_type": "execute_result"
    }
   ],
   "source": [
    "bank_final['class'].value_counts()"
   ]
  },
  {
   "cell_type": "code",
   "execution_count": 29,
   "id": "1e3128f5",
   "metadata": {},
   "outputs": [
    {
     "data": {
      "text/plain": [
       "<AxesSubplot:xlabel='class', ylabel='count'>"
      ]
     },
     "execution_count": 29,
     "metadata": {},
     "output_type": "execute_result"
    },
    {
     "data": {
      "image/png": "[encoded data removed]",
      "text/plain": [
       "<Figure size 432x288 with 1 Axes>"
      ]
     },
     "metadata": {
      "needs_background": "light"
     },
     "output_type": "display_data"
    }
   ],
   "source": [
    "sns.countplot(bank_final['class'])"
   ]
  },
  {
   "cell_type": "markdown",
   "id": "33200e93",
   "metadata": {},
   "source": [
    "It shows that our data is imbalance. So, we will try to upsample the data so that both classes match with one another."
   ]
  },
  {
   "cell_type": "code",
   "execution_count": 30,
   "id": "f539d2f3",
   "metadata": {},
   "outputs": [],
   "source": [
    "X,Y = bank_final.iloc[:,:-1],bank_final.iloc[:,-1]"
   ]
  },
  {
   "cell_type": "code",
   "execution_count": 31,
   "id": "ac156b02",
   "metadata": {},
   "outputs": [
    {
     "data": {
      "text/html": [
       "<div>\n",
       "<style scoped>\n",
       "    .dataframe tbody tr th:only-of-type {\n",
       "        vertical-align: middle;\n",
       "    }\n",
       "\n",
       "    .dataframe tbody tr th {\n",
       "        vertical-align: top;\n",
       "    }\n",
       "\n",
       "    .dataframe thead th {\n",
       "        text-align: right;\n",
       "    }\n",
       "</style>\n",
       "<table border=\"1\" class=\"dataframe\">\n",
       "  <thead>\n",
       "    <tr style=\"text-align: right;\">\n",
       "      <th></th>\n",
       "      <th>industrial_risk</th>\n",
       "      <th>management_risk</th>\n",
       "      <th>financial_flexibility</th>\n",
       "      <th>credibility</th>\n",
       "      <th>competitiveness</th>\n",
       "      <th>operating_risk</th>\n",
       "    </tr>\n",
       "  </thead>\n",
       "  <tbody>\n",
       "    <tr>\n",
       "      <th>0</th>\n",
       "      <td>0.5</td>\n",
       "      <td>1.0</td>\n",
       "      <td>0.0</td>\n",
       "      <td>0.0</td>\n",
       "      <td>0.0</td>\n",
       "      <td>0.5</td>\n",
       "    </tr>\n",
       "    <tr>\n",
       "      <th>1</th>\n",
       "      <td>0.0</td>\n",
       "      <td>1.0</td>\n",
       "      <td>0.0</td>\n",
       "      <td>0.0</td>\n",
       "      <td>0.0</td>\n",
       "      <td>1.0</td>\n",
       "    </tr>\n",
       "    <tr>\n",
       "      <th>2</th>\n",
       "      <td>1.0</td>\n",
       "      <td>0.0</td>\n",
       "      <td>0.0</td>\n",
       "      <td>0.0</td>\n",
       "      <td>0.0</td>\n",
       "      <td>1.0</td>\n",
       "    </tr>\n",
       "    <tr>\n",
       "      <th>3</th>\n",
       "      <td>0.5</td>\n",
       "      <td>0.0</td>\n",
       "      <td>0.0</td>\n",
       "      <td>0.5</td>\n",
       "      <td>0.0</td>\n",
       "      <td>1.0</td>\n",
       "    </tr>\n",
       "    <tr>\n",
       "      <th>4</th>\n",
       "      <td>1.0</td>\n",
       "      <td>1.0</td>\n",
       "      <td>0.0</td>\n",
       "      <td>0.0</td>\n",
       "      <td>0.0</td>\n",
       "      <td>1.0</td>\n",
       "    </tr>\n",
       "  </tbody>\n",
       "</table>\n",
       "</div>"
      ],
      "text/plain": [
       "   industrial_risk  management_risk  financial_flexibility  credibility  \\\n",
       "0              0.5              1.0                    0.0          0.0   \n",
       "1              0.0              1.0                    0.0          0.0   \n",
       "2              1.0              0.0                    0.0          0.0   \n",
       "3              0.5              0.0                    0.0          0.5   \n",
       "4              1.0              1.0                    0.0          0.0   \n",
       "\n",
       "   competitiveness  operating_risk  \n",
       "0              0.0             0.5  \n",
       "1              0.0             1.0  \n",
       "2              0.0             1.0  \n",
       "3              0.0             1.0  \n",
       "4              0.0             1.0  "
      ]
     },
     "execution_count": 31,
     "metadata": {},
     "output_type": "execute_result"
    }
   ],
   "source": [
    "X.head()"
   ]
  },
  {
   "cell_type": "code",
   "execution_count": 32,
   "id": "1ea0ebd2",
   "metadata": {},
   "outputs": [
    {
     "data": {
      "text/plain": [
       "0    0\n",
       "1    0\n",
       "2    0\n",
       "3    0\n",
       "4    0\n",
       "Name: class, dtype: int32"
      ]
     },
     "execution_count": 32,
     "metadata": {},
     "output_type": "execute_result"
    }
   ],
   "source": [
    "Y.head()"
   ]
  },
  {
   "cell_type": "markdown",
   "id": "5d6287fe",
   "metadata": {},
   "source": [
    "# Under Sampling for Balancing the Dataset\n",
    "\n",
    "Undersampling is a technique used in imbalanced classification problems to balance the class distribution by reducing the number of instances in the majority class. In such problems, one class (the majority class) has significantly more instances than the other class (the minority class), which can lead to biased models. Undersampling aims to address this issue by removing some instances from the majority class so that the class distribution becomes more balanced."
   ]
  },
  {
   "cell_type": "code",
   "execution_count": 33,
   "id": "7a857d3d",
   "metadata": {},
   "outputs": [
    {
     "name": "stdout",
     "output_type": "stream",
     "text": [
      "Requirement already satisfied: imbalanced-learn in c:\\users\\sayali hatwar\\anaconda3\\aaa\\lib\\site-packages (0.11.0)\n",
      "Requirement already satisfied: joblib>=1.1.1 in c:\\users\\sayali hatwar\\anaconda3\\aaa\\lib\\site-packages (from imbalanced-learn) (1.3.2)\n",
      "Requirement already satisfied: scipy>=1.5.0 in c:\\users\\sayali hatwar\\anaconda3\\aaa\\lib\\site-packages (from imbalanced-learn) (1.7.3)\n",
      "Requirement already satisfied: threadpoolctl>=2.0.0 in c:\\users\\sayali hatwar\\anaconda3\\aaa\\lib\\site-packages (from imbalanced-learn) (2.2.0)\n",
      "Requirement already satisfied: scikit-learn>=1.0.2 in c:\\users\\sayali hatwar\\anaconda3\\aaa\\lib\\site-packages (from imbalanced-learn) (1.1.3)\n",
      "Requirement already satisfied: numpy>=1.17.3 in c:\\users\\sayali hatwar\\anaconda3\\aaa\\lib\\site-packages (from imbalanced-learn) (1.21.6)\n",
      "Note: you may need to restart the kernel to use updated packages.\n"
     ]
    }
   ],
   "source": [
    "pip install imbalanced-learn"
   ]
  },
  {
   "cell_type": "code",
   "execution_count": 34,
   "id": "9286cbaf",
   "metadata": {},
   "outputs": [],
   "source": [
    "from tqdm import tqdm\n",
    "import imblearn\n",
    "from imblearn.under_sampling import RandomUnderSampler\n",
    "\n",
    "under_sampling = RandomUnderSampler()\n",
    "X_under, y_under = under_sampling.fit_resample(X, Y)"
   ]
  },
  {
   "cell_type": "code",
   "execution_count": 35,
   "id": "a4f412ea",
   "metadata": {},
   "outputs": [
    {
     "data": {
      "text/plain": [
       "((214, 6),\n",
       " (214,),\n",
       " 0    107\n",
       " 1    107\n",
       " Name: class, dtype: int64)"
      ]
     },
     "execution_count": 35,
     "metadata": {},
     "output_type": "execute_result"
    }
   ],
   "source": [
    "X_under.shape, y_under.shape, y_under.value_counts()"
   ]
  },
  {
   "cell_type": "code",
   "execution_count": 36,
   "id": "f1c08624",
   "metadata": {},
   "outputs": [
    {
     "data": {
      "text/plain": [
       "<AxesSubplot:xlabel='class', ylabel='count'>"
      ]
     },
     "execution_count": 36,
     "metadata": {},
     "output_type": "execute_result"
    },
    {
     "data": {
      "image/png": "[encoded data removed]",
      "text/plain": [
       "<Figure size 432x288 with 1 Axes>"
      ]
     },
     "metadata": {
      "needs_background": "light"
     },
     "output_type": "display_data"
    }
   ],
   "source": [
    "sns.countplot(x = y_under)"
   ]
  },
  {
   "cell_type": "code",
   "execution_count": 37,
   "id": "2573742d",
   "metadata": {},
   "outputs": [
    {
     "data": {
      "text/html": [
       "<div>\n",
       "<style scoped>\n",
       "    .dataframe tbody tr th:only-of-type {\n",
       "        vertical-align: middle;\n",
       "    }\n",
       "\n",
       "    .dataframe tbody tr th {\n",
       "        vertical-align: top;\n",
       "    }\n",
       "\n",
       "    .dataframe thead th {\n",
       "        text-align: right;\n",
       "    }\n",
       "</style>\n",
       "<table border=\"1\" class=\"dataframe\">\n",
       "  <thead>\n",
       "    <tr style=\"text-align: right;\">\n",
       "      <th></th>\n",
       "      <th>industrial_risk</th>\n",
       "      <th>management_risk</th>\n",
       "      <th>financial_flexibility</th>\n",
       "      <th>credibility</th>\n",
       "      <th>competitiveness</th>\n",
       "      <th>operating_risk</th>\n",
       "      <th>class</th>\n",
       "    </tr>\n",
       "  </thead>\n",
       "  <tbody>\n",
       "    <tr>\n",
       "      <th>0</th>\n",
       "      <td>0.5</td>\n",
       "      <td>1.0</td>\n",
       "      <td>0.0</td>\n",
       "      <td>0.0</td>\n",
       "      <td>0.0</td>\n",
       "      <td>0.5</td>\n",
       "      <td>0</td>\n",
       "    </tr>\n",
       "    <tr>\n",
       "      <th>1</th>\n",
       "      <td>0.0</td>\n",
       "      <td>1.0</td>\n",
       "      <td>0.0</td>\n",
       "      <td>0.0</td>\n",
       "      <td>0.0</td>\n",
       "      <td>1.0</td>\n",
       "      <td>0</td>\n",
       "    </tr>\n",
       "    <tr>\n",
       "      <th>2</th>\n",
       "      <td>1.0</td>\n",
       "      <td>0.0</td>\n",
       "      <td>0.0</td>\n",
       "      <td>0.0</td>\n",
       "      <td>0.0</td>\n",
       "      <td>1.0</td>\n",
       "      <td>0</td>\n",
       "    </tr>\n",
       "    <tr>\n",
       "      <th>3</th>\n",
       "      <td>0.5</td>\n",
       "      <td>0.0</td>\n",
       "      <td>0.0</td>\n",
       "      <td>0.5</td>\n",
       "      <td>0.0</td>\n",
       "      <td>1.0</td>\n",
       "      <td>0</td>\n",
       "    </tr>\n",
       "    <tr>\n",
       "      <th>4</th>\n",
       "      <td>1.0</td>\n",
       "      <td>1.0</td>\n",
       "      <td>0.0</td>\n",
       "      <td>0.0</td>\n",
       "      <td>0.0</td>\n",
       "      <td>1.0</td>\n",
       "      <td>0</td>\n",
       "    </tr>\n",
       "  </tbody>\n",
       "</table>\n",
       "</div>"
      ],
      "text/plain": [
       "   industrial_risk  management_risk  financial_flexibility  credibility  \\\n",
       "0              0.5              1.0                    0.0          0.0   \n",
       "1              0.0              1.0                    0.0          0.0   \n",
       "2              1.0              0.0                    0.0          0.0   \n",
       "3              0.5              0.0                    0.0          0.5   \n",
       "4              1.0              1.0                    0.0          0.0   \n",
       "\n",
       "   competitiveness  operating_risk  class  \n",
       "0              0.0             0.5      0  \n",
       "1              0.0             1.0      0  \n",
       "2              0.0             1.0      0  \n",
       "3              0.0             1.0      0  \n",
       "4              0.0             1.0      0  "
      ]
     },
     "execution_count": 37,
     "metadata": {},
     "output_type": "execute_result"
    }
   ],
   "source": [
    "bank_undersampled = pd.DataFrame(data = X_under)\n",
    "bank_undersampled['class'] = y_under\n",
    "\n",
    "bank_undersampled.head()"
   ]
  },
  {
   "cell_type": "markdown",
   "id": "5ef6675a",
   "metadata": {},
   "source": [
    "# Over Sampling(SMOT) for balancing the dataset\n",
    "SMOTE (Synthetic Minority Over-sampling Technique) is an oversampling method used to balance the class distribution in imbalanced datasets. It works by generating synthetic samples for the minority class by interpolating between existing instances. This helps improve the representation of the minority class without discarding any data."
   ]
  },
  {
   "cell_type": "code",
   "execution_count": 38,
   "id": "d3c57130",
   "metadata": {},
   "outputs": [],
   "source": [
    "from imblearn.over_sampling import SMOTE\n",
    "from imblearn.over_sampling import RandomOverSampler\n",
    "\n",
    "smote = SMOTE()\n",
    "X_over, y_over = smote.fit_resample(X, Y)"
   ]
  },
  {
   "cell_type": "code",
   "execution_count": 39,
   "id": "c767fa9a",
   "metadata": {},
   "outputs": [
    {
     "data": {
      "text/plain": [
       "0    143\n",
       "1    143\n",
       "Name: class, dtype: int64"
      ]
     },
     "execution_count": 39,
     "metadata": {},
     "output_type": "execute_result"
    }
   ],
   "source": [
    "y_over.value_counts()"
   ]
  },
  {
   "cell_type": "code",
   "execution_count": 40,
   "id": "d930e5f4",
   "metadata": {},
   "outputs": [
    {
     "data": {
      "text/plain": [
       "<AxesSubplot:xlabel='class', ylabel='count'>"
      ]
     },
     "execution_count": 40,
     "metadata": {},
     "output_type": "execute_result"
    },
    {
     "data": {
      "image/png": "[encoded data removed]",
      "text/plain": [
       "<Figure size 432x288 with 1 Axes>"
      ]
     },
     "metadata": {
      "needs_background": "light"
     },
     "output_type": "display_data"
    }
   ],
   "source": [
    "sns.countplot(x = y_over)"
   ]
  },
  {
   "cell_type": "code",
   "execution_count": 41,
   "id": "31f67024",
   "metadata": {},
   "outputs": [
    {
     "data": {
      "text/html": [
       "<div>\n",
       "<style scoped>\n",
       "    .dataframe tbody tr th:only-of-type {\n",
       "        vertical-align: middle;\n",
       "    }\n",
       "\n",
       "    .dataframe tbody tr th {\n",
       "        vertical-align: top;\n",
       "    }\n",
       "\n",
       "    .dataframe thead th {\n",
       "        text-align: right;\n",
       "    }\n",
       "</style>\n",
       "<table border=\"1\" class=\"dataframe\">\n",
       "  <thead>\n",
       "    <tr style=\"text-align: right;\">\n",
       "      <th></th>\n",
       "      <th>industrial_risk</th>\n",
       "      <th>management_risk</th>\n",
       "      <th>financial_flexibility</th>\n",
       "      <th>credibility</th>\n",
       "      <th>competitiveness</th>\n",
       "      <th>operating_risk</th>\n",
       "      <th>class</th>\n",
       "    </tr>\n",
       "  </thead>\n",
       "  <tbody>\n",
       "    <tr>\n",
       "      <th>0</th>\n",
       "      <td>0.5</td>\n",
       "      <td>1.0</td>\n",
       "      <td>0.0</td>\n",
       "      <td>0.0</td>\n",
       "      <td>0.0</td>\n",
       "      <td>0.5</td>\n",
       "      <td>0</td>\n",
       "    </tr>\n",
       "    <tr>\n",
       "      <th>1</th>\n",
       "      <td>0.0</td>\n",
       "      <td>1.0</td>\n",
       "      <td>0.0</td>\n",
       "      <td>0.0</td>\n",
       "      <td>0.0</td>\n",
       "      <td>1.0</td>\n",
       "      <td>0</td>\n",
       "    </tr>\n",
       "    <tr>\n",
       "      <th>2</th>\n",
       "      <td>1.0</td>\n",
       "      <td>0.0</td>\n",
       "      <td>0.0</td>\n",
       "      <td>0.0</td>\n",
       "      <td>0.0</td>\n",
       "      <td>1.0</td>\n",
       "      <td>0</td>\n",
       "    </tr>\n",
       "    <tr>\n",
       "      <th>3</th>\n",
       "      <td>0.5</td>\n",
       "      <td>0.0</td>\n",
       "      <td>0.0</td>\n",
       "      <td>0.5</td>\n",
       "      <td>0.0</td>\n",
       "      <td>1.0</td>\n",
       "      <td>0</td>\n",
       "    </tr>\n",
       "    <tr>\n",
       "      <th>4</th>\n",
       "      <td>1.0</td>\n",
       "      <td>1.0</td>\n",
       "      <td>0.0</td>\n",
       "      <td>0.0</td>\n",
       "      <td>0.0</td>\n",
       "      <td>1.0</td>\n",
       "      <td>0</td>\n",
       "    </tr>\n",
       "  </tbody>\n",
       "</table>\n",
       "</div>"
      ],
      "text/plain": [
       "   industrial_risk  management_risk  financial_flexibility  credibility  \\\n",
       "0              0.5              1.0                    0.0          0.0   \n",
       "1              0.0              1.0                    0.0          0.0   \n",
       "2              1.0              0.0                    0.0          0.0   \n",
       "3              0.5              0.0                    0.0          0.5   \n",
       "4              1.0              1.0                    0.0          0.0   \n",
       "\n",
       "   competitiveness  operating_risk  class  \n",
       "0              0.0             0.5      0  \n",
       "1              0.0             1.0      0  \n",
       "2              0.0             1.0      0  \n",
       "3              0.0             1.0      0  \n",
       "4              0.0             1.0      0  "
      ]
     },
     "execution_count": 41,
     "metadata": {},
     "output_type": "execute_result"
    }
   ],
   "source": [
    "bank_oversampled = pd.DataFrame(data = X_over)\n",
    "bank_oversampled['class'] = y_over\n",
    "\n",
    "bank_oversampled.head()"
   ]
  },
  {
   "cell_type": "markdown",
   "id": "0a7fdd01",
   "metadata": {},
   "source": [
    "So we performed various EDA methods and try to get as much as possible from the dataset.\n",
    "\n",
    "#### 1.There was a serious problem with duplicate values but we removed them.\n",
    "\n",
    "#### 2.We use LableEncoder for encoding the categorical variable\n",
    "\n",
    "#### 3.'0' is used for Bankrupt and '1' is for non-bankrupt\n",
    "\n",
    "#### 4.The dataset was unbalance so we choose the oversampling.\n",
    "\n",
    "#### 5.The bank_final dataset will be used for model building."
   ]
  },
  {
   "cell_type": "markdown",
   "id": "07db1275",
   "metadata": {},
   "source": [
    "# Model Selection\n",
    "\n",
    "Model selection is the process of choosing the best algorithm or machine learning model to solve a specific problem. It involves selecting the appropriate algorithm, tuning hyperparameters, and evaluating the model's performance to ensure that it generalizes well to new, unseen data. The goal of model selection is to create a model that effectively captures the underlying patterns in the data and makes accurate predictions.\n",
    "\n",
    "Here we are going to split the data and use it for selecting best model on basis on accuracy score"
   ]
  },
  {
   "cell_type": "code",
   "execution_count": 42,
   "id": "366b9be7",
   "metadata": {},
   "outputs": [],
   "source": [
    "y=bank_final['class']\n",
    "x=bank_final.drop(['class'],axis=1)"
   ]
  },
  {
   "cell_type": "code",
   "execution_count": 43,
   "id": "67194801",
   "metadata": {},
   "outputs": [
    {
     "data": {
      "text/plain": [
       "((150, 6), (150,))"
      ]
     },
     "execution_count": 43,
     "metadata": {},
     "output_type": "execute_result"
    }
   ],
   "source": [
    "from sklearn.model_selection import train_test_split\n",
    "X_train,X_test,y_train,y_test=train_test_split(x,y,test_size=0.60,random_state=10)\n",
    "X_train.shape,y_train.shape\n",
    "X_test.shape,y_test.shape"
   ]
  },
  {
   "cell_type": "code",
   "execution_count": 44,
   "id": "099237d7",
   "metadata": {},
   "outputs": [
    {
     "data": {
      "text/plain": [
       "(array([[-1.19190632,  0.87210285, -0.91457444, -1.0972613 , -1.0533246 ,\n",
       "          1.        ],\n",
       "        [ 0.01203946,  0.87210285, -0.91457444,  1.36849443,  1.18779157,\n",
       "         -0.11111111],\n",
       "        [ 1.21598523,  0.87210285, -0.91457444,  0.13561657, -1.0533246 ,\n",
       "         -0.11111111],\n",
       "        [-1.19190632, -0.33915111,  1.59110895, -1.0972613 ,  1.18779157,\n",
       "          1.        ],\n",
       "        [ 1.21598523,  0.87210285, -0.91457444,  0.13561657, -1.0533246 ,\n",
       "         -1.22222222],\n",
       "        [-1.19190632, -0.33915111,  0.33826726,  1.36849443,  1.18779157,\n",
       "         -1.22222222],\n",
       "        [-1.19190632, -0.33915111, -0.91457444, -1.0972613 , -1.0533246 ,\n",
       "         -0.11111111],\n",
       "        [-1.19190632, -1.55040507,  0.33826726,  1.36849443,  0.06723349,\n",
       "         -1.22222222],\n",
       "        [ 0.01203946,  0.87210285, -0.91457444, -1.0972613 , -1.0533246 ,\n",
       "          1.        ],\n",
       "        [ 0.01203946, -0.33915111,  1.59110895,  1.36849443,  1.18779157,\n",
       "         -0.11111111],\n",
       "        [-1.19190632,  0.87210285, -0.91457444, -1.0972613 , -1.0533246 ,\n",
       "          1.        ],\n",
       "        [ 1.21598523,  0.87210285,  1.59110895,  1.36849443,  1.18779157,\n",
       "         -0.11111111],\n",
       "        [ 0.01203946, -0.33915111, -0.91457444, -1.0972613 , -1.0533246 ,\n",
       "          1.        ],\n",
       "        [-1.19190632,  0.87210285,  0.33826726,  0.13561657,  0.06723349,\n",
       "          1.        ],\n",
       "        [ 1.21598523, -1.55040507,  1.59110895,  0.13561657,  1.18779157,\n",
       "         -0.11111111],\n",
       "        [-1.19190632,  0.87210285, -0.91457444,  1.36849443,  1.18779157,\n",
       "         -0.11111111],\n",
       "        [ 0.01203946, -1.55040507,  0.33826726,  1.36849443,  0.06723349,\n",
       "         -1.22222222],\n",
       "        [ 0.01203946,  0.87210285, -0.91457444, -1.0972613 , -1.0533246 ,\n",
       "          1.        ],\n",
       "        [ 1.21598523, -1.55040507, -0.91457444, -1.0972613 , -1.0533246 ,\n",
       "          1.        ],\n",
       "        [ 1.21598523,  0.87210285,  0.33826726,  0.13561657,  0.06723349,\n",
       "          1.        ],\n",
       "        [ 0.01203946,  0.87210285, -0.91457444, -1.0972613 , -1.0533246 ,\n",
       "         -0.11111111],\n",
       "        [ 0.01203946, -0.33915111, -0.91457444,  1.36849443,  1.18779157,\n",
       "         -1.22222222],\n",
       "        [ 0.01203946, -1.55040507,  0.33826726,  1.36849443,  0.06723349,\n",
       "         -1.22222222],\n",
       "        [-1.19190632, -0.33915111, -0.91457444,  0.13561657,  1.18779157,\n",
       "         -0.11111111],\n",
       "        [ 1.21598523,  0.87210285, -0.91457444, -1.0972613 , -1.0533246 ,\n",
       "          1.        ],\n",
       "        [ 1.21598523, -1.55040507,  0.33826726,  0.13561657,  0.06723349,\n",
       "          1.        ],\n",
       "        [ 1.21598523,  0.87210285,  0.33826726, -1.0972613 , -1.0533246 ,\n",
       "          1.        ],\n",
       "        [ 1.21598523,  0.87210285, -0.91457444, -1.0972613 , -1.0533246 ,\n",
       "          1.        ],\n",
       "        [-1.19190632, -1.55040507,  1.59110895,  0.13561657,  0.06723349,\n",
       "         -1.22222222],\n",
       "        [ 0.01203946, -1.55040507, -0.91457444, -1.0972613 , -1.0533246 ,\n",
       "          1.        ],\n",
       "        [-1.19190632,  0.87210285,  1.59110895,  1.36849443,  1.18779157,\n",
       "         -1.22222222],\n",
       "        [-1.19190632, -0.33915111, -0.91457444,  0.13561657,  1.18779157,\n",
       "          1.        ],\n",
       "        [ 0.01203946, -1.55040507,  1.59110895,  0.13561657,  0.06723349,\n",
       "         -0.11111111],\n",
       "        [ 0.01203946,  0.87210285, -0.91457444, -1.0972613 ,  1.18779157,\n",
       "         -1.22222222],\n",
       "        [-1.19190632, -1.55040507,  1.59110895,  0.13561657,  1.18779157,\n",
       "         -1.22222222],\n",
       "        [ 1.21598523,  0.87210285, -0.91457444, -1.0972613 , -1.0533246 ,\n",
       "          1.        ],\n",
       "        [-1.19190632, -1.55040507,  1.59110895,  0.13561657,  1.18779157,\n",
       "         -1.22222222],\n",
       "        [-1.19190632, -0.33915111,  0.33826726,  1.36849443,  1.18779157,\n",
       "         -1.22222222],\n",
       "        [ 1.21598523,  0.87210285,  0.33826726,  1.36849443,  1.18779157,\n",
       "         -1.22222222],\n",
       "        [-1.19190632,  0.87210285,  1.59110895,  1.36849443,  1.18779157,\n",
       "          1.        ],\n",
       "        [ 1.21598523, -0.33915111, -0.91457444, -1.0972613 , -1.0533246 ,\n",
       "         -1.22222222],\n",
       "        [-1.19190632,  0.87210285,  0.33826726,  0.13561657,  0.06723349,\n",
       "          1.        ],\n",
       "        [-1.19190632,  0.87210285,  1.59110895,  0.13561657,  0.06723349,\n",
       "         -1.22222222],\n",
       "        [ 1.21598523, -1.55040507, -0.91457444, -1.0972613 , -1.0533246 ,\n",
       "          1.        ],\n",
       "        [ 1.21598523,  0.87210285,  1.59110895,  0.13561657,  1.18779157,\n",
       "         -1.22222222],\n",
       "        [ 0.01203946, -1.55040507,  1.59110895,  0.13561657,  1.18779157,\n",
       "          1.        ],\n",
       "        [-1.19190632, -1.55040507,  0.33826726,  0.13561657,  0.06723349,\n",
       "         -1.22222222],\n",
       "        [-1.19190632,  0.87210285, -0.91457444, -1.0972613 , -1.0533246 ,\n",
       "          1.        ],\n",
       "        [ 0.01203946,  0.87210285, -0.91457444, -1.0972613 , -1.0533246 ,\n",
       "          1.        ],\n",
       "        [-1.19190632, -1.55040507, -0.91457444, -1.0972613 , -1.0533246 ,\n",
       "          1.        ],\n",
       "        [ 1.21598523,  0.87210285, -0.91457444,  1.36849443, -1.0533246 ,\n",
       "         -1.22222222],\n",
       "        [ 1.21598523,  0.87210285, -0.91457444, -1.0972613 , -1.0533246 ,\n",
       "         -1.22222222],\n",
       "        [ 1.21598523,  0.87210285, -0.91457444, -1.0972613 , -1.0533246 ,\n",
       "          1.        ],\n",
       "        [ 0.01203946, -0.33915111, -0.91457444, -1.0972613 , -1.0533246 ,\n",
       "          1.        ],\n",
       "        [ 1.21598523, -1.55040507,  0.33826726,  1.36849443,  0.06723349,\n",
       "         -1.22222222],\n",
       "        [ 0.01203946,  0.87210285, -0.91457444, -1.0972613 , -1.0533246 ,\n",
       "          1.        ],\n",
       "        [ 0.01203946,  0.87210285,  0.33826726,  0.13561657,  1.18779157,\n",
       "         -1.22222222],\n",
       "        [ 0.01203946,  0.87210285, -0.91457444, -1.0972613 , -1.0533246 ,\n",
       "          1.        ],\n",
       "        [ 0.01203946, -0.33915111, -0.91457444, -1.0972613 , -1.0533246 ,\n",
       "          1.        ],\n",
       "        [ 0.01203946,  0.87210285, -0.91457444, -1.0972613 , -1.0533246 ,\n",
       "         -0.11111111],\n",
       "        [ 1.21598523, -1.55040507,  0.33826726,  0.13561657,  1.18779157,\n",
       "          1.        ],\n",
       "        [ 0.01203946, -0.33915111,  0.33826726,  1.36849443,  1.18779157,\n",
       "         -0.11111111],\n",
       "        [-1.19190632, -0.33915111,  1.59110895,  1.36849443,  1.18779157,\n",
       "          1.        ],\n",
       "        [ 1.21598523,  0.87210285, -0.91457444, -1.0972613 , -1.0533246 ,\n",
       "          1.        ],\n",
       "        [ 0.01203946, -0.33915111,  0.33826726,  1.36849443,  1.18779157,\n",
       "         -1.22222222],\n",
       "        [ 0.01203946, -0.33915111, -0.91457444, -1.0972613 , -1.0533246 ,\n",
       "         -1.22222222],\n",
       "        [ 1.21598523,  0.87210285,  0.33826726,  1.36849443,  1.18779157,\n",
       "          1.        ],\n",
       "        [-1.19190632, -0.33915111,  1.59110895,  0.13561657,  1.18779157,\n",
       "         -1.22222222],\n",
       "        [-1.19190632, -0.33915111,  0.33826726,  1.36849443,  1.18779157,\n",
       "          1.        ],\n",
       "        [-1.19190632, -0.33915111,  1.59110895,  0.13561657,  1.18779157,\n",
       "         -1.22222222],\n",
       "        [ 1.21598523,  0.87210285,  0.33826726,  1.36849443,  0.06723349,\n",
       "          1.        ],\n",
       "        [ 0.01203946, -0.33915111, -0.91457444,  1.36849443,  1.18779157,\n",
       "         -1.22222222],\n",
       "        [-1.19190632,  0.87210285, -0.91457444, -1.0972613 , -1.0533246 ,\n",
       "          1.        ],\n",
       "        [-1.19190632,  0.87210285, -0.91457444, -1.0972613 , -1.0533246 ,\n",
       "          1.        ],\n",
       "        [ 1.21598523,  0.87210285,  0.33826726,  1.36849443,  0.06723349,\n",
       "          1.        ],\n",
       "        [-1.19190632, -1.55040507,  0.33826726,  0.13561657,  0.06723349,\n",
       "         -1.22222222],\n",
       "        [-1.19190632, -0.33915111, -0.91457444, -1.0972613 , -1.0533246 ,\n",
       "          1.        ],\n",
       "        [ 1.21598523,  0.87210285, -0.91457444, -1.0972613 , -1.0533246 ,\n",
       "          1.        ],\n",
       "        [-1.19190632,  0.87210285,  1.59110895,  0.13561657,  0.06723349,\n",
       "         -1.22222222],\n",
       "        [ 1.21598523,  0.87210285, -0.91457444,  0.13561657, -1.0533246 ,\n",
       "         -1.22222222],\n",
       "        [ 0.01203946,  0.87210285, -0.91457444, -1.0972613 , -1.0533246 ,\n",
       "         -0.11111111],\n",
       "        [-1.19190632, -1.55040507,  0.33826726,  1.36849443,  0.06723349,\n",
       "         -1.22222222],\n",
       "        [ 0.01203946, -1.55040507,  0.33826726,  0.13561657,  0.06723349,\n",
       "         -1.22222222],\n",
       "        [ 1.21598523,  0.87210285, -0.91457444, -1.0972613 , -1.0533246 ,\n",
       "         -1.22222222],\n",
       "        [ 0.01203946, -0.33915111,  0.33826726,  1.36849443,  1.18779157,\n",
       "         -0.11111111],\n",
       "        [ 0.01203946,  0.87210285, -0.91457444, -1.0972613 , -1.0533246 ,\n",
       "         -0.11111111],\n",
       "        [-1.19190632,  0.87210285, -0.91457444, -1.0972613 , -1.0533246 ,\n",
       "          1.        ],\n",
       "        [ 1.21598523,  0.87210285, -0.91457444,  0.13561657, -1.0533246 ,\n",
       "         -1.22222222],\n",
       "        [ 1.21598523, -1.55040507,  1.59110895,  1.36849443,  1.18779157,\n",
       "          1.        ],\n",
       "        [-1.19190632, -0.33915111,  1.59110895,  0.13561657,  1.18779157,\n",
       "          1.        ],\n",
       "        [-1.19190632, -1.55040507,  0.33826726,  1.36849443,  1.18779157,\n",
       "         -1.22222222],\n",
       "        [ 0.01203946, -0.33915111,  0.33826726,  0.13561657,  0.06723349,\n",
       "         -0.11111111],\n",
       "        [ 0.01203946, -1.55040507,  1.59110895,  0.13561657,  1.18779157,\n",
       "         -1.22222222],\n",
       "        [ 1.21598523,  0.87210285,  0.33826726,  0.13561657,  1.18779157,\n",
       "          1.        ],\n",
       "        [-1.19190632, -1.55040507,  0.33826726,  1.36849443,  1.18779157,\n",
       "         -1.22222222],\n",
       "        [ 1.21598523,  0.87210285, -0.91457444, -1.0972613 , -1.0533246 ,\n",
       "         -0.11111111],\n",
       "        [ 0.01203946,  0.87210285, -0.91457444, -1.0972613 , -1.0533246 ,\n",
       "         -0.11111111],\n",
       "        [ 1.21598523,  0.87210285,  1.59110895,  0.13561657,  0.06723349,\n",
       "          1.        ],\n",
       "        [ 1.21598523,  0.87210285,  1.59110895,  0.13561657,  1.18779157,\n",
       "          1.        ],\n",
       "        [ 1.21598523,  0.87210285, -0.91457444,  0.13561657, -1.0533246 ,\n",
       "          1.        ]]),\n",
       " array([[ 1.14692469,  0.99097138, -0.95420079,  1.2219144 , -1.10235651,\n",
       "          0.98744063],\n",
       "        [-0.08192319, -0.23750554,  1.53501866,  0.03173804,  0.04593152,\n",
       "         -0.19748813],\n",
       "        [-1.31077107,  0.99097138, -0.95420079, -1.15843832, -1.10235651,\n",
       "         -1.38241688],\n",
       "        [ 1.14692469,  0.99097138,  1.53501866,  1.2219144 ,  1.19421955,\n",
       "         -1.38241688],\n",
       "        [-1.31077107,  0.99097138, -0.95420079, -1.15843832,  0.04593152,\n",
       "         -0.19748813],\n",
       "        [ 1.14692469,  0.99097138,  0.29040893,  1.2219144 ,  1.19421955,\n",
       "          0.98744063],\n",
       "        [-1.31077107,  0.99097138,  0.29040893, -1.15843832,  0.04593152,\n",
       "         -1.38241688],\n",
       "        [ 1.14692469, -0.23750554, -0.95420079, -1.15843832, -1.10235651,\n",
       "          0.98744063],\n",
       "        [ 1.14692469,  0.99097138,  0.29040893,  0.03173804,  0.04593152,\n",
       "          0.98744063],\n",
       "        [-1.31077107,  0.99097138, -0.95420079, -1.15843832,  0.04593152,\n",
       "         -0.19748813],\n",
       "        [-0.08192319, -1.46598246,  1.53501866,  1.2219144 ,  1.19421955,\n",
       "         -1.38241688],\n",
       "        [-0.08192319, -1.46598246, -0.95420079,  1.2219144 ,  0.04593152,\n",
       "         -1.38241688],\n",
       "        [-1.31077107,  0.99097138,  0.29040893,  0.03173804,  0.04593152,\n",
       "         -1.38241688],\n",
       "        [-0.08192319, -1.46598246,  0.29040893,  1.2219144 ,  0.04593152,\n",
       "         -1.38241688],\n",
       "        [-0.08192319, -0.23750554, -0.95420079, -1.15843832, -1.10235651,\n",
       "          0.98744063],\n",
       "        [-1.31077107, -1.46598246,  0.29040893,  0.03173804,  1.19421955,\n",
       "         -1.38241688],\n",
       "        [ 1.14692469, -0.23750554, -0.95420079, -1.15843832, -1.10235651,\n",
       "         -1.38241688],\n",
       "        [-0.08192319, -0.23750554,  0.29040893,  0.03173804,  1.19421955,\n",
       "          0.98744063],\n",
       "        [-1.31077107, -1.46598246,  0.29040893,  1.2219144 ,  1.19421955,\n",
       "          0.98744063],\n",
       "        [-0.08192319, -1.46598246, -0.95420079, -1.15843832, -1.10235651,\n",
       "          0.98744063],\n",
       "        [ 1.14692469,  0.99097138, -0.95420079, -1.15843832, -1.10235651,\n",
       "         -0.19748813],\n",
       "        [-0.08192319, -0.23750554,  1.53501866,  1.2219144 ,  0.04593152,\n",
       "         -0.19748813],\n",
       "        [ 1.14692469,  0.99097138,  0.29040893,  1.2219144 ,  1.19421955,\n",
       "         -1.38241688],\n",
       "        [-0.08192319,  0.99097138,  0.29040893,  1.2219144 ,  1.19421955,\n",
       "         -0.19748813],\n",
       "        [-0.08192319, -0.23750554,  1.53501866,  1.2219144 ,  0.04593152,\n",
       "         -0.19748813],\n",
       "        [ 1.14692469,  0.99097138, -0.95420079,  0.03173804, -1.10235651,\n",
       "         -0.19748813],\n",
       "        [ 1.14692469,  0.99097138,  0.29040893, -1.15843832, -1.10235651,\n",
       "          0.98744063],\n",
       "        [-0.08192319, -1.46598246, -0.95420079,  0.03173804, -1.10235651,\n",
       "          0.98744063],\n",
       "        [ 1.14692469,  0.99097138,  1.53501866,  1.2219144 ,  0.04593152,\n",
       "          0.98744063],\n",
       "        [-1.31077107,  0.99097138, -0.95420079, -1.15843832, -1.10235651,\n",
       "          0.98744063],\n",
       "        [ 1.14692469, -1.46598246,  1.53501866,  1.2219144 ,  1.19421955,\n",
       "          0.98744063],\n",
       "        [-1.31077107, -0.23750554,  0.29040893,  1.2219144 ,  1.19421955,\n",
       "          0.98744063],\n",
       "        [-1.31077107,  0.99097138, -0.95420079, -1.15843832, -1.10235651,\n",
       "         -1.38241688],\n",
       "        [-0.08192319, -0.23750554,  1.53501866,  0.03173804,  0.04593152,\n",
       "         -0.19748813],\n",
       "        [-0.08192319, -1.46598246, -0.95420079,  1.2219144 ,  0.04593152,\n",
       "         -1.38241688],\n",
       "        [ 1.14692469,  0.99097138, -0.95420079, -1.15843832, -1.10235651,\n",
       "         -1.38241688],\n",
       "        [ 1.14692469,  0.99097138,  1.53501866,  1.2219144 ,  1.19421955,\n",
       "         -0.19748813],\n",
       "        [ 1.14692469,  0.99097138, -0.95420079, -1.15843832, -1.10235651,\n",
       "         -0.19748813],\n",
       "        [-0.08192319, -0.23750554, -0.95420079, -1.15843832, -1.10235651,\n",
       "          0.98744063],\n",
       "        [ 1.14692469,  0.99097138, -0.95420079, -1.15843832, -1.10235651,\n",
       "          0.98744063],\n",
       "        [-1.31077107, -0.23750554, -0.95420079, -1.15843832, -1.10235651,\n",
       "         -0.19748813],\n",
       "        [-1.31077107, -1.46598246,  1.53501866,  0.03173804,  0.04593152,\n",
       "         -1.38241688],\n",
       "        [ 1.14692469,  0.99097138, -0.95420079,  0.03173804, -1.10235651,\n",
       "         -1.38241688],\n",
       "        [ 1.14692469,  0.99097138,  1.53501866,  1.2219144 ,  0.04593152,\n",
       "          0.98744063],\n",
       "        [-1.31077107, -0.23750554,  0.29040893,  0.03173804,  1.19421955,\n",
       "         -0.19748813],\n",
       "        [-1.31077107,  0.99097138, -0.95420079, -1.15843832, -1.10235651,\n",
       "          0.98744063],\n",
       "        [-1.31077107, -0.23750554,  1.53501866, -1.15843832,  1.19421955,\n",
       "          0.98744063],\n",
       "        [-1.31077107, -0.23750554,  0.29040893,  0.03173804,  1.19421955,\n",
       "         -0.19748813],\n",
       "        [-0.08192319, -0.23750554, -0.95420079,  1.2219144 ,  1.19421955,\n",
       "         -0.19748813],\n",
       "        [-1.31077107, -0.23750554, -0.95420079, -1.15843832, -1.10235651,\n",
       "          0.98744063],\n",
       "        [-1.31077107, -1.46598246,  0.29040893,  0.03173804,  1.19421955,\n",
       "          0.98744063],\n",
       "        [-0.08192319,  0.99097138, -0.95420079, -1.15843832, -1.10235651,\n",
       "          0.98744063],\n",
       "        [-1.31077107, -0.23750554,  0.29040893, -1.15843832,  1.19421955,\n",
       "         -1.38241688],\n",
       "        [-0.08192319,  0.99097138, -0.95420079, -1.15843832, -1.10235651,\n",
       "          0.98744063],\n",
       "        [ 1.14692469,  0.99097138, -0.95420079, -1.15843832, -1.10235651,\n",
       "         -1.38241688],\n",
       "        [-0.08192319, -0.23750554,  0.29040893,  1.2219144 ,  1.19421955,\n",
       "         -1.38241688],\n",
       "        [-0.08192319, -1.46598246,  1.53501866,  1.2219144 ,  1.19421955,\n",
       "          0.98744063],\n",
       "        [-0.08192319, -0.23750554,  0.29040893,  0.03173804,  0.04593152,\n",
       "         -0.19748813],\n",
       "        [-1.31077107,  0.99097138, -0.95420079, -1.15843832, -1.10235651,\n",
       "         -1.38241688],\n",
       "        [ 1.14692469,  0.99097138, -0.95420079, -1.15843832, -1.10235651,\n",
       "          0.98744063],\n",
       "        [-1.31077107, -1.46598246,  0.29040893,  1.2219144 ,  1.19421955,\n",
       "          0.98744063],\n",
       "        [ 1.14692469,  0.99097138, -0.95420079,  0.03173804, -1.10235651,\n",
       "         -0.19748813],\n",
       "        [-0.08192319,  0.99097138, -0.95420079,  0.03173804,  1.19421955,\n",
       "         -1.38241688],\n",
       "        [-0.08192319, -0.23750554,  0.29040893,  1.2219144 ,  1.19421955,\n",
       "         -0.19748813],\n",
       "        [ 1.14692469, -0.23750554, -0.95420079, -1.15843832, -1.10235651,\n",
       "         -1.38241688],\n",
       "        [-1.31077107, -0.23750554,  1.53501866, -1.15843832,  1.19421955,\n",
       "          0.98744063],\n",
       "        [ 1.14692469, -1.46598246, -0.95420079, -1.15843832, -1.10235651,\n",
       "          0.98744063],\n",
       "        [ 1.14692469, -1.46598246, -0.95420079,  1.2219144 ,  1.19421955,\n",
       "         -0.19748813],\n",
       "        [-1.31077107,  0.99097138, -0.95420079, -1.15843832, -1.10235651,\n",
       "          0.98744063],\n",
       "        [ 1.14692469,  0.99097138,  0.29040893,  0.03173804,  1.19421955,\n",
       "          0.98744063],\n",
       "        [ 1.14692469,  0.99097138,  0.29040893, -1.15843832, -1.10235651,\n",
       "          0.98744063],\n",
       "        [ 1.14692469, -1.46598246, -0.95420079, -1.15843832, -1.10235651,\n",
       "          0.98744063],\n",
       "        [ 1.14692469,  0.99097138,  1.53501866,  1.2219144 ,  1.19421955,\n",
       "          0.98744063],\n",
       "        [ 1.14692469, -0.23750554,  1.53501866,  1.2219144 ,  1.19421955,\n",
       "          0.98744063],\n",
       "        [ 1.14692469, -0.23750554, -0.95420079, -1.15843832, -1.10235651,\n",
       "          0.98744063],\n",
       "        [ 1.14692469,  0.99097138,  0.29040893,  1.2219144 ,  0.04593152,\n",
       "          0.98744063],\n",
       "        [ 1.14692469,  0.99097138, -0.95420079, -1.15843832, -1.10235651,\n",
       "         -0.19748813],\n",
       "        [ 1.14692469, -1.46598246,  0.29040893,  0.03173804,  1.19421955,\n",
       "          0.98744063],\n",
       "        [ 1.14692469,  0.99097138, -0.95420079,  1.2219144 , -1.10235651,\n",
       "          0.98744063],\n",
       "        [-1.31077107, -1.46598246,  0.29040893,  1.2219144 ,  1.19421955,\n",
       "         -1.38241688],\n",
       "        [-0.08192319, -0.23750554,  0.29040893,  0.03173804,  0.04593152,\n",
       "         -1.38241688],\n",
       "        [ 1.14692469,  0.99097138,  0.29040893, -1.15843832, -1.10235651,\n",
       "          0.98744063],\n",
       "        [-1.31077107,  0.99097138,  0.29040893,  0.03173804,  0.04593152,\n",
       "         -1.38241688],\n",
       "        [-0.08192319, -1.46598246, -0.95420079,  1.2219144 ,  0.04593152,\n",
       "         -1.38241688],\n",
       "        [-0.08192319, -1.46598246, -0.95420079,  1.2219144 ,  0.04593152,\n",
       "         -1.38241688],\n",
       "        [-1.31077107, -1.46598246,  1.53501866,  0.03173804,  1.19421955,\n",
       "          0.98744063],\n",
       "        [-0.08192319,  0.99097138, -0.95420079, -1.15843832, -1.10235651,\n",
       "          0.98744063],\n",
       "        [-0.08192319, -0.23750554, -0.95420079, -1.15843832, -1.10235651,\n",
       "          0.98744063],\n",
       "        [-0.08192319, -0.23750554,  0.29040893,  0.03173804,  1.19421955,\n",
       "         -0.19748813],\n",
       "        [ 1.14692469, -1.46598246,  0.29040893,  0.03173804,  0.04593152,\n",
       "          0.98744063],\n",
       "        [ 1.14692469, -0.23750554,  1.53501866,  0.03173804, -1.10235651,\n",
       "         -1.38241688],\n",
       "        [-0.08192319, -0.23750554, -0.95420079,  1.2219144 ,  1.19421955,\n",
       "         -1.38241688],\n",
       "        [-0.08192319, -0.23750554,  0.29040893,  0.03173804,  1.19421955,\n",
       "         -0.19748813],\n",
       "        [-1.31077107, -0.23750554,  1.53501866, -1.15843832,  1.19421955,\n",
       "          0.98744063],\n",
       "        [-0.08192319, -0.23750554,  1.53501866,  0.03173804,  1.19421955,\n",
       "         -0.19748813],\n",
       "        [-0.08192319, -0.23750554,  1.53501866,  1.2219144 ,  1.19421955,\n",
       "         -0.19748813],\n",
       "        [ 1.14692469,  0.99097138,  1.53501866,  0.03173804,  1.19421955,\n",
       "          0.98744063],\n",
       "        [ 1.14692469, -1.46598246,  0.29040893,  1.2219144 ,  0.04593152,\n",
       "         -1.38241688],\n",
       "        [ 1.14692469,  0.99097138,  1.53501866,  0.03173804,  0.04593152,\n",
       "          0.98744063],\n",
       "        [ 1.14692469, -1.46598246, -0.95420079,  1.2219144 ,  1.19421955,\n",
       "         -0.19748813],\n",
       "        [ 1.14692469,  0.99097138, -0.95420079,  0.03173804, -1.10235651,\n",
       "          0.98744063],\n",
       "        [-1.31077107,  0.99097138,  1.53501866,  1.2219144 ,  1.19421955,\n",
       "         -1.38241688],\n",
       "        [-1.31077107, -1.46598246,  0.29040893,  1.2219144 ,  1.19421955,\n",
       "         -1.38241688],\n",
       "        [-1.31077107, -0.23750554, -0.95420079, -1.15843832, -1.10235651,\n",
       "          0.98744063],\n",
       "        [-0.08192319,  0.99097138,  0.29040893,  0.03173804,  1.19421955,\n",
       "         -0.19748813],\n",
       "        [ 1.14692469,  0.99097138, -0.95420079, -1.15843832, -1.10235651,\n",
       "          0.98744063],\n",
       "        [-0.08192319, -0.23750554,  0.29040893,  0.03173804,  0.04593152,\n",
       "         -1.38241688],\n",
       "        [ 1.14692469,  0.99097138, -0.95420079, -1.15843832, -1.10235651,\n",
       "         -0.19748813],\n",
       "        [-0.08192319, -1.46598246,  0.29040893,  1.2219144 ,  0.04593152,\n",
       "         -1.38241688],\n",
       "        [-1.31077107,  0.99097138, -0.95420079, -1.15843832,  0.04593152,\n",
       "         -0.19748813],\n",
       "        [-1.31077107, -1.46598246,  1.53501866,  1.2219144 ,  0.04593152,\n",
       "         -1.38241688],\n",
       "        [-0.08192319, -0.23750554,  0.29040893,  1.2219144 ,  1.19421955,\n",
       "         -0.19748813],\n",
       "        [-1.31077107, -1.46598246,  1.53501866,  1.2219144 ,  0.04593152,\n",
       "         -1.38241688],\n",
       "        [-1.31077107,  0.99097138,  1.53501866,  1.2219144 ,  0.04593152,\n",
       "          0.98744063],\n",
       "        [-0.08192319,  0.99097138, -0.95420079,  1.2219144 ,  1.19421955,\n",
       "         -0.19748813],\n",
       "        [ 1.14692469,  0.99097138, -0.95420079, -1.15843832, -1.10235651,\n",
       "         -0.19748813],\n",
       "        [-0.08192319, -1.46598246, -0.95420079,  0.03173804, -1.10235651,\n",
       "          0.98744063],\n",
       "        [-0.08192319, -0.23750554,  1.53501866,  0.03173804,  1.19421955,\n",
       "         -0.19748813],\n",
       "        [ 1.14692469,  0.99097138, -0.95420079,  0.03173804, -1.10235651,\n",
       "          0.98744063],\n",
       "        [-0.08192319, -0.23750554, -0.95420079, -1.15843832, -1.10235651,\n",
       "          0.98744063],\n",
       "        [-1.31077107, -1.46598246,  1.53501866,  1.2219144 ,  1.19421955,\n",
       "         -1.38241688],\n",
       "        [-1.31077107,  0.99097138, -0.95420079, -1.15843832, -1.10235651,\n",
       "          0.98744063],\n",
       "        [ 1.14692469,  0.99097138, -0.95420079,  0.03173804, -1.10235651,\n",
       "         -0.19748813],\n",
       "        [-1.31077107, -1.46598246,  0.29040893,  0.03173804,  1.19421955,\n",
       "         -1.38241688],\n",
       "        [-1.31077107,  0.99097138,  1.53501866,  1.2219144 ,  1.19421955,\n",
       "          0.98744063],\n",
       "        [-0.08192319, -0.23750554,  0.29040893,  1.2219144 ,  0.04593152,\n",
       "         -0.19748813],\n",
       "        [ 1.14692469,  0.99097138, -0.95420079,  0.03173804, -1.10235651,\n",
       "          0.98744063],\n",
       "        [-1.31077107, -1.46598246,  1.53501866,  0.03173804,  1.19421955,\n",
       "          0.98744063],\n",
       "        [-0.08192319,  0.99097138,  1.53501866,  0.03173804,  1.19421955,\n",
       "          0.98744063],\n",
       "        [-1.31077107, -1.46598246,  0.29040893,  0.03173804,  1.19421955,\n",
       "          0.98744063],\n",
       "        [ 1.14692469,  0.99097138,  1.53501866,  1.2219144 ,  1.19421955,\n",
       "          0.98744063],\n",
       "        [ 1.14692469,  0.99097138, -0.95420079, -1.15843832, -1.10235651,\n",
       "          0.98744063],\n",
       "        [ 1.14692469,  0.99097138, -0.95420079, -1.15843832, -1.10235651,\n",
       "         -0.19748813],\n",
       "        [-1.31077107, -0.23750554, -0.95420079, -1.15843832, -1.10235651,\n",
       "          0.98744063],\n",
       "        [-0.08192319, -1.46598246,  1.53501866,  1.2219144 ,  1.19421955,\n",
       "         -1.38241688],\n",
       "        [-1.31077107, -1.46598246,  1.53501866,  1.2219144 ,  1.19421955,\n",
       "         -1.38241688],\n",
       "        [-0.08192319, -1.46598246, -0.95420079,  0.03173804, -1.10235651,\n",
       "          0.98744063],\n",
       "        [-0.08192319, -0.23750554, -0.95420079, -1.15843832, -1.10235651,\n",
       "         -1.38241688],\n",
       "        [-0.08192319, -1.46598246,  0.29040893,  0.03173804,  0.04593152,\n",
       "         -1.38241688],\n",
       "        [ 1.14692469,  0.99097138, -0.95420079, -1.15843832, -1.10235651,\n",
       "         -0.19748813],\n",
       "        [-1.31077107,  0.99097138, -0.95420079, -1.15843832,  0.04593152,\n",
       "         -0.19748813],\n",
       "        [-0.08192319,  0.99097138,  0.29040893,  0.03173804,  1.19421955,\n",
       "          0.98744063],\n",
       "        [-1.31077107,  0.99097138, -0.95420079, -1.15843832, -1.10235651,\n",
       "          0.98744063],\n",
       "        [ 1.14692469,  0.99097138, -0.95420079, -1.15843832, -1.10235651,\n",
       "         -0.19748813],\n",
       "        [ 1.14692469,  0.99097138,  0.29040893,  1.2219144 ,  0.04593152,\n",
       "          0.98744063],\n",
       "        [-1.31077107, -0.23750554, -0.95420079, -1.15843832, -1.10235651,\n",
       "          0.98744063],\n",
       "        [-0.08192319, -1.46598246, -0.95420079,  0.03173804, -1.10235651,\n",
       "          0.98744063],\n",
       "        [ 1.14692469, -0.23750554, -0.95420079, -1.15843832, -1.10235651,\n",
       "         -1.38241688],\n",
       "        [-0.08192319, -0.23750554,  0.29040893,  1.2219144 ,  0.04593152,\n",
       "         -1.38241688],\n",
       "        [-0.08192319, -0.23750554,  0.29040893,  1.2219144 ,  0.04593152,\n",
       "         -0.19748813]]))"
      ]
     },
     "execution_count": 44,
     "metadata": {},
     "output_type": "execute_result"
    }
   ],
   "source": [
    "#Feature Scaling by Standard Scaler\n",
    "from sklearn.preprocessing import StandardScaler\n",
    "scaler =  StandardScaler()\n",
    "X_train=scaler.fit_transform(X_train)\n",
    "X_test = scaler.fit_transform(X_test)\n",
    "X_train ,X_test"
   ]
  },
  {
   "cell_type": "code",
   "execution_count": 45,
   "id": "7cc0b776",
   "metadata": {},
   "outputs": [],
   "source": [
    "#Feature Importance\n",
    "from sklearn.ensemble import ExtraTreesClassifier\n",
    "import matplotlib.pyplot as plt"
   ]
  },
  {
   "cell_type": "code",
   "execution_count": 46,
   "id": "5bb3dd82",
   "metadata": {},
   "outputs": [
    {
     "name": "stdout",
     "output_type": "stream",
     "text": [
      "[0.02151906 0.03130622 0.21254846 0.26093321 0.44842174 0.0252713 ]\n"
     ]
    }
   ],
   "source": [
    "model= ExtraTreesClassifier()\n",
    "model.fit(x,y)\n",
    "print(model.feature_importances_)"
   ]
  },
  {
   "cell_type": "code",
   "execution_count": 47,
   "id": "addc53b2",
   "metadata": {},
   "outputs": [
    {
     "data": {
      "text/html": [
       "<div>\n",
       "<style scoped>\n",
       "    .dataframe tbody tr th:only-of-type {\n",
       "        vertical-align: middle;\n",
       "    }\n",
       "\n",
       "    .dataframe tbody tr th {\n",
       "        vertical-align: top;\n",
       "    }\n",
       "\n",
       "    .dataframe thead th {\n",
       "        text-align: right;\n",
       "    }\n",
       "</style>\n",
       "<table border=\"1\" class=\"dataframe\">\n",
       "  <thead>\n",
       "    <tr style=\"text-align: right;\">\n",
       "      <th></th>\n",
       "      <th>Features</th>\n",
       "      <th>score</th>\n",
       "    </tr>\n",
       "  </thead>\n",
       "  <tbody>\n",
       "    <tr>\n",
       "      <th>0</th>\n",
       "      <td>industrial_risk</td>\n",
       "      <td>0.021519</td>\n",
       "    </tr>\n",
       "    <tr>\n",
       "      <th>1</th>\n",
       "      <td>management_risk</td>\n",
       "      <td>0.031306</td>\n",
       "    </tr>\n",
       "    <tr>\n",
       "      <th>2</th>\n",
       "      <td>financial_flexibility</td>\n",
       "      <td>0.212548</td>\n",
       "    </tr>\n",
       "    <tr>\n",
       "      <th>3</th>\n",
       "      <td>credibility</td>\n",
       "      <td>0.260933</td>\n",
       "    </tr>\n",
       "    <tr>\n",
       "      <th>4</th>\n",
       "      <td>competitiveness</td>\n",
       "      <td>0.448422</td>\n",
       "    </tr>\n",
       "    <tr>\n",
       "      <th>5</th>\n",
       "      <td>operating_risk</td>\n",
       "      <td>0.025271</td>\n",
       "    </tr>\n",
       "  </tbody>\n",
       "</table>\n",
       "</div>"
      ],
      "text/plain": [
       "                Features     score\n",
       "0        industrial_risk  0.021519\n",
       "1        management_risk  0.031306\n",
       "2  financial_flexibility  0.212548\n",
       "3            credibility  0.260933\n",
       "4        competitiveness  0.448422\n",
       "5         operating_risk  0.025271"
      ]
     },
     "execution_count": 47,
     "metadata": {},
     "output_type": "execute_result"
    }
   ],
   "source": [
    "d=pd.DataFrame({'Features':x.columns,'score':model.feature_importances_})\n",
    "d"
   ]
  },
  {
   "cell_type": "code",
   "execution_count": 48,
   "id": "8b78ea5c",
   "metadata": {},
   "outputs": [
    {
     "data": {
      "image/png": "[encoded data removed]",
      "text/plain": [
       "<Figure size 432x288 with 1 Axes>"
      ]
     },
     "metadata": {
      "needs_background": "light"
     },
     "output_type": "display_data"
    }
   ],
   "source": [
    "Feature = pd.Series(model.feature_importances_, index = x.columns)\n",
    "Feature.nlargest(6).plot(kind = 'barh')\n",
    "plt.show()"
   ]
  },
  {
   "cell_type": "code",
   "execution_count": 49,
   "id": "766efb83",
   "metadata": {},
   "outputs": [
    {
     "data": {
      "text/plain": [
       "<AxesSubplot:>"
      ]
     },
     "execution_count": 49,
     "metadata": {},
     "output_type": "execute_result"
    },
    {
     "data": {
      "image/png": "[encoded data removed]",
      "text/plain": [
       "<Figure size 720x720 with 2 Axes>"
      ]
     },
     "metadata": {
      "needs_background": "light"
     },
     "output_type": "display_data"
    }
   ],
   "source": [
    "plt.figure(figsize=(10,10))\n",
    "corrmat = df.corr()\n",
    "sns.heatmap(corrmat, vmax=1.0, square=True)"
   ]
  },
  {
   "cell_type": "markdown",
   "id": "316bc250",
   "metadata": {},
   "source": [
    "# 1.Logistic Regression"
   ]
  },
  {
   "cell_type": "code",
   "execution_count": 50,
   "id": "f7365dd9",
   "metadata": {},
   "outputs": [],
   "source": [
    "from sklearn.linear_model import LogisticRegression\n",
    "from sklearn import preprocessing \n",
    "from sklearn.metrics import precision_recall_fscore_support\n",
    "from sklearn.metrics import accuracy_score, classification_report, confusion_matrix, mean_absolute_percentage_error, mean_squared_error, roc_auc_score, auc, log_loss, precision_recall_fscore_support, mean_absolute_error\n",
    "from sklearn.metrics import roc_curve"
   ]
  },
  {
   "cell_type": "code",
   "execution_count": 51,
   "id": "3c706c43",
   "metadata": {},
   "outputs": [],
   "source": [
    "# performing logistic regression\n",
    "logmodel=LogisticRegression()"
   ]
  },
  {
   "cell_type": "code",
   "execution_count": 52,
   "id": "cc731762",
   "metadata": {},
   "outputs": [
    {
     "data": {
      "text/html": [
       "<style>#sk-container-id-1 {color: black;background-color: white;}#sk-container-id-1 pre{padding: 0;}#sk-container-id-1 div.sk-toggleable {background-color: white;}#sk-container-id-1 label.sk-toggleable__label {cursor: pointer;display: block;width: 100%;margin-bottom: 0;padding: 0.3em;box-sizing: border-box;text-align: center;}#sk-container-id-1 label.sk-toggleable__label-arrow:before {content: \"▸\";float: left;margin-right: 0.25em;color: #696969;}#sk-container-id-1 label.sk-toggleable__label-arrow:hover:before {color: black;}#sk-container-id-1 div.sk-estimator:hover label.sk-toggleable__label-arrow:before {color: black;}#sk-container-id-1 div.sk-toggleable__content {max-height: 0;max-width: 0;overflow: hidden;text-align: left;background-color: #f0f8ff;}#sk-container-id-1 div.sk-toggleable__content pre {margin: 0.2em;color: black;border-radius: 0.25em;background-color: #f0f8ff;}#sk-container-id-1 input.sk-toggleable__control:checked~div.sk-toggleable__content {max-height: 200px;max-width: 100%;overflow: auto;}#sk-container-id-1 input.sk-toggleable__control:checked~label.sk-toggleable__label-arrow:before {content: \"▾\";}#sk-container-id-1 div.sk-estimator input.sk-toggleable__control:checked~label.sk-toggleable__label {background-color: #d4ebff;}#sk-container-id-1 div.sk-label input.sk-toggleable__control:checked~label.sk-toggleable__label {background-color: #d4ebff;}#sk-container-id-1 input.sk-hidden--visually {border: 0;clip: rect(1px 1px 1px 1px);clip: rect(1px, 1px, 1px, 1px);height: 1px;margin: -1px;overflow: hidden;padding: 0;position: absolute;width: 1px;}#sk-container-id-1 div.sk-estimator {font-family: monospace;background-color: #f0f8ff;border: 1px dotted black;border-radius: 0.25em;box-sizing: border-box;margin-bottom: 0.5em;}#sk-container-id-1 div.sk-estimator:hover {background-color: #d4ebff;}#sk-container-id-1 div.sk-parallel-item::after {content: \"\";width: 100%;border-bottom: 1px solid gray;flex-grow: 1;}#sk-container-id-1 div.sk-label:hover label.sk-toggleable__label {background-color: #d4ebff;}#sk-container-id-1 div.sk-serial::before {content: \"\";position: absolute;border-left: 1px solid gray;box-sizing: border-box;top: 0;bottom: 0;left: 50%;z-index: 0;}#sk-container-id-1 div.sk-serial {display: flex;flex-direction: column;align-items: center;background-color: white;padding-right: 0.2em;padding-left: 0.2em;position: relative;}#sk-container-id-1 div.sk-item {position: relative;z-index: 1;}#sk-container-id-1 div.sk-parallel {display: flex;align-items: stretch;justify-content: center;background-color: white;position: relative;}#sk-container-id-1 div.sk-item::before, #sk-container-id-1 div.sk-parallel-item::before {content: \"\";position: absolute;border-left: 1px solid gray;box-sizing: border-box;top: 0;bottom: 0;left: 50%;z-index: -1;}#sk-container-id-1 div.sk-parallel-item {display: flex;flex-direction: column;z-index: 1;position: relative;background-color: white;}#sk-container-id-1 div.sk-parallel-item:first-child::after {align-self: flex-end;width: 50%;}#sk-container-id-1 div.sk-parallel-item:last-child::after {align-self: flex-start;width: 50%;}#sk-container-id-1 div.sk-parallel-item:only-child::after {width: 0;}#sk-container-id-1 div.sk-dashed-wrapped {border: 1px dashed gray;margin: 0 0.4em 0.5em 0.4em;box-sizing: border-box;padding-bottom: 0.4em;background-color: white;}#sk-container-id-1 div.sk-label label {font-family: monospace;font-weight: bold;display: inline-block;line-height: 1.2em;}#sk-container-id-1 div.sk-label-container {text-align: center;}#sk-container-id-1 div.sk-container {/* jupyter's `normalize.less` sets `[hidden] { display: none; }` but bootstrap.min.css set `[hidden] { display: none !important; }` so we also need the `!important` here to be able to override the default hidden behavior on the sphinx rendered scikit-learn.org. See: https://github.com/scikit-learn/scikit-learn/issues/21755 */display: inline-block !important;position: relative;}#sk-container-id-1 div.sk-text-repr-fallback {display: none;}</style><div id=\"sk-container-id-1\" class=\"sk-top-container\"><div class=\"sk-text-repr-fallback\"><pre>LogisticRegression()</pre><b>In a Jupyter environment, please rerun this cell to show the HTML representation or trust the notebook. <br />On GitHub, the HTML representation is unable to render, please try loading this page with nbviewer.org.</b></div><div class=\"sk-container\" hidden><div class=\"sk-item\"><div class=\"sk-estimator sk-toggleable\"><input class=\"sk-toggleable__control sk-hidden--visually\" id=\"sk-estimator-id-1\" type=\"checkbox\" checked><label for=\"sk-estimator-id-1\" class=\"sk-toggleable__label sk-toggleable__label-arrow\">LogisticRegression</label><div class=\"sk-toggleable__content\"><pre>LogisticRegression()</pre></div></div></div></div></div>"
      ],
      "text/plain": [
       "LogisticRegression()"
      ]
     },
     "execution_count": 52,
     "metadata": {},
     "output_type": "execute_result"
    }
   ],
   "source": [
    "logmodel.fit(X_train,y_train)"
   ]
  },
  {
   "cell_type": "code",
   "execution_count": 53,
   "id": "c5990d0e",
   "metadata": {},
   "outputs": [
    {
     "data": {
      "text/plain": [
       "array([0, 1, 0, 1, 0, 1, 1, 0, 1, 0, 1, 1, 1, 1, 0, 1, 0, 1, 1, 0, 0, 1,\n",
       "       1, 1, 1, 0, 0, 0, 1, 0, 1, 1, 0, 1, 1, 0, 1, 0, 0, 0, 0, 1, 0, 1,\n",
       "       1, 0, 1, 1, 1, 0, 1, 0, 1, 0, 0, 1, 1, 1, 0, 0, 1, 0, 1, 1, 0, 1,\n",
       "       0, 1, 0, 1, 0, 0, 1, 1, 0, 1, 0, 1, 0, 1, 1, 0, 1, 1, 1, 1, 0, 0,\n",
       "       1, 1, 1, 1, 1, 1, 1, 1, 1, 1, 1, 1, 0, 1, 1, 0, 1, 0, 1, 0, 1, 0,\n",
       "       1, 1, 1, 1, 1, 0, 0, 1, 0, 0, 1, 0, 0, 1, 1, 1, 0, 1, 1, 1, 1, 0,\n",
       "       0, 0, 1, 1, 0, 0, 1, 0, 0, 1, 0, 0, 1, 0, 0, 0, 1, 1])"
      ]
     },
     "execution_count": 53,
     "metadata": {},
     "output_type": "execute_result"
    }
   ],
   "source": [
    "y_pred=logmodel.predict(X_test)\n",
    "y_pred"
   ]
  },
  {
   "cell_type": "code",
   "execution_count": 54,
   "id": "df56b511",
   "metadata": {},
   "outputs": [
    {
     "name": "stdout",
     "output_type": "stream",
     "text": [
      "Classification Report : \n",
      "               precision    recall  f1-score   support\n",
      "\n",
      "           0       1.00      0.98      0.99        64\n",
      "           1       0.99      1.00      0.99        86\n",
      "\n",
      "    accuracy                           0.99       150\n",
      "   macro avg       0.99      0.99      0.99       150\n",
      "weighted avg       0.99      0.99      0.99       150\n",
      "\n",
      "==================================================\n",
      "Accuracy = 0.9933333333333333\n",
      "==================================================\n"
     ]
    }
   ],
   "source": [
    "#classification Report\n",
    "acc1 = accuracy_score(y_test,y_pred)\n",
    "print('Classification Report : \\n',classification_report(y_test,y_pred))\n",
    "print('='*50)\n",
    "print('Accuracy =',acc1)\n",
    "print('='*50)"
   ]
  },
  {
   "cell_type": "code",
   "execution_count": 55,
   "id": "fdb15eb9",
   "metadata": {},
   "outputs": [],
   "source": [
    "import numpy as np\n",
    "import matplotlib.pyplot as plt\n",
    "import seaborn as sns\n",
    "%matplotlib inline\n",
    "import math"
   ]
  },
  {
   "cell_type": "code",
   "execution_count": 56,
   "id": "f9fff6d9",
   "metadata": {},
   "outputs": [
    {
     "data": {
      "image/png": "[encoded data removed]",
      "text/plain": [
       "<Figure size 432x288 with 1 Axes>"
      ]
     },
     "metadata": {
      "needs_background": "light"
     },
     "output_type": "display_data"
    }
   ],
   "source": [
    "x = np.linspace(-10, 10, 100)\n",
    "z = 1/(1 + np.exp(-x))\n",
    "  \n",
    "plt.plot(x, z)\n",
    "plt.xlabel(\"x\")\n",
    "plt.ylabel(\"Sigmoid(X)\")\n",
    "  \n",
    "plt.show()"
   ]
  },
  {
   "cell_type": "code",
   "execution_count": 57,
   "id": "0e3e31cc",
   "metadata": {},
   "outputs": [
    {
     "data": {
      "text/plain": [
       "Text(0.5, 14.09375, 'Predicted label')"
      ]
     },
     "execution_count": 57,
     "metadata": {},
     "output_type": "execute_result"
    },
    {
     "data": {
      "image/png": "[encoded data removed]",
      "text/plain": [
       "<Figure size 432x288 with 2 Axes>"
      ]
     },
     "metadata": {
      "needs_background": "light"
     },
     "output_type": "display_data"
    }
   ],
   "source": [
    "#Confusion Matrix\n",
    "import seaborn as sns\n",
    "cm = confusion_matrix(y_test,y_pred)\n",
    "class_label = [\"non_bankruptcy\", \"bankruptcy\"]\n",
    "df_cm = pd.DataFrame(cm, index = class_label, columns = class_label)\n",
    "sns.heatmap(df_cm, annot = True, fmt = \"d\", cmap='Blues')\n",
    "plt.title('Confusion matrix for logistic regression ', fontsize = 20);\n",
    "plt.title(\"confusion matrix\", y=1.1)\n",
    "plt.ylabel(\"Actual label\")\n",
    "plt.xlabel(\"Predicted label\")"
   ]
  },
  {
   "cell_type": "markdown",
   "id": "a9253ef3",
   "metadata": {},
   "source": [
    "# 2.Support Vector Machine"
   ]
  },
  {
   "cell_type": "code",
   "execution_count": 58,
   "id": "d6bbbfc7",
   "metadata": {},
   "outputs": [],
   "source": [
    "from sklearn.svm import SVC\n",
    "from sklearn.model_selection import GridSearchCV"
   ]
  },
  {
   "cell_type": "code",
   "execution_count": 59,
   "id": "158444b5",
   "metadata": {},
   "outputs": [
    {
     "data": {
      "text/html": [
       "<style>#sk-container-id-2 {color: black;background-color: white;}#sk-container-id-2 pre{padding: 0;}#sk-container-id-2 div.sk-toggleable {background-color: white;}#sk-container-id-2 label.sk-toggleable__label {cursor: pointer;display: block;width: 100%;margin-bottom: 0;padding: 0.3em;box-sizing: border-box;text-align: center;}#sk-container-id-2 label.sk-toggleable__label-arrow:before {content: \"▸\";float: left;margin-right: 0.25em;color: #696969;}#sk-container-id-2 label.sk-toggleable__label-arrow:hover:before {color: black;}#sk-container-id-2 div.sk-estimator:hover label.sk-toggleable__label-arrow:before {color: black;}#sk-container-id-2 div.sk-toggleable__content {max-height: 0;max-width: 0;overflow: hidden;text-align: left;background-color: #f0f8ff;}#sk-container-id-2 div.sk-toggleable__content pre {margin: 0.2em;color: black;border-radius: 0.25em;background-color: #f0f8ff;}#sk-container-id-2 input.sk-toggleable__control:checked~div.sk-toggleable__content {max-height: 200px;max-width: 100%;overflow: auto;}#sk-container-id-2 input.sk-toggleable__control:checked~label.sk-toggleable__label-arrow:before {content: \"▾\";}#sk-container-id-2 div.sk-estimator input.sk-toggleable__control:checked~label.sk-toggleable__label {background-color: #d4ebff;}#sk-container-id-2 div.sk-label input.sk-toggleable__control:checked~label.sk-toggleable__label {background-color: #d4ebff;}#sk-container-id-2 input.sk-hidden--visually {border: 0;clip: rect(1px 1px 1px 1px);clip: rect(1px, 1px, 1px, 1px);height: 1px;margin: -1px;overflow: hidden;padding: 0;position: absolute;width: 1px;}#sk-container-id-2 div.sk-estimator {font-family: monospace;background-color: #f0f8ff;border: 1px dotted black;border-radius: 0.25em;box-sizing: border-box;margin-bottom: 0.5em;}#sk-container-id-2 div.sk-estimator:hover {background-color: #d4ebff;}#sk-container-id-2 div.sk-parallel-item::after {content: \"\";width: 100%;border-bottom: 1px solid gray;flex-grow: 1;}#sk-container-id-2 div.sk-label:hover label.sk-toggleable__label {background-color: #d4ebff;}#sk-container-id-2 div.sk-serial::before {content: \"\";position: absolute;border-left: 1px solid gray;box-sizing: border-box;top: 0;bottom: 0;left: 50%;z-index: 0;}#sk-container-id-2 div.sk-serial {display: flex;flex-direction: column;align-items: center;background-color: white;padding-right: 0.2em;padding-left: 0.2em;position: relative;}#sk-container-id-2 div.sk-item {position: relative;z-index: 1;}#sk-container-id-2 div.sk-parallel {display: flex;align-items: stretch;justify-content: center;background-color: white;position: relative;}#sk-container-id-2 div.sk-item::before, #sk-container-id-2 div.sk-parallel-item::before {content: \"\";position: absolute;border-left: 1px solid gray;box-sizing: border-box;top: 0;bottom: 0;left: 50%;z-index: -1;}#sk-container-id-2 div.sk-parallel-item {display: flex;flex-direction: column;z-index: 1;position: relative;background-color: white;}#sk-container-id-2 div.sk-parallel-item:first-child::after {align-self: flex-end;width: 50%;}#sk-container-id-2 div.sk-parallel-item:last-child::after {align-self: flex-start;width: 50%;}#sk-container-id-2 div.sk-parallel-item:only-child::after {width: 0;}#sk-container-id-2 div.sk-dashed-wrapped {border: 1px dashed gray;margin: 0 0.4em 0.5em 0.4em;box-sizing: border-box;padding-bottom: 0.4em;background-color: white;}#sk-container-id-2 div.sk-label label {font-family: monospace;font-weight: bold;display: inline-block;line-height: 1.2em;}#sk-container-id-2 div.sk-label-container {text-align: center;}#sk-container-id-2 div.sk-container {/* jupyter's `normalize.less` sets `[hidden] { display: none; }` but bootstrap.min.css set `[hidden] { display: none !important; }` so we also need the `!important` here to be able to override the default hidden behavior on the sphinx rendered scikit-learn.org. See: https://github.com/scikit-learn/scikit-learn/issues/21755 */display: inline-block !important;position: relative;}#sk-container-id-2 div.sk-text-repr-fallback {display: none;}</style><div id=\"sk-container-id-2\" class=\"sk-top-container\"><div class=\"sk-text-repr-fallback\"><pre>GridSearchCV(cv=10, estimator=SVC(),\n",
       "             param_grid={&#x27;C&#x27;: [50, 15, 10, 6, 5, 0.1, 0.001, 0.0001],\n",
       "                         &#x27;gamma&#x27;: [100, 50, 5, 0.5, 0.1, 0.01, 0.0001, &#x27;auto&#x27;],\n",
       "                         &#x27;kernel&#x27;: [&#x27;rbf&#x27;]})</pre><b>In a Jupyter environment, please rerun this cell to show the HTML representation or trust the notebook. <br />On GitHub, the HTML representation is unable to render, please try loading this page with nbviewer.org.</b></div><div class=\"sk-container\" hidden><div class=\"sk-item sk-dashed-wrapped\"><div class=\"sk-label-container\"><div class=\"sk-label sk-toggleable\"><input class=\"sk-toggleable__control sk-hidden--visually\" id=\"sk-estimator-id-2\" type=\"checkbox\" ><label for=\"sk-estimator-id-2\" class=\"sk-toggleable__label sk-toggleable__label-arrow\">GridSearchCV</label><div class=\"sk-toggleable__content\"><pre>GridSearchCV(cv=10, estimator=SVC(),\n",
       "             param_grid={&#x27;C&#x27;: [50, 15, 10, 6, 5, 0.1, 0.001, 0.0001],\n",
       "                         &#x27;gamma&#x27;: [100, 50, 5, 0.5, 0.1, 0.01, 0.0001, &#x27;auto&#x27;],\n",
       "                         &#x27;kernel&#x27;: [&#x27;rbf&#x27;]})</pre></div></div></div><div class=\"sk-parallel\"><div class=\"sk-parallel-item\"><div class=\"sk-item\"><div class=\"sk-label-container\"><div class=\"sk-label sk-toggleable\"><input class=\"sk-toggleable__control sk-hidden--visually\" id=\"sk-estimator-id-3\" type=\"checkbox\" ><label for=\"sk-estimator-id-3\" class=\"sk-toggleable__label sk-toggleable__label-arrow\">estimator: SVC</label><div class=\"sk-toggleable__content\"><pre>SVC()</pre></div></div></div><div class=\"sk-serial\"><div class=\"sk-item\"><div class=\"sk-estimator sk-toggleable\"><input class=\"sk-toggleable__control sk-hidden--visually\" id=\"sk-estimator-id-4\" type=\"checkbox\" ><label for=\"sk-estimator-id-4\" class=\"sk-toggleable__label sk-toggleable__label-arrow\">SVC</label><div class=\"sk-toggleable__content\"><pre>SVC()</pre></div></div></div></div></div></div></div></div></div></div>"
      ],
      "text/plain": [
       "GridSearchCV(cv=10, estimator=SVC(),\n",
       "             param_grid={'C': [50, 15, 10, 6, 5, 0.1, 0.001, 0.0001],\n",
       "                         'gamma': [100, 50, 5, 0.5, 0.1, 0.01, 0.0001, 'auto'],\n",
       "                         'kernel': ['rbf']})"
      ]
     },
     "execution_count": 59,
     "metadata": {},
     "output_type": "execute_result"
    }
   ],
   "source": [
    "clf = SVC()\n",
    "\n",
    "kernel: 'poly'\n",
    "parameters ={'kernel':['rbf'],\n",
    "              'gamma':[100, 50, 5, 0.5, 0.1, 0.01, 0.0001, 'auto'],\n",
    "               'C':[50, 15, 10, 6, 5, 0.1, 0.001, 0.0001]}\n",
    "\n",
    "gsv = GridSearchCV(clf, param_grid = parameters, cv=10)\n",
    "\n",
    "gsv.fit(X_train, y_train)"
   ]
  },
  {
   "cell_type": "code",
   "execution_count": 60,
   "id": "d8f61824",
   "metadata": {},
   "outputs": [
    {
     "data": {
      "text/plain": [
       "{'C': 50, 'gamma': 0.5, 'kernel': 'rbf'}"
      ]
     },
     "execution_count": 60,
     "metadata": {},
     "output_type": "execute_result"
    }
   ],
   "source": [
    "gsv.best_params_"
   ]
  },
  {
   "cell_type": "code",
   "execution_count": 61,
   "id": "6eb596d0",
   "metadata": {},
   "outputs": [
    {
     "data": {
      "text/plain": [
       "1.0"
      ]
     },
     "execution_count": 61,
     "metadata": {},
     "output_type": "execute_result"
    }
   ],
   "source": [
    "gsv.best_score_"
   ]
  },
  {
   "cell_type": "code",
   "execution_count": 62,
   "id": "f77375d1",
   "metadata": {},
   "outputs": [
    {
     "data": {
      "text/html": [
       "<style>#sk-container-id-3 {color: black;background-color: white;}#sk-container-id-3 pre{padding: 0;}#sk-container-id-3 div.sk-toggleable {background-color: white;}#sk-container-id-3 label.sk-toggleable__label {cursor: pointer;display: block;width: 100%;margin-bottom: 0;padding: 0.3em;box-sizing: border-box;text-align: center;}#sk-container-id-3 label.sk-toggleable__label-arrow:before {content: \"▸\";float: left;margin-right: 0.25em;color: #696969;}#sk-container-id-3 label.sk-toggleable__label-arrow:hover:before {color: black;}#sk-container-id-3 div.sk-estimator:hover label.sk-toggleable__label-arrow:before {color: black;}#sk-container-id-3 div.sk-toggleable__content {max-height: 0;max-width: 0;overflow: hidden;text-align: left;background-color: #f0f8ff;}#sk-container-id-3 div.sk-toggleable__content pre {margin: 0.2em;color: black;border-radius: 0.25em;background-color: #f0f8ff;}#sk-container-id-3 input.sk-toggleable__control:checked~div.sk-toggleable__content {max-height: 200px;max-width: 100%;overflow: auto;}#sk-container-id-3 input.sk-toggleable__control:checked~label.sk-toggleable__label-arrow:before {content: \"▾\";}#sk-container-id-3 div.sk-estimator input.sk-toggleable__control:checked~label.sk-toggleable__label {background-color: #d4ebff;}#sk-container-id-3 div.sk-label input.sk-toggleable__control:checked~label.sk-toggleable__label {background-color: #d4ebff;}#sk-container-id-3 input.sk-hidden--visually {border: 0;clip: rect(1px 1px 1px 1px);clip: rect(1px, 1px, 1px, 1px);height: 1px;margin: -1px;overflow: hidden;padding: 0;position: absolute;width: 1px;}#sk-container-id-3 div.sk-estimator {font-family: monospace;background-color: #f0f8ff;border: 1px dotted black;border-radius: 0.25em;box-sizing: border-box;margin-bottom: 0.5em;}#sk-container-id-3 div.sk-estimator:hover {background-color: #d4ebff;}#sk-container-id-3 div.sk-parallel-item::after {content: \"\";width: 100%;border-bottom: 1px solid gray;flex-grow: 1;}#sk-container-id-3 div.sk-label:hover label.sk-toggleable__label {background-color: #d4ebff;}#sk-container-id-3 div.sk-serial::before {content: \"\";position: absolute;border-left: 1px solid gray;box-sizing: border-box;top: 0;bottom: 0;left: 50%;z-index: 0;}#sk-container-id-3 div.sk-serial {display: flex;flex-direction: column;align-items: center;background-color: white;padding-right: 0.2em;padding-left: 0.2em;position: relative;}#sk-container-id-3 div.sk-item {position: relative;z-index: 1;}#sk-container-id-3 div.sk-parallel {display: flex;align-items: stretch;justify-content: center;background-color: white;position: relative;}#sk-container-id-3 div.sk-item::before, #sk-container-id-3 div.sk-parallel-item::before {content: \"\";position: absolute;border-left: 1px solid gray;box-sizing: border-box;top: 0;bottom: 0;left: 50%;z-index: -1;}#sk-container-id-3 div.sk-parallel-item {display: flex;flex-direction: column;z-index: 1;position: relative;background-color: white;}#sk-container-id-3 div.sk-parallel-item:first-child::after {align-self: flex-end;width: 50%;}#sk-container-id-3 div.sk-parallel-item:last-child::after {align-self: flex-start;width: 50%;}#sk-container-id-3 div.sk-parallel-item:only-child::after {width: 0;}#sk-container-id-3 div.sk-dashed-wrapped {border: 1px dashed gray;margin: 0 0.4em 0.5em 0.4em;box-sizing: border-box;padding-bottom: 0.4em;background-color: white;}#sk-container-id-3 div.sk-label label {font-family: monospace;font-weight: bold;display: inline-block;line-height: 1.2em;}#sk-container-id-3 div.sk-label-container {text-align: center;}#sk-container-id-3 div.sk-container {/* jupyter's `normalize.less` sets `[hidden] { display: none; }` but bootstrap.min.css set `[hidden] { display: none !important; }` so we also need the `!important` here to be able to override the default hidden behavior on the sphinx rendered scikit-learn.org. See: https://github.com/scikit-learn/scikit-learn/issues/21755 */display: inline-block !important;position: relative;}#sk-container-id-3 div.sk-text-repr-fallback {display: none;}</style><div id=\"sk-container-id-3\" class=\"sk-top-container\"><div class=\"sk-text-repr-fallback\"><pre>SVC(C=50, gamma=0.5)</pre><b>In a Jupyter environment, please rerun this cell to show the HTML representation or trust the notebook. <br />On GitHub, the HTML representation is unable to render, please try loading this page with nbviewer.org.</b></div><div class=\"sk-container\" hidden><div class=\"sk-item\"><div class=\"sk-estimator sk-toggleable\"><input class=\"sk-toggleable__control sk-hidden--visually\" id=\"sk-estimator-id-5\" type=\"checkbox\" checked><label for=\"sk-estimator-id-5\" class=\"sk-toggleable__label sk-toggleable__label-arrow\">SVC</label><div class=\"sk-toggleable__content\"><pre>SVC(C=50, gamma=0.5)</pre></div></div></div></div></div>"
      ],
      "text/plain": [
       "SVC(C=50, gamma=0.5)"
      ]
     },
     "execution_count": 62,
     "metadata": {},
     "output_type": "execute_result"
    }
   ],
   "source": [
    "model = SVC(C = 50, gamma =0.5, kernel='rbf')\n",
    "model.fit(X_train , y_train)"
   ]
  },
  {
   "cell_type": "code",
   "execution_count": 63,
   "id": "8c0f9ac6",
   "metadata": {},
   "outputs": [
    {
     "data": {
      "text/plain": [
       "array([0, 1, 1, 1, 1, 1, 1, 0, 1, 1, 1, 1, 1, 1, 0, 1, 0, 1, 1, 0, 0, 1,\n",
       "       1, 1, 1, 0, 0, 0, 1, 0, 1, 1, 1, 1, 1, 0, 1, 0, 0, 0, 0, 1, 0, 1,\n",
       "       1, 0, 1, 1, 1, 0, 1, 0, 1, 0, 0, 1, 1, 1, 1, 0, 1, 0, 1, 1, 0, 1,\n",
       "       0, 1, 0, 1, 0, 0, 1, 1, 0, 1, 0, 1, 0, 1, 1, 0, 1, 1, 1, 1, 0, 0,\n",
       "       1, 1, 1, 1, 1, 1, 1, 1, 1, 1, 1, 1, 0, 1, 1, 0, 1, 0, 1, 0, 1, 1,\n",
       "       1, 1, 1, 1, 1, 0, 0, 1, 0, 0, 1, 0, 0, 1, 1, 1, 0, 1, 1, 1, 1, 0,\n",
       "       0, 0, 1, 1, 0, 0, 1, 0, 1, 1, 0, 0, 1, 0, 0, 0, 1, 1])"
      ]
     },
     "execution_count": 63,
     "metadata": {},
     "output_type": "execute_result"
    }
   ],
   "source": [
    "y_pred = model.predict(X_test)\n",
    "y_pred"
   ]
  },
  {
   "cell_type": "code",
   "execution_count": 64,
   "id": "a8d81b69",
   "metadata": {},
   "outputs": [],
   "source": [
    "from sklearn.calibration import CalibratedClassifierCV\n",
    "svm = SVC(C = 50, gamma = 0.5)\n",
    "clf = CalibratedClassifierCV(svm)\n",
    "clf.fit(X_train, y_train)\n",
    "y_prob = clf.predict_proba(X_test)[:,1]"
   ]
  },
  {
   "cell_type": "code",
   "execution_count": 65,
   "id": "5fa65883",
   "metadata": {},
   "outputs": [
    {
     "data": {
      "text/plain": [
       "array([0.44278898, 0.93895867, 0.58298901, 0.91657528, 0.55516063,\n",
       "       0.94213701, 0.80488002, 0.08991626, 0.8997386 , 0.55516063,\n",
       "       0.91782282, 0.88213183, 0.88076052, 0.94784409, 0.07227991,\n",
       "       0.92371332, 0.09077767, 0.94774812, 0.87711955, 0.07562688,\n",
       "       0.07458243, 0.92675729, 0.91890202, 0.94948411, 0.92675729,\n",
       "       0.07009041, 0.14956357, 0.34287766, 0.92698226, 0.09319516,\n",
       "       0.93877031, 0.94133543, 0.58298901, 0.93895867, 0.88213183,\n",
       "       0.1063326 , 0.9436124 , 0.07458243, 0.07227991, 0.08799192,\n",
       "       0.12474523, 0.93093454, 0.09223263, 0.92698226, 0.94481307,\n",
       "       0.09319516, 0.92237   , 0.94481307, 0.94280356, 0.0736682 ,\n",
       "       0.88261955, 0.08676079, 0.84288993, 0.08676079, 0.1063326 ,\n",
       "       0.94976784, 0.92333025, 0.92162047, 0.58298901, 0.08799192,\n",
       "       0.87711955, 0.07009041, 0.9080595 , 0.95973251, 0.09077767,\n",
       "       0.92237   , 0.07024935, 0.85078902, 0.09319516, 0.94519055,\n",
       "       0.14956357, 0.07024935, 0.92833932, 0.93117245, 0.08991626,\n",
       "       0.93977444, 0.07458243, 0.93782754, 0.44278898, 0.9377878 ,\n",
       "       0.88538477, 0.14956357, 0.88076052, 0.88213183, 0.88213183,\n",
       "       0.89908757, 0.08676079, 0.07227991, 0.95497953, 0.91736372,\n",
       "       0.78009624, 0.93935715, 0.95497953, 0.92237   , 0.95013576,\n",
       "       0.94795806, 0.93349133, 0.92566545, 0.93062057, 0.85078902,\n",
       "       0.10825997, 0.92655625, 0.9377878 , 0.0736682 , 0.94271051,\n",
       "       0.08799192, 0.88538477, 0.07458243, 0.94784409, 0.55516063,\n",
       "       0.91397797, 0.95973251, 0.91397797, 0.90789775, 0.93032287,\n",
       "       0.07458243, 0.34287766, 0.95013576, 0.10825997, 0.07227991,\n",
       "       0.91682088, 0.09319516, 0.07009041, 0.92371332, 0.93163065,\n",
       "       0.93853923, 0.10825997, 0.89908757, 0.92325571, 0.88261955,\n",
       "       0.92833932, 0.08799192, 0.07458243, 0.0736682 , 0.91782282,\n",
       "       0.91682088, 0.34287766, 0.13192162, 0.92733911, 0.07458243,\n",
       "       0.55516063, 0.93841323, 0.09319516, 0.07458243, 0.93977444,\n",
       "       0.0736682 , 0.34287766, 0.09077767, 0.91856736, 0.93853923])"
      ]
     },
     "execution_count": 65,
     "metadata": {},
     "output_type": "execute_result"
    }
   ],
   "source": [
    "#predict probab estimates\n",
    "y_prob"
   ]
  },
  {
   "cell_type": "code",
   "execution_count": 66,
   "id": "c1d76ac7",
   "metadata": {},
   "outputs": [
    {
     "name": "stdout",
     "output_type": "stream",
     "text": [
      "Classification Report : \n",
      "               precision    recall  f1-score   support\n",
      "\n",
      "           0       1.00      0.88      0.93        64\n",
      "           1       0.91      1.00      0.96        86\n",
      "\n",
      "    accuracy                           0.95       150\n",
      "   macro avg       0.96      0.94      0.94       150\n",
      "weighted avg       0.95      0.95      0.95       150\n",
      "\n",
      "==================================================\n",
      "Accuracy = 0.9466666666666667\n",
      "==================================================\n"
     ]
    }
   ],
   "source": [
    "acc2 = accuracy_score(y_test,y_pred)\n",
    "print('Classification Report : \\n',classification_report(y_test,y_pred))\n",
    "print('='*50)\n",
    "print('Accuracy =',acc2)\n",
    "print('='*50)"
   ]
  },
  {
   "cell_type": "code",
   "execution_count": 67,
   "id": "f081be05",
   "metadata": {},
   "outputs": [
    {
     "data": {
      "text/plain": [
       "Text(0.5, 14.09375, 'Predicted label')"
      ]
     },
     "execution_count": 67,
     "metadata": {},
     "output_type": "execute_result"
    },
    {
     "data": {
      "image/png": "[encoded data removed]",
      "text/plain": [
       "<Figure size 432x288 with 2 Axes>"
      ]
     },
     "metadata": {
      "needs_background": "light"
     },
     "output_type": "display_data"
    }
   ],
   "source": [
    "#Confusion Matrix\n",
    "import seaborn as sns\n",
    "cm = confusion_matrix(y_test,y_pred)\n",
    "class_label = [\"non_bankruptcy\", \"bankruptcy\"]\n",
    "df_cm = pd.DataFrame(cm, index = class_label, columns = class_label)\n",
    "sns.heatmap(df_cm, annot = True, fmt = \"d\", cmap='Blues')\n",
    "plt.title('Confusion matrix for logistic regression ', fontsize = 20);\n",
    "plt.title(\"confusion matrix\", y=1.1)\n",
    "plt.ylabel(\"Actual label\")\n",
    "plt.xlabel(\"Predicted label\")"
   ]
  },
  {
   "cell_type": "markdown",
   "id": "2ce1eb98",
   "metadata": {},
   "source": [
    "# 3.Decision Tree"
   ]
  },
  {
   "cell_type": "code",
   "execution_count": 68,
   "id": "7115722a",
   "metadata": {},
   "outputs": [],
   "source": [
    "from sklearn.tree import DecisionTreeClassifier, plot_tree"
   ]
  },
  {
   "cell_type": "code",
   "execution_count": 69,
   "id": "024bfd3c",
   "metadata": {},
   "outputs": [
    {
     "name": "stdout",
     "output_type": "stream",
     "text": [
      "Fitting 5 folds for each of 90 candidates, totalling 450 fits\n"
     ]
    },
    {
     "data": {
      "text/html": [
       "<style>#sk-container-id-4 {color: black;background-color: white;}#sk-container-id-4 pre{padding: 0;}#sk-container-id-4 div.sk-toggleable {background-color: white;}#sk-container-id-4 label.sk-toggleable__label {cursor: pointer;display: block;width: 100%;margin-bottom: 0;padding: 0.3em;box-sizing: border-box;text-align: center;}#sk-container-id-4 label.sk-toggleable__label-arrow:before {content: \"▸\";float: left;margin-right: 0.25em;color: #696969;}#sk-container-id-4 label.sk-toggleable__label-arrow:hover:before {color: black;}#sk-container-id-4 div.sk-estimator:hover label.sk-toggleable__label-arrow:before {color: black;}#sk-container-id-4 div.sk-toggleable__content {max-height: 0;max-width: 0;overflow: hidden;text-align: left;background-color: #f0f8ff;}#sk-container-id-4 div.sk-toggleable__content pre {margin: 0.2em;color: black;border-radius: 0.25em;background-color: #f0f8ff;}#sk-container-id-4 input.sk-toggleable__control:checked~div.sk-toggleable__content {max-height: 200px;max-width: 100%;overflow: auto;}#sk-container-id-4 input.sk-toggleable__control:checked~label.sk-toggleable__label-arrow:before {content: \"▾\";}#sk-container-id-4 div.sk-estimator input.sk-toggleable__control:checked~label.sk-toggleable__label {background-color: #d4ebff;}#sk-container-id-4 div.sk-label input.sk-toggleable__control:checked~label.sk-toggleable__label {background-color: #d4ebff;}#sk-container-id-4 input.sk-hidden--visually {border: 0;clip: rect(1px 1px 1px 1px);clip: rect(1px, 1px, 1px, 1px);height: 1px;margin: -1px;overflow: hidden;padding: 0;position: absolute;width: 1px;}#sk-container-id-4 div.sk-estimator {font-family: monospace;background-color: #f0f8ff;border: 1px dotted black;border-radius: 0.25em;box-sizing: border-box;margin-bottom: 0.5em;}#sk-container-id-4 div.sk-estimator:hover {background-color: #d4ebff;}#sk-container-id-4 div.sk-parallel-item::after {content: \"\";width: 100%;border-bottom: 1px solid gray;flex-grow: 1;}#sk-container-id-4 div.sk-label:hover label.sk-toggleable__label {background-color: #d4ebff;}#sk-container-id-4 div.sk-serial::before {content: \"\";position: absolute;border-left: 1px solid gray;box-sizing: border-box;top: 0;bottom: 0;left: 50%;z-index: 0;}#sk-container-id-4 div.sk-serial {display: flex;flex-direction: column;align-items: center;background-color: white;padding-right: 0.2em;padding-left: 0.2em;position: relative;}#sk-container-id-4 div.sk-item {position: relative;z-index: 1;}#sk-container-id-4 div.sk-parallel {display: flex;align-items: stretch;justify-content: center;background-color: white;position: relative;}#sk-container-id-4 div.sk-item::before, #sk-container-id-4 div.sk-parallel-item::before {content: \"\";position: absolute;border-left: 1px solid gray;box-sizing: border-box;top: 0;bottom: 0;left: 50%;z-index: -1;}#sk-container-id-4 div.sk-parallel-item {display: flex;flex-direction: column;z-index: 1;position: relative;background-color: white;}#sk-container-id-4 div.sk-parallel-item:first-child::after {align-self: flex-end;width: 50%;}#sk-container-id-4 div.sk-parallel-item:last-child::after {align-self: flex-start;width: 50%;}#sk-container-id-4 div.sk-parallel-item:only-child::after {width: 0;}#sk-container-id-4 div.sk-dashed-wrapped {border: 1px dashed gray;margin: 0 0.4em 0.5em 0.4em;box-sizing: border-box;padding-bottom: 0.4em;background-color: white;}#sk-container-id-4 div.sk-label label {font-family: monospace;font-weight: bold;display: inline-block;line-height: 1.2em;}#sk-container-id-4 div.sk-label-container {text-align: center;}#sk-container-id-4 div.sk-container {/* jupyter's `normalize.less` sets `[hidden] { display: none; }` but bootstrap.min.css set `[hidden] { display: none !important; }` so we also need the `!important` here to be able to override the default hidden behavior on the sphinx rendered scikit-learn.org. See: https://github.com/scikit-learn/scikit-learn/issues/21755 */display: inline-block !important;position: relative;}#sk-container-id-4 div.sk-text-repr-fallback {display: none;}</style><div id=\"sk-container-id-4\" class=\"sk-top-container\"><div class=\"sk-text-repr-fallback\"><pre>GridSearchCV(cv=5, estimator=DecisionTreeClassifier(random_state=1024),\n",
       "             param_grid={&#x27;ccp_alpha&#x27;: [0.1, 0.01, 0.001],\n",
       "                         &#x27;criterion&#x27;: [&#x27;gini&#x27;, &#x27;entropy&#x27;],\n",
       "                         &#x27;max_depth&#x27;: [5, 6, 7, 8, 9],\n",
       "                         &#x27;max_features&#x27;: [&#x27;auto&#x27;, &#x27;sqrt&#x27;, &#x27;log2&#x27;]},\n",
       "             verbose=True)</pre><b>In a Jupyter environment, please rerun this cell to show the HTML representation or trust the notebook. <br />On GitHub, the HTML representation is unable to render, please try loading this page with nbviewer.org.</b></div><div class=\"sk-container\" hidden><div class=\"sk-item sk-dashed-wrapped\"><div class=\"sk-label-container\"><div class=\"sk-label sk-toggleable\"><input class=\"sk-toggleable__control sk-hidden--visually\" id=\"sk-estimator-id-6\" type=\"checkbox\" ><label for=\"sk-estimator-id-6\" class=\"sk-toggleable__label sk-toggleable__label-arrow\">GridSearchCV</label><div class=\"sk-toggleable__content\"><pre>GridSearchCV(cv=5, estimator=DecisionTreeClassifier(random_state=1024),\n",
       "             param_grid={&#x27;ccp_alpha&#x27;: [0.1, 0.01, 0.001],\n",
       "                         &#x27;criterion&#x27;: [&#x27;gini&#x27;, &#x27;entropy&#x27;],\n",
       "                         &#x27;max_depth&#x27;: [5, 6, 7, 8, 9],\n",
       "                         &#x27;max_features&#x27;: [&#x27;auto&#x27;, &#x27;sqrt&#x27;, &#x27;log2&#x27;]},\n",
       "             verbose=True)</pre></div></div></div><div class=\"sk-parallel\"><div class=\"sk-parallel-item\"><div class=\"sk-item\"><div class=\"sk-label-container\"><div class=\"sk-label sk-toggleable\"><input class=\"sk-toggleable__control sk-hidden--visually\" id=\"sk-estimator-id-7\" type=\"checkbox\" ><label for=\"sk-estimator-id-7\" class=\"sk-toggleable__label sk-toggleable__label-arrow\">estimator: DecisionTreeClassifier</label><div class=\"sk-toggleable__content\"><pre>DecisionTreeClassifier(random_state=1024)</pre></div></div></div><div class=\"sk-serial\"><div class=\"sk-item\"><div class=\"sk-estimator sk-toggleable\"><input class=\"sk-toggleable__control sk-hidden--visually\" id=\"sk-estimator-id-8\" type=\"checkbox\" ><label for=\"sk-estimator-id-8\" class=\"sk-toggleable__label sk-toggleable__label-arrow\">DecisionTreeClassifier</label><div class=\"sk-toggleable__content\"><pre>DecisionTreeClassifier(random_state=1024)</pre></div></div></div></div></div></div></div></div></div></div>"
      ],
      "text/plain": [
       "GridSearchCV(cv=5, estimator=DecisionTreeClassifier(random_state=1024),\n",
       "             param_grid={'ccp_alpha': [0.1, 0.01, 0.001],\n",
       "                         'criterion': ['gini', 'entropy'],\n",
       "                         'max_depth': [5, 6, 7, 8, 9],\n",
       "                         'max_features': ['auto', 'sqrt', 'log2']},\n",
       "             verbose=True)"
      ]
     },
     "execution_count": 69,
     "metadata": {},
     "output_type": "execute_result"
    }
   ],
   "source": [
    "from sklearn.model_selection import GridSearchCV\n",
    "\n",
    "param_grid = {'max_features': ['auto', 'sqrt', 'log2'],\n",
    "              'ccp_alpha': [0.1, .01, .001],\n",
    "              'max_depth' : [5, 6, 7, 8, 9],\n",
    "              'criterion' :['gini', 'entropy']\n",
    "             }\n",
    "tree_clas = DecisionTreeClassifier(random_state=1024)\n",
    "grid_search = GridSearchCV(estimator=tree_clas, param_grid=param_grid, cv=5, verbose=True)\n",
    "grid_search.fit(X_train, y_train)"
   ]
  },
  {
   "cell_type": "code",
   "execution_count": 70,
   "id": "8ed8677a",
   "metadata": {},
   "outputs": [
    {
     "data": {
      "text/html": [
       "<style>#sk-container-id-5 {color: black;background-color: white;}#sk-container-id-5 pre{padding: 0;}#sk-container-id-5 div.sk-toggleable {background-color: white;}#sk-container-id-5 label.sk-toggleable__label {cursor: pointer;display: block;width: 100%;margin-bottom: 0;padding: 0.3em;box-sizing: border-box;text-align: center;}#sk-container-id-5 label.sk-toggleable__label-arrow:before {content: \"▸\";float: left;margin-right: 0.25em;color: #696969;}#sk-container-id-5 label.sk-toggleable__label-arrow:hover:before {color: black;}#sk-container-id-5 div.sk-estimator:hover label.sk-toggleable__label-arrow:before {color: black;}#sk-container-id-5 div.sk-toggleable__content {max-height: 0;max-width: 0;overflow: hidden;text-align: left;background-color: #f0f8ff;}#sk-container-id-5 div.sk-toggleable__content pre {margin: 0.2em;color: black;border-radius: 0.25em;background-color: #f0f8ff;}#sk-container-id-5 input.sk-toggleable__control:checked~div.sk-toggleable__content {max-height: 200px;max-width: 100%;overflow: auto;}#sk-container-id-5 input.sk-toggleable__control:checked~label.sk-toggleable__label-arrow:before {content: \"▾\";}#sk-container-id-5 div.sk-estimator input.sk-toggleable__control:checked~label.sk-toggleable__label {background-color: #d4ebff;}#sk-container-id-5 div.sk-label input.sk-toggleable__control:checked~label.sk-toggleable__label {background-color: #d4ebff;}#sk-container-id-5 input.sk-hidden--visually {border: 0;clip: rect(1px 1px 1px 1px);clip: rect(1px, 1px, 1px, 1px);height: 1px;margin: -1px;overflow: hidden;padding: 0;position: absolute;width: 1px;}#sk-container-id-5 div.sk-estimator {font-family: monospace;background-color: #f0f8ff;border: 1px dotted black;border-radius: 0.25em;box-sizing: border-box;margin-bottom: 0.5em;}#sk-container-id-5 div.sk-estimator:hover {background-color: #d4ebff;}#sk-container-id-5 div.sk-parallel-item::after {content: \"\";width: 100%;border-bottom: 1px solid gray;flex-grow: 1;}#sk-container-id-5 div.sk-label:hover label.sk-toggleable__label {background-color: #d4ebff;}#sk-container-id-5 div.sk-serial::before {content: \"\";position: absolute;border-left: 1px solid gray;box-sizing: border-box;top: 0;bottom: 0;left: 50%;z-index: 0;}#sk-container-id-5 div.sk-serial {display: flex;flex-direction: column;align-items: center;background-color: white;padding-right: 0.2em;padding-left: 0.2em;position: relative;}#sk-container-id-5 div.sk-item {position: relative;z-index: 1;}#sk-container-id-5 div.sk-parallel {display: flex;align-items: stretch;justify-content: center;background-color: white;position: relative;}#sk-container-id-5 div.sk-item::before, #sk-container-id-5 div.sk-parallel-item::before {content: \"\";position: absolute;border-left: 1px solid gray;box-sizing: border-box;top: 0;bottom: 0;left: 50%;z-index: -1;}#sk-container-id-5 div.sk-parallel-item {display: flex;flex-direction: column;z-index: 1;position: relative;background-color: white;}#sk-container-id-5 div.sk-parallel-item:first-child::after {align-self: flex-end;width: 50%;}#sk-container-id-5 div.sk-parallel-item:last-child::after {align-self: flex-start;width: 50%;}#sk-container-id-5 div.sk-parallel-item:only-child::after {width: 0;}#sk-container-id-5 div.sk-dashed-wrapped {border: 1px dashed gray;margin: 0 0.4em 0.5em 0.4em;box-sizing: border-box;padding-bottom: 0.4em;background-color: white;}#sk-container-id-5 div.sk-label label {font-family: monospace;font-weight: bold;display: inline-block;line-height: 1.2em;}#sk-container-id-5 div.sk-label-container {text-align: center;}#sk-container-id-5 div.sk-container {/* jupyter's `normalize.less` sets `[hidden] { display: none; }` but bootstrap.min.css set `[hidden] { display: none !important; }` so we also need the `!important` here to be able to override the default hidden behavior on the sphinx rendered scikit-learn.org. See: https://github.com/scikit-learn/scikit-learn/issues/21755 */display: inline-block !important;position: relative;}#sk-container-id-5 div.sk-text-repr-fallback {display: none;}</style><div id=\"sk-container-id-5\" class=\"sk-top-container\"><div class=\"sk-text-repr-fallback\"><pre>DecisionTreeClassifier(ccp_alpha=0.01, max_depth=5, max_features=&#x27;auto&#x27;,\n",
       "                       random_state=1024)</pre><b>In a Jupyter environment, please rerun this cell to show the HTML representation or trust the notebook. <br />On GitHub, the HTML representation is unable to render, please try loading this page with nbviewer.org.</b></div><div class=\"sk-container\" hidden><div class=\"sk-item\"><div class=\"sk-estimator sk-toggleable\"><input class=\"sk-toggleable__control sk-hidden--visually\" id=\"sk-estimator-id-9\" type=\"checkbox\" checked><label for=\"sk-estimator-id-9\" class=\"sk-toggleable__label sk-toggleable__label-arrow\">DecisionTreeClassifier</label><div class=\"sk-toggleable__content\"><pre>DecisionTreeClassifier(ccp_alpha=0.01, max_depth=5, max_features=&#x27;auto&#x27;,\n",
       "                       random_state=1024)</pre></div></div></div></div></div>"
      ],
      "text/plain": [
       "DecisionTreeClassifier(ccp_alpha=0.01, max_depth=5, max_features='auto',\n",
       "                       random_state=1024)"
      ]
     },
     "execution_count": 70,
     "metadata": {},
     "output_type": "execute_result"
    }
   ],
   "source": [
    "final_model = grid_search.best_estimator_\n",
    "final_model\n"
   ]
  },
  {
   "cell_type": "code",
   "execution_count": 71,
   "id": "4921e107",
   "metadata": {},
   "outputs": [
    {
     "data": {
      "text/html": [
       "<style>#sk-container-id-6 {color: black;background-color: white;}#sk-container-id-6 pre{padding: 0;}#sk-container-id-6 div.sk-toggleable {background-color: white;}#sk-container-id-6 label.sk-toggleable__label {cursor: pointer;display: block;width: 100%;margin-bottom: 0;padding: 0.3em;box-sizing: border-box;text-align: center;}#sk-container-id-6 label.sk-toggleable__label-arrow:before {content: \"▸\";float: left;margin-right: 0.25em;color: #696969;}#sk-container-id-6 label.sk-toggleable__label-arrow:hover:before {color: black;}#sk-container-id-6 div.sk-estimator:hover label.sk-toggleable__label-arrow:before {color: black;}#sk-container-id-6 div.sk-toggleable__content {max-height: 0;max-width: 0;overflow: hidden;text-align: left;background-color: #f0f8ff;}#sk-container-id-6 div.sk-toggleable__content pre {margin: 0.2em;color: black;border-radius: 0.25em;background-color: #f0f8ff;}#sk-container-id-6 input.sk-toggleable__control:checked~div.sk-toggleable__content {max-height: 200px;max-width: 100%;overflow: auto;}#sk-container-id-6 input.sk-toggleable__control:checked~label.sk-toggleable__label-arrow:before {content: \"▾\";}#sk-container-id-6 div.sk-estimator input.sk-toggleable__control:checked~label.sk-toggleable__label {background-color: #d4ebff;}#sk-container-id-6 div.sk-label input.sk-toggleable__control:checked~label.sk-toggleable__label {background-color: #d4ebff;}#sk-container-id-6 input.sk-hidden--visually {border: 0;clip: rect(1px 1px 1px 1px);clip: rect(1px, 1px, 1px, 1px);height: 1px;margin: -1px;overflow: hidden;padding: 0;position: absolute;width: 1px;}#sk-container-id-6 div.sk-estimator {font-family: monospace;background-color: #f0f8ff;border: 1px dotted black;border-radius: 0.25em;box-sizing: border-box;margin-bottom: 0.5em;}#sk-container-id-6 div.sk-estimator:hover {background-color: #d4ebff;}#sk-container-id-6 div.sk-parallel-item::after {content: \"\";width: 100%;border-bottom: 1px solid gray;flex-grow: 1;}#sk-container-id-6 div.sk-label:hover label.sk-toggleable__label {background-color: #d4ebff;}#sk-container-id-6 div.sk-serial::before {content: \"\";position: absolute;border-left: 1px solid gray;box-sizing: border-box;top: 0;bottom: 0;left: 50%;z-index: 0;}#sk-container-id-6 div.sk-serial {display: flex;flex-direction: column;align-items: center;background-color: white;padding-right: 0.2em;padding-left: 0.2em;position: relative;}#sk-container-id-6 div.sk-item {position: relative;z-index: 1;}#sk-container-id-6 div.sk-parallel {display: flex;align-items: stretch;justify-content: center;background-color: white;position: relative;}#sk-container-id-6 div.sk-item::before, #sk-container-id-6 div.sk-parallel-item::before {content: \"\";position: absolute;border-left: 1px solid gray;box-sizing: border-box;top: 0;bottom: 0;left: 50%;z-index: -1;}#sk-container-id-6 div.sk-parallel-item {display: flex;flex-direction: column;z-index: 1;position: relative;background-color: white;}#sk-container-id-6 div.sk-parallel-item:first-child::after {align-self: flex-end;width: 50%;}#sk-container-id-6 div.sk-parallel-item:last-child::after {align-self: flex-start;width: 50%;}#sk-container-id-6 div.sk-parallel-item:only-child::after {width: 0;}#sk-container-id-6 div.sk-dashed-wrapped {border: 1px dashed gray;margin: 0 0.4em 0.5em 0.4em;box-sizing: border-box;padding-bottom: 0.4em;background-color: white;}#sk-container-id-6 div.sk-label label {font-family: monospace;font-weight: bold;display: inline-block;line-height: 1.2em;}#sk-container-id-6 div.sk-label-container {text-align: center;}#sk-container-id-6 div.sk-container {/* jupyter's `normalize.less` sets `[hidden] { display: none; }` but bootstrap.min.css set `[hidden] { display: none !important; }` so we also need the `!important` here to be able to override the default hidden behavior on the sphinx rendered scikit-learn.org. See: https://github.com/scikit-learn/scikit-learn/issues/21755 */display: inline-block !important;position: relative;}#sk-container-id-6 div.sk-text-repr-fallback {display: none;}</style><div id=\"sk-container-id-6\" class=\"sk-top-container\"><div class=\"sk-text-repr-fallback\"><pre>DecisionTreeClassifier(ccp_alpha=0.01, criterion=&#x27;entropy&#x27;, max_depth=5,\n",
       "                       max_features=&#x27;auto&#x27;, random_state=1024)</pre><b>In a Jupyter environment, please rerun this cell to show the HTML representation or trust the notebook. <br />On GitHub, the HTML representation is unable to render, please try loading this page with nbviewer.org.</b></div><div class=\"sk-container\" hidden><div class=\"sk-item\"><div class=\"sk-estimator sk-toggleable\"><input class=\"sk-toggleable__control sk-hidden--visually\" id=\"sk-estimator-id-10\" type=\"checkbox\" checked><label for=\"sk-estimator-id-10\" class=\"sk-toggleable__label sk-toggleable__label-arrow\">DecisionTreeClassifier</label><div class=\"sk-toggleable__content\"><pre>DecisionTreeClassifier(ccp_alpha=0.01, criterion=&#x27;entropy&#x27;, max_depth=5,\n",
       "                       max_features=&#x27;auto&#x27;, random_state=1024)</pre></div></div></div></div></div>"
      ],
      "text/plain": [
       "DecisionTreeClassifier(ccp_alpha=0.01, criterion='entropy', max_depth=5,\n",
       "                       max_features='auto', random_state=1024)"
      ]
     },
     "execution_count": 71,
     "metadata": {},
     "output_type": "execute_result"
    }
   ],
   "source": [
    "dt_model = DecisionTreeClassifier(ccp_alpha=0.01, criterion='entropy', max_depth=5, max_features='auto', random_state=1024)\n",
    "dt_model.fit(X_train,y_train)"
   ]
  },
  {
   "cell_type": "code",
   "execution_count": 72,
   "id": "07fd715d",
   "metadata": {},
   "outputs": [
    {
     "data": {
      "text/plain": [
       "array([0, 1, 0, 1, 0, 1, 0, 0, 1, 0, 1, 1, 1, 1, 0, 1, 0, 1, 1, 0, 0, 1,\n",
       "       1, 1, 1, 0, 0, 0, 1, 0, 1, 1, 0, 1, 1, 0, 1, 0, 0, 0, 0, 1, 0, 1,\n",
       "       1, 0, 1, 1, 1, 0, 1, 0, 1, 0, 0, 1, 1, 1, 0, 0, 1, 0, 1, 1, 0, 1,\n",
       "       0, 1, 0, 1, 0, 0, 1, 1, 0, 1, 0, 1, 0, 1, 1, 0, 1, 1, 1, 1, 0, 0,\n",
       "       1, 1, 0, 1, 1, 1, 1, 1, 1, 1, 1, 1, 0, 1, 1, 0, 1, 0, 1, 0, 1, 0,\n",
       "       1, 1, 1, 1, 1, 0, 0, 1, 0, 0, 1, 0, 0, 1, 1, 1, 0, 1, 1, 1, 1, 0,\n",
       "       0, 0, 1, 1, 0, 0, 1, 0, 0, 1, 0, 0, 1, 0, 0, 0, 1, 1])"
      ]
     },
     "execution_count": 72,
     "metadata": {},
     "output_type": "execute_result"
    }
   ],
   "source": [
    "#Predicting on test data\n",
    "y_pred = dt_model.predict(X_test) # predicting on test data set \n",
    "y_pred"
   ]
  },
  {
   "cell_type": "code",
   "execution_count": 73,
   "id": "ff4369ca",
   "metadata": {
    "scrolled": true
   },
   "outputs": [
    {
     "data": {
      "text/plain": [
       "array([0., 1., 0., 1., 0., 1., 0., 0., 1., 0., 1., 1., 1., 1., 0., 1., 0.,\n",
       "       1., 1., 0., 0., 1., 1., 1., 1., 0., 0., 0., 1., 0., 1., 1., 0., 1.,\n",
       "       1., 0., 1., 0., 0., 0., 0., 1., 0., 1., 1., 0., 1., 1., 1., 0., 1.,\n",
       "       0., 1., 0., 0., 1., 1., 1., 0., 0., 1., 0., 1., 1., 0., 1., 0., 1.,\n",
       "       0., 1., 0., 0., 1., 1., 0., 1., 0., 1., 0., 1., 1., 0., 1., 1., 1.,\n",
       "       1., 0., 0., 1., 1., 0., 1., 1., 1., 1., 1., 1., 1., 1., 1., 0., 1.,\n",
       "       1., 0., 1., 0., 1., 0., 1., 0., 1., 1., 1., 1., 1., 0., 0., 1., 0.,\n",
       "       0., 1., 0., 0., 1., 1., 1., 0., 1., 1., 1., 1., 0., 0., 0., 1., 1.,\n",
       "       0., 0., 1., 0., 0., 1., 0., 0., 1., 0., 0., 0., 1., 1.])"
      ]
     },
     "execution_count": 73,
     "metadata": {},
     "output_type": "execute_result"
    }
   ],
   "source": [
    "y_prob=dt_model.predict_proba(X_test)[:,1]\n",
    "y_prob"
   ]
  },
  {
   "cell_type": "code",
   "execution_count": 74,
   "id": "8326eba7",
   "metadata": {},
   "outputs": [
    {
     "data": {
      "image/png": "[encoded data removed]",
      "text/plain": [
       "<Figure size 3000x3000 with 1 Axes>"
      ]
     },
     "metadata": {
      "needs_background": "light"
     },
     "output_type": "display_data"
    }
   ],
   "source": [
    "fn=['industrial_risk','management_risk','financial_flexibility','credibility','competitiveness','operating_risk','class']\n",
    "cn=['bankruptcy','non_bankruptcy']\n",
    "fig, axes = plt.subplots(nrows = 1,ncols = 1,figsize = (3,3), dpi=1000)\n",
    "plot_tree(dt_model,\n",
    "               feature_names = fn, \n",
    "               class_names=cn,\n",
    "               filled = True);"
   ]
  },
  {
   "cell_type": "code",
   "execution_count": 75,
   "id": "108763e5",
   "metadata": {
    "scrolled": true
   },
   "outputs": [
    {
     "name": "stdout",
     "output_type": "stream",
     "text": [
      "Classification Report : \n",
      "               precision    recall  f1-score   support\n",
      "\n",
      "           0       0.98      1.00      0.99        64\n",
      "           1       1.00      0.99      0.99        86\n",
      "\n",
      "    accuracy                           0.99       150\n",
      "   macro avg       0.99      0.99      0.99       150\n",
      "weighted avg       0.99      0.99      0.99       150\n",
      "\n",
      "==================================================\n",
      "Accuracy = 0.9933333333333333\n",
      "==================================================\n"
     ]
    }
   ],
   "source": [
    "acc3 = accuracy_score(y_test,y_pred)\n",
    "print('Classification Report : \\n',classification_report(y_test,y_pred))\n",
    "print('='*50)\n",
    "print('Accuracy =',acc3)\n",
    "print('='*50)"
   ]
  },
  {
   "cell_type": "code",
   "execution_count": 76,
   "id": "0bf5b278",
   "metadata": {},
   "outputs": [
    {
     "data": {
      "text/plain": [
       "Text(0.5, 14.09375, 'Predicted label')"
      ]
     },
     "execution_count": 76,
     "metadata": {},
     "output_type": "execute_result"
    },
    {
     "data": {
      "image/png": "[encoded data removed]",
      "text/plain": [
       "<Figure size 432x288 with 2 Axes>"
      ]
     },
     "metadata": {
      "needs_background": "light"
     },
     "output_type": "display_data"
    }
   ],
   "source": [
    "#Confusion Matrix\n",
    "import seaborn as sns\n",
    "cm = confusion_matrix(y_test,y_pred)\n",
    "class_label = [\"non_bankruptcy\", \"bankruptcy\"]\n",
    "df_cm = pd.DataFrame(cm, index = class_label, columns = class_label)\n",
    "sns.heatmap(df_cm, annot = True, fmt = \"d\", cmap='Blues')\n",
    "plt.title('Confusion matrix for Decision Tree ', fontsize = 20);\n",
    "plt.title(\"confusion matrix\", y=1.1)\n",
    "plt.ylabel(\"Actual label\")\n",
    "plt.xlabel(\"Predicted label\")"
   ]
  },
  {
   "cell_type": "markdown",
   "id": "85e902bb",
   "metadata": {},
   "source": [
    "# 4.Random Forest"
   ]
  },
  {
   "cell_type": "code",
   "execution_count": 77,
   "id": "6fed4bd7",
   "metadata": {},
   "outputs": [],
   "source": [
    "from sklearn.ensemble import RandomForestClassifier"
   ]
  },
  {
   "cell_type": "code",
   "execution_count": 78,
   "id": "9b28ad58",
   "metadata": {},
   "outputs": [],
   "source": [
    "rfc=RandomForestClassifier(random_state=42)"
   ]
  },
  {
   "cell_type": "code",
   "execution_count": 79,
   "id": "368440d1",
   "metadata": {},
   "outputs": [],
   "source": [
    "param_grid = { \n",
    "    'n_estimators': [200, 500],\n",
    "    'max_features': ['auto', 'sqrt', 'log2'],\n",
    "    'max_depth' : [4,5,6,7,8],\n",
    "    'criterion' :['gini', 'entropy']\n",
    "}"
   ]
  },
  {
   "cell_type": "code",
   "execution_count": 80,
   "id": "950b5594",
   "metadata": {},
   "outputs": [
    {
     "data": {
      "text/html": [
       "<style>#sk-container-id-7 {color: black;background-color: white;}#sk-container-id-7 pre{padding: 0;}#sk-container-id-7 div.sk-toggleable {background-color: white;}#sk-container-id-7 label.sk-toggleable__label {cursor: pointer;display: block;width: 100%;margin-bottom: 0;padding: 0.3em;box-sizing: border-box;text-align: center;}#sk-container-id-7 label.sk-toggleable__label-arrow:before {content: \"▸\";float: left;margin-right: 0.25em;color: #696969;}#sk-container-id-7 label.sk-toggleable__label-arrow:hover:before {color: black;}#sk-container-id-7 div.sk-estimator:hover label.sk-toggleable__label-arrow:before {color: black;}#sk-container-id-7 div.sk-toggleable__content {max-height: 0;max-width: 0;overflow: hidden;text-align: left;background-color: #f0f8ff;}#sk-container-id-7 div.sk-toggleable__content pre {margin: 0.2em;color: black;border-radius: 0.25em;background-color: #f0f8ff;}#sk-container-id-7 input.sk-toggleable__control:checked~div.sk-toggleable__content {max-height: 200px;max-width: 100%;overflow: auto;}#sk-container-id-7 input.sk-toggleable__control:checked~label.sk-toggleable__label-arrow:before {content: \"▾\";}#sk-container-id-7 div.sk-estimator input.sk-toggleable__control:checked~label.sk-toggleable__label {background-color: #d4ebff;}#sk-container-id-7 div.sk-label input.sk-toggleable__control:checked~label.sk-toggleable__label {background-color: #d4ebff;}#sk-container-id-7 input.sk-hidden--visually {border: 0;clip: rect(1px 1px 1px 1px);clip: rect(1px, 1px, 1px, 1px);height: 1px;margin: -1px;overflow: hidden;padding: 0;position: absolute;width: 1px;}#sk-container-id-7 div.sk-estimator {font-family: monospace;background-color: #f0f8ff;border: 1px dotted black;border-radius: 0.25em;box-sizing: border-box;margin-bottom: 0.5em;}#sk-container-id-7 div.sk-estimator:hover {background-color: #d4ebff;}#sk-container-id-7 div.sk-parallel-item::after {content: \"\";width: 100%;border-bottom: 1px solid gray;flex-grow: 1;}#sk-container-id-7 div.sk-label:hover label.sk-toggleable__label {background-color: #d4ebff;}#sk-container-id-7 div.sk-serial::before {content: \"\";position: absolute;border-left: 1px solid gray;box-sizing: border-box;top: 0;bottom: 0;left: 50%;z-index: 0;}#sk-container-id-7 div.sk-serial {display: flex;flex-direction: column;align-items: center;background-color: white;padding-right: 0.2em;padding-left: 0.2em;position: relative;}#sk-container-id-7 div.sk-item {position: relative;z-index: 1;}#sk-container-id-7 div.sk-parallel {display: flex;align-items: stretch;justify-content: center;background-color: white;position: relative;}#sk-container-id-7 div.sk-item::before, #sk-container-id-7 div.sk-parallel-item::before {content: \"\";position: absolute;border-left: 1px solid gray;box-sizing: border-box;top: 0;bottom: 0;left: 50%;z-index: -1;}#sk-container-id-7 div.sk-parallel-item {display: flex;flex-direction: column;z-index: 1;position: relative;background-color: white;}#sk-container-id-7 div.sk-parallel-item:first-child::after {align-self: flex-end;width: 50%;}#sk-container-id-7 div.sk-parallel-item:last-child::after {align-self: flex-start;width: 50%;}#sk-container-id-7 div.sk-parallel-item:only-child::after {width: 0;}#sk-container-id-7 div.sk-dashed-wrapped {border: 1px dashed gray;margin: 0 0.4em 0.5em 0.4em;box-sizing: border-box;padding-bottom: 0.4em;background-color: white;}#sk-container-id-7 div.sk-label label {font-family: monospace;font-weight: bold;display: inline-block;line-height: 1.2em;}#sk-container-id-7 div.sk-label-container {text-align: center;}#sk-container-id-7 div.sk-container {/* jupyter's `normalize.less` sets `[hidden] { display: none; }` but bootstrap.min.css set `[hidden] { display: none !important; }` so we also need the `!important` here to be able to override the default hidden behavior on the sphinx rendered scikit-learn.org. See: https://github.com/scikit-learn/scikit-learn/issues/21755 */display: inline-block !important;position: relative;}#sk-container-id-7 div.sk-text-repr-fallback {display: none;}</style><div id=\"sk-container-id-7\" class=\"sk-top-container\"><div class=\"sk-text-repr-fallback\"><pre>GridSearchCV(cv=5, estimator=RandomForestClassifier(random_state=42),\n",
       "             param_grid={&#x27;criterion&#x27;: [&#x27;gini&#x27;, &#x27;entropy&#x27;],\n",
       "                         &#x27;max_depth&#x27;: [4, 5, 6, 7, 8],\n",
       "                         &#x27;max_features&#x27;: [&#x27;auto&#x27;, &#x27;sqrt&#x27;, &#x27;log2&#x27;],\n",
       "                         &#x27;n_estimators&#x27;: [200, 500]})</pre><b>In a Jupyter environment, please rerun this cell to show the HTML representation or trust the notebook. <br />On GitHub, the HTML representation is unable to render, please try loading this page with nbviewer.org.</b></div><div class=\"sk-container\" hidden><div class=\"sk-item sk-dashed-wrapped\"><div class=\"sk-label-container\"><div class=\"sk-label sk-toggleable\"><input class=\"sk-toggleable__control sk-hidden--visually\" id=\"sk-estimator-id-11\" type=\"checkbox\" ><label for=\"sk-estimator-id-11\" class=\"sk-toggleable__label sk-toggleable__label-arrow\">GridSearchCV</label><div class=\"sk-toggleable__content\"><pre>GridSearchCV(cv=5, estimator=RandomForestClassifier(random_state=42),\n",
       "             param_grid={&#x27;criterion&#x27;: [&#x27;gini&#x27;, &#x27;entropy&#x27;],\n",
       "                         &#x27;max_depth&#x27;: [4, 5, 6, 7, 8],\n",
       "                         &#x27;max_features&#x27;: [&#x27;auto&#x27;, &#x27;sqrt&#x27;, &#x27;log2&#x27;],\n",
       "                         &#x27;n_estimators&#x27;: [200, 500]})</pre></div></div></div><div class=\"sk-parallel\"><div class=\"sk-parallel-item\"><div class=\"sk-item\"><div class=\"sk-label-container\"><div class=\"sk-label sk-toggleable\"><input class=\"sk-toggleable__control sk-hidden--visually\" id=\"sk-estimator-id-12\" type=\"checkbox\" ><label for=\"sk-estimator-id-12\" class=\"sk-toggleable__label sk-toggleable__label-arrow\">estimator: RandomForestClassifier</label><div class=\"sk-toggleable__content\"><pre>RandomForestClassifier(random_state=42)</pre></div></div></div><div class=\"sk-serial\"><div class=\"sk-item\"><div class=\"sk-estimator sk-toggleable\"><input class=\"sk-toggleable__control sk-hidden--visually\" id=\"sk-estimator-id-13\" type=\"checkbox\" ><label for=\"sk-estimator-id-13\" class=\"sk-toggleable__label sk-toggleable__label-arrow\">RandomForestClassifier</label><div class=\"sk-toggleable__content\"><pre>RandomForestClassifier(random_state=42)</pre></div></div></div></div></div></div></div></div></div></div>"
      ],
      "text/plain": [
       "GridSearchCV(cv=5, estimator=RandomForestClassifier(random_state=42),\n",
       "             param_grid={'criterion': ['gini', 'entropy'],\n",
       "                         'max_depth': [4, 5, 6, 7, 8],\n",
       "                         'max_features': ['auto', 'sqrt', 'log2'],\n",
       "                         'n_estimators': [200, 500]})"
      ]
     },
     "execution_count": 80,
     "metadata": {},
     "output_type": "execute_result"
    }
   ],
   "source": [
    "CV_rfc = GridSearchCV(estimator=rfc, param_grid=param_grid, cv= 5)\n",
    "CV_rfc.fit(X_train, y_train)"
   ]
  },
  {
   "cell_type": "code",
   "execution_count": 81,
   "id": "96654d31",
   "metadata": {},
   "outputs": [
    {
     "data": {
      "text/plain": [
       "{'criterion': 'gini',\n",
       " 'max_depth': 4,\n",
       " 'max_features': 'auto',\n",
       " 'n_estimators': 200}"
      ]
     },
     "execution_count": 81,
     "metadata": {},
     "output_type": "execute_result"
    }
   ],
   "source": [
    "CV_rfc.best_params_"
   ]
  },
  {
   "cell_type": "code",
   "execution_count": 82,
   "id": "5996648c",
   "metadata": {},
   "outputs": [],
   "source": [
    "rfc_model = RandomForestClassifier(random_state=42, max_features='auto', n_estimators= 500, max_depth=4, \n",
    "                                   criterion='gini')"
   ]
  },
  {
   "cell_type": "code",
   "execution_count": 83,
   "id": "f6186c3d",
   "metadata": {},
   "outputs": [
    {
     "data": {
      "text/html": [
       "<style>#sk-container-id-8 {color: black;background-color: white;}#sk-container-id-8 pre{padding: 0;}#sk-container-id-8 div.sk-toggleable {background-color: white;}#sk-container-id-8 label.sk-toggleable__label {cursor: pointer;display: block;width: 100%;margin-bottom: 0;padding: 0.3em;box-sizing: border-box;text-align: center;}#sk-container-id-8 label.sk-toggleable__label-arrow:before {content: \"▸\";float: left;margin-right: 0.25em;color: #696969;}#sk-container-id-8 label.sk-toggleable__label-arrow:hover:before {color: black;}#sk-container-id-8 div.sk-estimator:hover label.sk-toggleable__label-arrow:before {color: black;}#sk-container-id-8 div.sk-toggleable__content {max-height: 0;max-width: 0;overflow: hidden;text-align: left;background-color: #f0f8ff;}#sk-container-id-8 div.sk-toggleable__content pre {margin: 0.2em;color: black;border-radius: 0.25em;background-color: #f0f8ff;}#sk-container-id-8 input.sk-toggleable__control:checked~div.sk-toggleable__content {max-height: 200px;max-width: 100%;overflow: auto;}#sk-container-id-8 input.sk-toggleable__control:checked~label.sk-toggleable__label-arrow:before {content: \"▾\";}#sk-container-id-8 div.sk-estimator input.sk-toggleable__control:checked~label.sk-toggleable__label {background-color: #d4ebff;}#sk-container-id-8 div.sk-label input.sk-toggleable__control:checked~label.sk-toggleable__label {background-color: #d4ebff;}#sk-container-id-8 input.sk-hidden--visually {border: 0;clip: rect(1px 1px 1px 1px);clip: rect(1px, 1px, 1px, 1px);height: 1px;margin: -1px;overflow: hidden;padding: 0;position: absolute;width: 1px;}#sk-container-id-8 div.sk-estimator {font-family: monospace;background-color: #f0f8ff;border: 1px dotted black;border-radius: 0.25em;box-sizing: border-box;margin-bottom: 0.5em;}#sk-container-id-8 div.sk-estimator:hover {background-color: #d4ebff;}#sk-container-id-8 div.sk-parallel-item::after {content: \"\";width: 100%;border-bottom: 1px solid gray;flex-grow: 1;}#sk-container-id-8 div.sk-label:hover label.sk-toggleable__label {background-color: #d4ebff;}#sk-container-id-8 div.sk-serial::before {content: \"\";position: absolute;border-left: 1px solid gray;box-sizing: border-box;top: 0;bottom: 0;left: 50%;z-index: 0;}#sk-container-id-8 div.sk-serial {display: flex;flex-direction: column;align-items: center;background-color: white;padding-right: 0.2em;padding-left: 0.2em;position: relative;}#sk-container-id-8 div.sk-item {position: relative;z-index: 1;}#sk-container-id-8 div.sk-parallel {display: flex;align-items: stretch;justify-content: center;background-color: white;position: relative;}#sk-container-id-8 div.sk-item::before, #sk-container-id-8 div.sk-parallel-item::before {content: \"\";position: absolute;border-left: 1px solid gray;box-sizing: border-box;top: 0;bottom: 0;left: 50%;z-index: -1;}#sk-container-id-8 div.sk-parallel-item {display: flex;flex-direction: column;z-index: 1;position: relative;background-color: white;}#sk-container-id-8 div.sk-parallel-item:first-child::after {align-self: flex-end;width: 50%;}#sk-container-id-8 div.sk-parallel-item:last-child::after {align-self: flex-start;width: 50%;}#sk-container-id-8 div.sk-parallel-item:only-child::after {width: 0;}#sk-container-id-8 div.sk-dashed-wrapped {border: 1px dashed gray;margin: 0 0.4em 0.5em 0.4em;box-sizing: border-box;padding-bottom: 0.4em;background-color: white;}#sk-container-id-8 div.sk-label label {font-family: monospace;font-weight: bold;display: inline-block;line-height: 1.2em;}#sk-container-id-8 div.sk-label-container {text-align: center;}#sk-container-id-8 div.sk-container {/* jupyter's `normalize.less` sets `[hidden] { display: none; }` but bootstrap.min.css set `[hidden] { display: none !important; }` so we also need the `!important` here to be able to override the default hidden behavior on the sphinx rendered scikit-learn.org. See: https://github.com/scikit-learn/scikit-learn/issues/21755 */display: inline-block !important;position: relative;}#sk-container-id-8 div.sk-text-repr-fallback {display: none;}</style><div id=\"sk-container-id-8\" class=\"sk-top-container\"><div class=\"sk-text-repr-fallback\"><pre>RandomForestClassifier(max_depth=4, max_features=&#x27;auto&#x27;, n_estimators=500,\n",
       "                       random_state=42)</pre><b>In a Jupyter environment, please rerun this cell to show the HTML representation or trust the notebook. <br />On GitHub, the HTML representation is unable to render, please try loading this page with nbviewer.org.</b></div><div class=\"sk-container\" hidden><div class=\"sk-item\"><div class=\"sk-estimator sk-toggleable\"><input class=\"sk-toggleable__control sk-hidden--visually\" id=\"sk-estimator-id-14\" type=\"checkbox\" checked><label for=\"sk-estimator-id-14\" class=\"sk-toggleable__label sk-toggleable__label-arrow\">RandomForestClassifier</label><div class=\"sk-toggleable__content\"><pre>RandomForestClassifier(max_depth=4, max_features=&#x27;auto&#x27;, n_estimators=500,\n",
       "                       random_state=42)</pre></div></div></div></div></div>"
      ],
      "text/plain": [
       "RandomForestClassifier(max_depth=4, max_features='auto', n_estimators=500,\n",
       "                       random_state=42)"
      ]
     },
     "execution_count": 83,
     "metadata": {},
     "output_type": "execute_result"
    }
   ],
   "source": [
    "rfc_model"
   ]
  },
  {
   "cell_type": "code",
   "execution_count": 84,
   "id": "daee077d",
   "metadata": {},
   "outputs": [
    {
     "data": {
      "text/html": [
       "<style>#sk-container-id-9 {color: black;background-color: white;}#sk-container-id-9 pre{padding: 0;}#sk-container-id-9 div.sk-toggleable {background-color: white;}#sk-container-id-9 label.sk-toggleable__label {cursor: pointer;display: block;width: 100%;margin-bottom: 0;padding: 0.3em;box-sizing: border-box;text-align: center;}#sk-container-id-9 label.sk-toggleable__label-arrow:before {content: \"▸\";float: left;margin-right: 0.25em;color: #696969;}#sk-container-id-9 label.sk-toggleable__label-arrow:hover:before {color: black;}#sk-container-id-9 div.sk-estimator:hover label.sk-toggleable__label-arrow:before {color: black;}#sk-container-id-9 div.sk-toggleable__content {max-height: 0;max-width: 0;overflow: hidden;text-align: left;background-color: #f0f8ff;}#sk-container-id-9 div.sk-toggleable__content pre {margin: 0.2em;color: black;border-radius: 0.25em;background-color: #f0f8ff;}#sk-container-id-9 input.sk-toggleable__control:checked~div.sk-toggleable__content {max-height: 200px;max-width: 100%;overflow: auto;}#sk-container-id-9 input.sk-toggleable__control:checked~label.sk-toggleable__label-arrow:before {content: \"▾\";}#sk-container-id-9 div.sk-estimator input.sk-toggleable__control:checked~label.sk-toggleable__label {background-color: #d4ebff;}#sk-container-id-9 div.sk-label input.sk-toggleable__control:checked~label.sk-toggleable__label {background-color: #d4ebff;}#sk-container-id-9 input.sk-hidden--visually {border: 0;clip: rect(1px 1px 1px 1px);clip: rect(1px, 1px, 1px, 1px);height: 1px;margin: -1px;overflow: hidden;padding: 0;position: absolute;width: 1px;}#sk-container-id-9 div.sk-estimator {font-family: monospace;background-color: #f0f8ff;border: 1px dotted black;border-radius: 0.25em;box-sizing: border-box;margin-bottom: 0.5em;}#sk-container-id-9 div.sk-estimator:hover {background-color: #d4ebff;}#sk-container-id-9 div.sk-parallel-item::after {content: \"\";width: 100%;border-bottom: 1px solid gray;flex-grow: 1;}#sk-container-id-9 div.sk-label:hover label.sk-toggleable__label {background-color: #d4ebff;}#sk-container-id-9 div.sk-serial::before {content: \"\";position: absolute;border-left: 1px solid gray;box-sizing: border-box;top: 0;bottom: 0;left: 50%;z-index: 0;}#sk-container-id-9 div.sk-serial {display: flex;flex-direction: column;align-items: center;background-color: white;padding-right: 0.2em;padding-left: 0.2em;position: relative;}#sk-container-id-9 div.sk-item {position: relative;z-index: 1;}#sk-container-id-9 div.sk-parallel {display: flex;align-items: stretch;justify-content: center;background-color: white;position: relative;}#sk-container-id-9 div.sk-item::before, #sk-container-id-9 div.sk-parallel-item::before {content: \"\";position: absolute;border-left: 1px solid gray;box-sizing: border-box;top: 0;bottom: 0;left: 50%;z-index: -1;}#sk-container-id-9 div.sk-parallel-item {display: flex;flex-direction: column;z-index: 1;position: relative;background-color: white;}#sk-container-id-9 div.sk-parallel-item:first-child::after {align-self: flex-end;width: 50%;}#sk-container-id-9 div.sk-parallel-item:last-child::after {align-self: flex-start;width: 50%;}#sk-container-id-9 div.sk-parallel-item:only-child::after {width: 0;}#sk-container-id-9 div.sk-dashed-wrapped {border: 1px dashed gray;margin: 0 0.4em 0.5em 0.4em;box-sizing: border-box;padding-bottom: 0.4em;background-color: white;}#sk-container-id-9 div.sk-label label {font-family: monospace;font-weight: bold;display: inline-block;line-height: 1.2em;}#sk-container-id-9 div.sk-label-container {text-align: center;}#sk-container-id-9 div.sk-container {/* jupyter's `normalize.less` sets `[hidden] { display: none; }` but bootstrap.min.css set `[hidden] { display: none !important; }` so we also need the `!important` here to be able to override the default hidden behavior on the sphinx rendered scikit-learn.org. See: https://github.com/scikit-learn/scikit-learn/issues/21755 */display: inline-block !important;position: relative;}#sk-container-id-9 div.sk-text-repr-fallback {display: none;}</style><div id=\"sk-container-id-9\" class=\"sk-top-container\"><div class=\"sk-text-repr-fallback\"><pre>RandomForestClassifier(max_depth=4, max_features=&#x27;auto&#x27;, n_estimators=500,\n",
       "                       random_state=42)</pre><b>In a Jupyter environment, please rerun this cell to show the HTML representation or trust the notebook. <br />On GitHub, the HTML representation is unable to render, please try loading this page with nbviewer.org.</b></div><div class=\"sk-container\" hidden><div class=\"sk-item\"><div class=\"sk-estimator sk-toggleable\"><input class=\"sk-toggleable__control sk-hidden--visually\" id=\"sk-estimator-id-15\" type=\"checkbox\" checked><label for=\"sk-estimator-id-15\" class=\"sk-toggleable__label sk-toggleable__label-arrow\">RandomForestClassifier</label><div class=\"sk-toggleable__content\"><pre>RandomForestClassifier(max_depth=4, max_features=&#x27;auto&#x27;, n_estimators=500,\n",
       "                       random_state=42)</pre></div></div></div></div></div>"
      ],
      "text/plain": [
       "RandomForestClassifier(max_depth=4, max_features='auto', n_estimators=500,\n",
       "                       random_state=42)"
      ]
     },
     "execution_count": 84,
     "metadata": {},
     "output_type": "execute_result"
    }
   ],
   "source": [
    "rfc_model.fit(X_train, y_train)"
   ]
  },
  {
   "cell_type": "code",
   "execution_count": 85,
   "id": "0ff031ab",
   "metadata": {},
   "outputs": [
    {
     "data": {
      "text/plain": [
       "array([0, 1, 0, 1, 0, 1, 1, 0, 1, 0, 1, 1, 1, 1, 0, 1, 0, 1, 1, 0, 0, 1,\n",
       "       1, 1, 1, 0, 0, 0, 1, 0, 1, 1, 0, 1, 1, 0, 1, 0, 0, 0, 0, 1, 0, 1,\n",
       "       1, 0, 1, 1, 1, 0, 1, 0, 1, 0, 0, 1, 1, 1, 0, 0, 1, 0, 1, 1, 0, 1,\n",
       "       0, 1, 0, 1, 0, 0, 1, 1, 0, 1, 0, 1, 0, 1, 1, 0, 1, 1, 1, 1, 0, 0,\n",
       "       1, 1, 0, 1, 1, 1, 1, 1, 1, 1, 1, 1, 0, 1, 1, 0, 1, 0, 1, 0, 1, 0,\n",
       "       1, 1, 1, 1, 1, 0, 0, 1, 0, 0, 1, 0, 0, 1, 1, 1, 0, 1, 1, 1, 1, 0,\n",
       "       0, 0, 1, 1, 0, 0, 1, 0, 0, 1, 0, 0, 1, 0, 0, 0, 1, 1])"
      ]
     },
     "execution_count": 85,
     "metadata": {},
     "output_type": "execute_result"
    }
   ],
   "source": [
    "#Predicting on test data\n",
    "y_pred = rfc_model.predict(X_test) # predicting on test data set \n",
    "y_pred"
   ]
  },
  {
   "cell_type": "code",
   "execution_count": 86,
   "id": "915adf10",
   "metadata": {},
   "outputs": [
    {
     "name": "stdout",
     "output_type": "stream",
     "text": [
      "Classification Report : \n",
      "               precision    recall  f1-score   support\n",
      "\n",
      "           0       1.00      1.00      1.00        64\n",
      "           1       1.00      1.00      1.00        86\n",
      "\n",
      "    accuracy                           1.00       150\n",
      "   macro avg       1.00      1.00      1.00       150\n",
      "weighted avg       1.00      1.00      1.00       150\n",
      "\n",
      "==================================================\n",
      "Accuracy = 1.0\n",
      "==================================================\n"
     ]
    }
   ],
   "source": [
    "acc4 = accuracy_score(y_test, y_pred)\n",
    "print('Classification Report : \\n',classification_report(y_test, y_pred))\n",
    "print('='*50)\n",
    "print('Accuracy =',acc4)\n",
    "print('='*50)"
   ]
  },
  {
   "cell_type": "code",
   "execution_count": 87,
   "id": "8701d6e9",
   "metadata": {},
   "outputs": [
    {
     "data": {
      "text/plain": [
       "Text(0.5, 14.09375, 'Predicted label')"
      ]
     },
     "execution_count": 87,
     "metadata": {},
     "output_type": "execute_result"
    },
    {
     "data": {
      "image/png": "[encoded data removed]",
      "text/plain": [
       "<Figure size 432x288 with 2 Axes>"
      ]
     },
     "metadata": {
      "needs_background": "light"
     },
     "output_type": "display_data"
    }
   ],
   "source": [
    "#Confusion Matrix\n",
    "import seaborn as sns\n",
    "cm = confusion_matrix(y_test,y_pred)\n",
    "class_label = [\"non_bankruptcy\", \"bankruptcy\"]\n",
    "df_cm = pd.DataFrame(cm, index = class_label, columns = class_label)\n",
    "sns.heatmap(df_cm, annot = True, fmt = \"d\", cmap='YlGnBu')\n",
    "plt.title('Confusion matrix for Logistic Regression ', fontsize = 20);\n",
    "plt.title(\"confusion matrix\", y=1.1)\n",
    "plt.ylabel(\"Actual label\")\n",
    "plt.xlabel(\"Predicted label\")"
   ]
  },
  {
   "cell_type": "markdown",
   "id": "2bef74e3",
   "metadata": {},
   "source": [
    "# 5.K-nearest Neighbors"
   ]
  },
  {
   "cell_type": "code",
   "execution_count": 88,
   "id": "d2336389",
   "metadata": {},
   "outputs": [],
   "source": [
    "from sklearn.neighbors import KNeighborsClassifier"
   ]
  },
  {
   "cell_type": "code",
   "execution_count": 89,
   "id": "345ad08a",
   "metadata": {},
   "outputs": [],
   "source": [
    "knn = KNeighborsClassifier()\n",
    "from sklearn.model_selection import GridSearchCV\n",
    "k_range = list(range(1, 31))\n",
    "param_grid = dict(n_neighbors=k_range)"
   ]
  },
  {
   "cell_type": "code",
   "execution_count": 90,
   "id": "dda7b163",
   "metadata": {},
   "outputs": [],
   "source": [
    "# defining parameter range\n",
    "grid = GridSearchCV(knn, param_grid, cv=10, scoring='accuracy', return_train_score=False,verbose=1)"
   ]
  },
  {
   "cell_type": "code",
   "execution_count": 91,
   "id": "b07ce60b",
   "metadata": {},
   "outputs": [
    {
     "name": "stdout",
     "output_type": "stream",
     "text": [
      "Fitting 10 folds for each of 30 candidates, totalling 300 fits\n"
     ]
    }
   ],
   "source": [
    "# fitting the model for grid search\n",
    "grid_search=grid.fit(X_train, y_train)"
   ]
  },
  {
   "cell_type": "code",
   "execution_count": 92,
   "id": "384fd1c2",
   "metadata": {
    "scrolled": true
   },
   "outputs": [
    {
     "name": "stdout",
     "output_type": "stream",
     "text": [
      "{'n_neighbors': 1}\n"
     ]
    }
   ],
   "source": [
    "print(grid_search.best_params_)"
   ]
  },
  {
   "cell_type": "code",
   "execution_count": 93,
   "id": "d4a8a588",
   "metadata": {},
   "outputs": [],
   "source": [
    "knn_model = KNeighborsClassifier(n_neighbors=1)"
   ]
  },
  {
   "cell_type": "code",
   "execution_count": 94,
   "id": "33dbc846",
   "metadata": {
    "scrolled": true
   },
   "outputs": [
    {
     "data": {
      "text/html": [
       "<style>#sk-container-id-10 {color: black;background-color: white;}#sk-container-id-10 pre{padding: 0;}#sk-container-id-10 div.sk-toggleable {background-color: white;}#sk-container-id-10 label.sk-toggleable__label {cursor: pointer;display: block;width: 100%;margin-bottom: 0;padding: 0.3em;box-sizing: border-box;text-align: center;}#sk-container-id-10 label.sk-toggleable__label-arrow:before {content: \"▸\";float: left;margin-right: 0.25em;color: #696969;}#sk-container-id-10 label.sk-toggleable__label-arrow:hover:before {color: black;}#sk-container-id-10 div.sk-estimator:hover label.sk-toggleable__label-arrow:before {color: black;}#sk-container-id-10 div.sk-toggleable__content {max-height: 0;max-width: 0;overflow: hidden;text-align: left;background-color: #f0f8ff;}#sk-container-id-10 div.sk-toggleable__content pre {margin: 0.2em;color: black;border-radius: 0.25em;background-color: #f0f8ff;}#sk-container-id-10 input.sk-toggleable__control:checked~div.sk-toggleable__content {max-height: 200px;max-width: 100%;overflow: auto;}#sk-container-id-10 input.sk-toggleable__control:checked~label.sk-toggleable__label-arrow:before {content: \"▾\";}#sk-container-id-10 div.sk-estimator input.sk-toggleable__control:checked~label.sk-toggleable__label {background-color: #d4ebff;}#sk-container-id-10 div.sk-label input.sk-toggleable__control:checked~label.sk-toggleable__label {background-color: #d4ebff;}#sk-container-id-10 input.sk-hidden--visually {border: 0;clip: rect(1px 1px 1px 1px);clip: rect(1px, 1px, 1px, 1px);height: 1px;margin: -1px;overflow: hidden;padding: 0;position: absolute;width: 1px;}#sk-container-id-10 div.sk-estimator {font-family: monospace;background-color: #f0f8ff;border: 1px dotted black;border-radius: 0.25em;box-sizing: border-box;margin-bottom: 0.5em;}#sk-container-id-10 div.sk-estimator:hover {background-color: #d4ebff;}#sk-container-id-10 div.sk-parallel-item::after {content: \"\";width: 100%;border-bottom: 1px solid gray;flex-grow: 1;}#sk-container-id-10 div.sk-label:hover label.sk-toggleable__label {background-color: #d4ebff;}#sk-container-id-10 div.sk-serial::before {content: \"\";position: absolute;border-left: 1px solid gray;box-sizing: border-box;top: 0;bottom: 0;left: 50%;z-index: 0;}#sk-container-id-10 div.sk-serial {display: flex;flex-direction: column;align-items: center;background-color: white;padding-right: 0.2em;padding-left: 0.2em;position: relative;}#sk-container-id-10 div.sk-item {position: relative;z-index: 1;}#sk-container-id-10 div.sk-parallel {display: flex;align-items: stretch;justify-content: center;background-color: white;position: relative;}#sk-container-id-10 div.sk-item::before, #sk-container-id-10 div.sk-parallel-item::before {content: \"\";position: absolute;border-left: 1px solid gray;box-sizing: border-box;top: 0;bottom: 0;left: 50%;z-index: -1;}#sk-container-id-10 div.sk-parallel-item {display: flex;flex-direction: column;z-index: 1;position: relative;background-color: white;}#sk-container-id-10 div.sk-parallel-item:first-child::after {align-self: flex-end;width: 50%;}#sk-container-id-10 div.sk-parallel-item:last-child::after {align-self: flex-start;width: 50%;}#sk-container-id-10 div.sk-parallel-item:only-child::after {width: 0;}#sk-container-id-10 div.sk-dashed-wrapped {border: 1px dashed gray;margin: 0 0.4em 0.5em 0.4em;box-sizing: border-box;padding-bottom: 0.4em;background-color: white;}#sk-container-id-10 div.sk-label label {font-family: monospace;font-weight: bold;display: inline-block;line-height: 1.2em;}#sk-container-id-10 div.sk-label-container {text-align: center;}#sk-container-id-10 div.sk-container {/* jupyter's `normalize.less` sets `[hidden] { display: none; }` but bootstrap.min.css set `[hidden] { display: none !important; }` so we also need the `!important` here to be able to override the default hidden behavior on the sphinx rendered scikit-learn.org. See: https://github.com/scikit-learn/scikit-learn/issues/21755 */display: inline-block !important;position: relative;}#sk-container-id-10 div.sk-text-repr-fallback {display: none;}</style><div id=\"sk-container-id-10\" class=\"sk-top-container\"><div class=\"sk-text-repr-fallback\"><pre>KNeighborsClassifier(n_neighbors=1)</pre><b>In a Jupyter environment, please rerun this cell to show the HTML representation or trust the notebook. <br />On GitHub, the HTML representation is unable to render, please try loading this page with nbviewer.org.</b></div><div class=\"sk-container\" hidden><div class=\"sk-item\"><div class=\"sk-estimator sk-toggleable\"><input class=\"sk-toggleable__control sk-hidden--visually\" id=\"sk-estimator-id-16\" type=\"checkbox\" checked><label for=\"sk-estimator-id-16\" class=\"sk-toggleable__label sk-toggleable__label-arrow\">KNeighborsClassifier</label><div class=\"sk-toggleable__content\"><pre>KNeighborsClassifier(n_neighbors=1)</pre></div></div></div></div></div>"
      ],
      "text/plain": [
       "KNeighborsClassifier(n_neighbors=1)"
      ]
     },
     "execution_count": 94,
     "metadata": {},
     "output_type": "execute_result"
    }
   ],
   "source": [
    "knn_model.fit(X_train, y_train)"
   ]
  },
  {
   "cell_type": "code",
   "execution_count": 95,
   "id": "757850dd",
   "metadata": {
    "scrolled": false
   },
   "outputs": [
    {
     "data": {
      "text/plain": [
       "array([0, 1, 0, 1, 0, 1, 1, 0, 1, 0, 1, 1, 1, 1, 0, 1, 0, 1, 1, 0, 0, 1,\n",
       "       1, 1, 1, 0, 0, 0, 1, 0, 1, 1, 0, 1, 1, 0, 1, 0, 0, 0, 0, 1, 0, 1,\n",
       "       1, 0, 1, 1, 1, 0, 1, 0, 1, 0, 0, 1, 1, 1, 0, 0, 1, 0, 1, 1, 0, 1,\n",
       "       0, 1, 0, 1, 0, 0, 1, 1, 0, 1, 0, 1, 0, 1, 1, 0, 1, 1, 1, 1, 0, 0,\n",
       "       1, 1, 1, 1, 1, 1, 1, 1, 1, 1, 1, 1, 0, 1, 1, 0, 1, 0, 1, 0, 1, 0,\n",
       "       1, 1, 1, 1, 1, 0, 0, 1, 0, 0, 1, 0, 0, 1, 1, 1, 0, 1, 1, 1, 1, 0,\n",
       "       0, 0, 1, 1, 0, 0, 1, 0, 0, 1, 0, 0, 1, 0, 0, 0, 1, 1])"
      ]
     },
     "execution_count": 95,
     "metadata": {},
     "output_type": "execute_result"
    }
   ],
   "source": [
    "#Predicting on test data\n",
    "y_pred = knn_model.predict(X_test) # predicting on test data set \n",
    "y_pred"
   ]
  },
  {
   "cell_type": "code",
   "execution_count": 96,
   "id": "18c7160e",
   "metadata": {
    "scrolled": true
   },
   "outputs": [
    {
     "data": {
      "text/plain": [
       "array([0., 1., 0., 1., 0., 1., 1., 0., 1., 0., 1., 1., 1., 1., 0., 1., 0.,\n",
       "       1., 1., 0., 0., 1., 1., 1., 1., 0., 0., 0., 1., 0., 1., 1., 0., 1.,\n",
       "       1., 0., 1., 0., 0., 0., 0., 1., 0., 1., 1., 0., 1., 1., 1., 0., 1.,\n",
       "       0., 1., 0., 0., 1., 1., 1., 0., 0., 1., 0., 1., 1., 0., 1., 0., 1.,\n",
       "       0., 1., 0., 0., 1., 1., 0., 1., 0., 1., 0., 1., 1., 0., 1., 1., 1.,\n",
       "       1., 0., 0., 1., 1., 1., 1., 1., 1., 1., 1., 1., 1., 1., 1., 0., 1.,\n",
       "       1., 0., 1., 0., 1., 0., 1., 0., 1., 1., 1., 1., 1., 0., 0., 1., 0.,\n",
       "       0., 1., 0., 0., 1., 1., 1., 0., 1., 1., 1., 1., 0., 0., 0., 1., 1.,\n",
       "       0., 0., 1., 0., 0., 1., 0., 0., 1., 0., 0., 0., 1., 1.])"
      ]
     },
     "execution_count": 96,
     "metadata": {},
     "output_type": "execute_result"
    }
   ],
   "source": [
    "y_prob=knn_model.predict_proba(X_test)[:,1]\n",
    "y_prob"
   ]
  },
  {
   "cell_type": "code",
   "execution_count": 97,
   "id": "95d60809",
   "metadata": {},
   "outputs": [
    {
     "name": "stdout",
     "output_type": "stream",
     "text": [
      "Classification Report : \n",
      "               precision    recall  f1-score   support\n",
      "\n",
      "           0       1.00      0.98      0.99        64\n",
      "           1       0.99      1.00      0.99        86\n",
      "\n",
      "    accuracy                           0.99       150\n",
      "   macro avg       0.99      0.99      0.99       150\n",
      "weighted avg       0.99      0.99      0.99       150\n",
      "\n",
      "==================================================\n",
      "Accuracy = 0.9933333333333333\n",
      "==================================================\n"
     ]
    }
   ],
   "source": [
    "acc5 = accuracy_score(y_test,y_pred)\n",
    "print('Classification Report : \\n',classification_report(y_test,y_pred))\n",
    "print('='*50)\n",
    "print('Accuracy =',acc5)\n",
    "print('='*50)"
   ]
  },
  {
   "cell_type": "code",
   "execution_count": 98,
   "id": "a130c16f",
   "metadata": {
    "scrolled": true
   },
   "outputs": [
    {
     "data": {
      "text/plain": [
       "Text(0.5, 14.09375, 'Predicted label')"
      ]
     },
     "execution_count": 98,
     "metadata": {},
     "output_type": "execute_result"
    },
    {
     "data": {
      "image/png": "[encoded data removed]",
      "text/plain": [
       "<Figure size 432x288 with 2 Axes>"
      ]
     },
     "metadata": {
      "needs_background": "light"
     },
     "output_type": "display_data"
    }
   ],
   "source": [
    "#Confusion Matrix \n",
    "import seaborn as sns\n",
    "cm = confusion_matrix(y_test,y_pred)\n",
    "class_label = [\"non_bankruptcy\", \"bankruptcy\"]\n",
    "df_cm = pd.DataFrame(cm, index = class_label, columns = class_label)\n",
    "sns.heatmap(df_cm, annot = True, fmt = \"d\", cmap='Blues')\n",
    "plt.title('Confusion matrix for KNN ', fontsize = 20);\n",
    "plt.title(\"confusion matrix\", y=1.1)\n",
    "plt.ylabel(\"Actual label\")\n",
    "plt.xlabel(\"Predicted label\")"
   ]
  },
  {
   "cell_type": "markdown",
   "id": "1044d834",
   "metadata": {},
   "source": [
    "# • AdaBoost"
   ]
  },
  {
   "cell_type": "code",
   "execution_count": 99,
   "id": "c2ea84c5",
   "metadata": {},
   "outputs": [],
   "source": [
    "from sklearn import model_selection\n",
    "from sklearn.ensemble import AdaBoostClassifier"
   ]
  },
  {
   "cell_type": "code",
   "execution_count": 100,
   "id": "5a899d75",
   "metadata": {},
   "outputs": [],
   "source": [
    "from sklearn.tree import DecisionTreeClassifier\n",
    "from sklearn.metrics import accuracy_score\n",
    "\n",
    "# Create a base estimator (Decision Tree with max_depth=1)\n",
    "base_estimator = DecisionTreeClassifier(max_depth=1)\n",
    "# It helps adaboost to create strong model\n",
    "# adaboost provide default base estimator.\n",
    "# But providing a custom base estimator allows you to fine-tune the ensemble to better suit your problem.\n",
    "\n",
    "# Create an AdaBoostClassifier using the base estimator\n",
    "adaboost_model = AdaBoostClassifier(\n",
    "    base_estimator=base_estimator,\n",
    "    n_estimators=100,  # Number of weak learners (base classifiers)\n",
    "    learning_rate=1.0,  # Step size for adjusting the weights of misclassified samples\n",
    "    random_state=42\n",
    ")\n",
    "\n",
    "# Train the AdaBoost model on the training data\n",
    "adaboost_model.fit(X_train, y_train)\n",
    "\n",
    "# Make predictions on the testing data\n",
    "y_pred = adaboost_model.predict(X_test)\n",
    "     \n"
   ]
  },
  {
   "cell_type": "code",
   "execution_count": 101,
   "id": "7b004f41",
   "metadata": {},
   "outputs": [
    {
     "name": "stdout",
     "output_type": "stream",
     "text": [
      "              precision    recall  f1-score   support\n",
      "\n",
      "           0       1.00      0.94      0.97        64\n",
      "           1       0.96      1.00      0.98        86\n",
      "\n",
      "    accuracy                           0.97       150\n",
      "   macro avg       0.98      0.97      0.97       150\n",
      "weighted avg       0.97      0.97      0.97       150\n",
      "\n",
      "============================================================\n",
      "Accuracy Score 0.9733333333333334\n",
      "============================================================\n"
     ]
    }
   ],
   "source": [
    "print(classification_report(y_test, y_pred))\n",
    "print(\"=\"*60)\n",
    "acc6 = accuracy_score(y_test,y_pred)\n",
    "print(\"Accuracy Score\",acc6)\n",
    "print(\"=\"*60)"
   ]
  },
  {
   "cell_type": "markdown",
   "id": "adc82341",
   "metadata": {},
   "source": [
    "# • XGBoost"
   ]
  },
  {
   "cell_type": "code",
   "execution_count": 102,
   "id": "2cf12189",
   "metadata": {},
   "outputs": [
    {
     "name": "stdout",
     "output_type": "stream",
     "text": [
      "Requirement already satisfied: xgboost in c:\\users\\sayali hatwar\\anaconda3\\aaa\\lib\\site-packages (1.7.6)\n",
      "Requirement already satisfied: scipy in c:\\users\\sayali hatwar\\anaconda3\\aaa\\lib\\site-packages (from xgboost) (1.7.3)\n",
      "Requirement already satisfied: numpy in c:\\users\\sayali hatwar\\anaconda3\\aaa\\lib\\site-packages (from xgboost) (1.21.6)\n"
     ]
    }
   ],
   "source": [
    "!pip install xgboost"
   ]
  },
  {
   "cell_type": "code",
   "execution_count": 103,
   "id": "043805b4",
   "metadata": {},
   "outputs": [],
   "source": [
    "from sklearn import svm\n",
    "from xgboost import XGBClassifier"
   ]
  },
  {
   "cell_type": "code",
   "execution_count": 104,
   "id": "51df3dd0",
   "metadata": {},
   "outputs": [
    {
     "data": {
      "text/html": [
       "<style>#sk-container-id-11 {color: black;background-color: white;}#sk-container-id-11 pre{padding: 0;}#sk-container-id-11 div.sk-toggleable {background-color: white;}#sk-container-id-11 label.sk-toggleable__label {cursor: pointer;display: block;width: 100%;margin-bottom: 0;padding: 0.3em;box-sizing: border-box;text-align: center;}#sk-container-id-11 label.sk-toggleable__label-arrow:before {content: \"▸\";float: left;margin-right: 0.25em;color: #696969;}#sk-container-id-11 label.sk-toggleable__label-arrow:hover:before {color: black;}#sk-container-id-11 div.sk-estimator:hover label.sk-toggleable__label-arrow:before {color: black;}#sk-container-id-11 div.sk-toggleable__content {max-height: 0;max-width: 0;overflow: hidden;text-align: left;background-color: #f0f8ff;}#sk-container-id-11 div.sk-toggleable__content pre {margin: 0.2em;color: black;border-radius: 0.25em;background-color: #f0f8ff;}#sk-container-id-11 input.sk-toggleable__control:checked~div.sk-toggleable__content {max-height: 200px;max-width: 100%;overflow: auto;}#sk-container-id-11 input.sk-toggleable__control:checked~label.sk-toggleable__label-arrow:before {content: \"▾\";}#sk-container-id-11 div.sk-estimator input.sk-toggleable__control:checked~label.sk-toggleable__label {background-color: #d4ebff;}#sk-container-id-11 div.sk-label input.sk-toggleable__control:checked~label.sk-toggleable__label {background-color: #d4ebff;}#sk-container-id-11 input.sk-hidden--visually {border: 0;clip: rect(1px 1px 1px 1px);clip: rect(1px, 1px, 1px, 1px);height: 1px;margin: -1px;overflow: hidden;padding: 0;position: absolute;width: 1px;}#sk-container-id-11 div.sk-estimator {font-family: monospace;background-color: #f0f8ff;border: 1px dotted black;border-radius: 0.25em;box-sizing: border-box;margin-bottom: 0.5em;}#sk-container-id-11 div.sk-estimator:hover {background-color: #d4ebff;}#sk-container-id-11 div.sk-parallel-item::after {content: \"\";width: 100%;border-bottom: 1px solid gray;flex-grow: 1;}#sk-container-id-11 div.sk-label:hover label.sk-toggleable__label {background-color: #d4ebff;}#sk-container-id-11 div.sk-serial::before {content: \"\";position: absolute;border-left: 1px solid gray;box-sizing: border-box;top: 0;bottom: 0;left: 50%;z-index: 0;}#sk-container-id-11 div.sk-serial {display: flex;flex-direction: column;align-items: center;background-color: white;padding-right: 0.2em;padding-left: 0.2em;position: relative;}#sk-container-id-11 div.sk-item {position: relative;z-index: 1;}#sk-container-id-11 div.sk-parallel {display: flex;align-items: stretch;justify-content: center;background-color: white;position: relative;}#sk-container-id-11 div.sk-item::before, #sk-container-id-11 div.sk-parallel-item::before {content: \"\";position: absolute;border-left: 1px solid gray;box-sizing: border-box;top: 0;bottom: 0;left: 50%;z-index: -1;}#sk-container-id-11 div.sk-parallel-item {display: flex;flex-direction: column;z-index: 1;position: relative;background-color: white;}#sk-container-id-11 div.sk-parallel-item:first-child::after {align-self: flex-end;width: 50%;}#sk-container-id-11 div.sk-parallel-item:last-child::after {align-self: flex-start;width: 50%;}#sk-container-id-11 div.sk-parallel-item:only-child::after {width: 0;}#sk-container-id-11 div.sk-dashed-wrapped {border: 1px dashed gray;margin: 0 0.4em 0.5em 0.4em;box-sizing: border-box;padding-bottom: 0.4em;background-color: white;}#sk-container-id-11 div.sk-label label {font-family: monospace;font-weight: bold;display: inline-block;line-height: 1.2em;}#sk-container-id-11 div.sk-label-container {text-align: center;}#sk-container-id-11 div.sk-container {/* jupyter's `normalize.less` sets `[hidden] { display: none; }` but bootstrap.min.css set `[hidden] { display: none !important; }` so we also need the `!important` here to be able to override the default hidden behavior on the sphinx rendered scikit-learn.org. See: https://github.com/scikit-learn/scikit-learn/issues/21755 */display: inline-block !important;position: relative;}#sk-container-id-11 div.sk-text-repr-fallback {display: none;}</style><div id=\"sk-container-id-11\" class=\"sk-top-container\"><div class=\"sk-text-repr-fallback\"><pre>XGBClassifier(base_score=None, booster=None, callbacks=None,\n",
       "              colsample_bylevel=None, colsample_bynode=None,\n",
       "              colsample_bytree=None, early_stopping_rounds=None,\n",
       "              enable_categorical=False, eval_metric=None, feature_types=None,\n",
       "              gamma=None, gpu_id=None, grow_policy=None, importance_type=None,\n",
       "              interaction_constraints=None, learning_rate=None, max_bin=None,\n",
       "              max_cat_threshold=None, max_cat_to_onehot=None,\n",
       "              max_delta_step=None, max_depth=5, max_leaves=None,\n",
       "              min_child_weight=None, missing=nan, monotone_constraints=None,\n",
       "              n_estimators=100, n_jobs=None, num_parallel_tree=None,\n",
       "              predictor=None, random_state=None, ...)</pre><b>In a Jupyter environment, please rerun this cell to show the HTML representation or trust the notebook. <br />On GitHub, the HTML representation is unable to render, please try loading this page with nbviewer.org.</b></div><div class=\"sk-container\" hidden><div class=\"sk-item\"><div class=\"sk-estimator sk-toggleable\"><input class=\"sk-toggleable__control sk-hidden--visually\" id=\"sk-estimator-id-17\" type=\"checkbox\" checked><label for=\"sk-estimator-id-17\" class=\"sk-toggleable__label sk-toggleable__label-arrow\">XGBClassifier</label><div class=\"sk-toggleable__content\"><pre>XGBClassifier(base_score=None, booster=None, callbacks=None,\n",
       "              colsample_bylevel=None, colsample_bynode=None,\n",
       "              colsample_bytree=None, early_stopping_rounds=None,\n",
       "              enable_categorical=False, eval_metric=None, feature_types=None,\n",
       "              gamma=None, gpu_id=None, grow_policy=None, importance_type=None,\n",
       "              interaction_constraints=None, learning_rate=None, max_bin=None,\n",
       "              max_cat_threshold=None, max_cat_to_onehot=None,\n",
       "              max_delta_step=None, max_depth=5, max_leaves=None,\n",
       "              min_child_weight=None, missing=nan, monotone_constraints=None,\n",
       "              n_estimators=100, n_jobs=None, num_parallel_tree=None,\n",
       "              predictor=None, random_state=None, ...)</pre></div></div></div></div></div>"
      ],
      "text/plain": [
       "XGBClassifier(base_score=None, booster=None, callbacks=None,\n",
       "              colsample_bylevel=None, colsample_bynode=None,\n",
       "              colsample_bytree=None, early_stopping_rounds=None,\n",
       "              enable_categorical=False, eval_metric=None, feature_types=None,\n",
       "              gamma=None, gpu_id=None, grow_policy=None, importance_type=None,\n",
       "              interaction_constraints=None, learning_rate=None, max_bin=None,\n",
       "              max_cat_threshold=None, max_cat_to_onehot=None,\n",
       "              max_delta_step=None, max_depth=5, max_leaves=None,\n",
       "              min_child_weight=None, missing=nan, monotone_constraints=None,\n",
       "              n_estimators=100, n_jobs=None, num_parallel_tree=None,\n",
       "              predictor=None, random_state=None, ...)"
      ]
     },
     "execution_count": 104,
     "metadata": {},
     "output_type": "execute_result"
    }
   ],
   "source": [
    "xgboost_model_1 = XGBClassifier(n_estimators = 100, max_depth = 5,\n",
    "                    reg_lambda = 0.1, use_label_encoder= False)\n",
    "xgboost_model_1.fit(X_train, y_train, eval_metric = 'logloss')"
   ]
  },
  {
   "cell_type": "code",
   "execution_count": 105,
   "id": "a97e4025",
   "metadata": {},
   "outputs": [
    {
     "data": {
      "text/plain": [
       "array([0, 1, 0, 1, 1, 1, 1, 0, 1, 1, 1, 1, 1, 1, 0, 1, 0, 1, 1, 0, 0, 1,\n",
       "       1, 1, 1, 0, 0, 0, 1, 0, 1, 1, 0, 1, 1, 0, 1, 0, 0, 0, 0, 1, 0, 1,\n",
       "       1, 0, 1, 1, 1, 0, 1, 0, 1, 0, 0, 1, 1, 1, 0, 0, 1, 0, 1, 1, 0, 1,\n",
       "       0, 1, 0, 1, 0, 0, 1, 1, 0, 1, 0, 1, 0, 1, 1, 0, 1, 1, 1, 1, 0, 0,\n",
       "       1, 1, 0, 1, 1, 1, 1, 1, 1, 1, 1, 1, 0, 1, 1, 0, 1, 0, 1, 0, 1, 1,\n",
       "       1, 1, 1, 1, 1, 0, 0, 1, 0, 0, 1, 0, 0, 1, 1, 1, 0, 1, 1, 1, 1, 0,\n",
       "       0, 0, 1, 1, 0, 0, 1, 0, 1, 1, 0, 0, 1, 0, 0, 0, 1, 1])"
      ]
     },
     "execution_count": 105,
     "metadata": {},
     "output_type": "execute_result"
    }
   ],
   "source": [
    "y_pred =  xgboost_model_1.predict(X_test)\n",
    "y_pred"
   ]
  },
  {
   "cell_type": "code",
   "execution_count": 106,
   "id": "3429225c",
   "metadata": {},
   "outputs": [
    {
     "data": {
      "text/plain": [
       "1.0"
      ]
     },
     "execution_count": 106,
     "metadata": {},
     "output_type": "execute_result"
    }
   ],
   "source": [
    "xgboost_model_1.score(X_train,y_train)"
   ]
  },
  {
   "cell_type": "code",
   "execution_count": 107,
   "id": "48bb3bb9",
   "metadata": {},
   "outputs": [
    {
     "data": {
      "text/plain": [
       "0.9733333333333334"
      ]
     },
     "execution_count": 107,
     "metadata": {},
     "output_type": "execute_result"
    }
   ],
   "source": [
    "xgboost_model_1.score(X_test,y_test)"
   ]
  },
  {
   "cell_type": "code",
   "execution_count": 108,
   "id": "cdf24edc",
   "metadata": {},
   "outputs": [
    {
     "name": "stdout",
     "output_type": "stream",
     "text": [
      "              precision    recall  f1-score   support\n",
      "\n",
      "           0       1.00      0.94      0.97        64\n",
      "           1       0.96      1.00      0.98        86\n",
      "\n",
      "    accuracy                           0.97       150\n",
      "   macro avg       0.98      0.97      0.97       150\n",
      "weighted avg       0.97      0.97      0.97       150\n",
      "\n",
      "============================================================\n",
      "Accuracy Score 0.9733333333333334\n",
      "============================================================\n"
     ]
    }
   ],
   "source": [
    "print(classification_report(y_test, y_pred))\n",
    "print(\"=\"*60)\n",
    "acc7 = accuracy_score(y_test,y_pred)\n",
    "print(\"Accuracy Score\",acc7)\n",
    "print(\"=\"*60)"
   ]
  },
  {
   "cell_type": "markdown",
   "id": "9a8cc4f4",
   "metadata": {},
   "source": [
    "# • Bagging"
   ]
  },
  {
   "cell_type": "code",
   "execution_count": 109,
   "id": "b2f55574",
   "metadata": {},
   "outputs": [],
   "source": [
    "from sklearn.tree import DecisionTreeClassifier\n",
    "from sklearn.ensemble import BaggingClassifier"
   ]
  },
  {
   "cell_type": "code",
   "execution_count": 110,
   "id": "890f8b2f",
   "metadata": {},
   "outputs": [],
   "source": [
    "bagging_clf=BaggingClassifier(base_estimator=DecisionTreeClassifier(),n_estimators=50,max_features=5,random_state=42)"
   ]
  },
  {
   "cell_type": "code",
   "execution_count": 111,
   "id": "a9b56020",
   "metadata": {},
   "outputs": [
    {
     "data": {
      "text/html": [
       "<style>#sk-container-id-12 {color: black;background-color: white;}#sk-container-id-12 pre{padding: 0;}#sk-container-id-12 div.sk-toggleable {background-color: white;}#sk-container-id-12 label.sk-toggleable__label {cursor: pointer;display: block;width: 100%;margin-bottom: 0;padding: 0.3em;box-sizing: border-box;text-align: center;}#sk-container-id-12 label.sk-toggleable__label-arrow:before {content: \"▸\";float: left;margin-right: 0.25em;color: #696969;}#sk-container-id-12 label.sk-toggleable__label-arrow:hover:before {color: black;}#sk-container-id-12 div.sk-estimator:hover label.sk-toggleable__label-arrow:before {color: black;}#sk-container-id-12 div.sk-toggleable__content {max-height: 0;max-width: 0;overflow: hidden;text-align: left;background-color: #f0f8ff;}#sk-container-id-12 div.sk-toggleable__content pre {margin: 0.2em;color: black;border-radius: 0.25em;background-color: #f0f8ff;}#sk-container-id-12 input.sk-toggleable__control:checked~div.sk-toggleable__content {max-height: 200px;max-width: 100%;overflow: auto;}#sk-container-id-12 input.sk-toggleable__control:checked~label.sk-toggleable__label-arrow:before {content: \"▾\";}#sk-container-id-12 div.sk-estimator input.sk-toggleable__control:checked~label.sk-toggleable__label {background-color: #d4ebff;}#sk-container-id-12 div.sk-label input.sk-toggleable__control:checked~label.sk-toggleable__label {background-color: #d4ebff;}#sk-container-id-12 input.sk-hidden--visually {border: 0;clip: rect(1px 1px 1px 1px);clip: rect(1px, 1px, 1px, 1px);height: 1px;margin: -1px;overflow: hidden;padding: 0;position: absolute;width: 1px;}#sk-container-id-12 div.sk-estimator {font-family: monospace;background-color: #f0f8ff;border: 1px dotted black;border-radius: 0.25em;box-sizing: border-box;margin-bottom: 0.5em;}#sk-container-id-12 div.sk-estimator:hover {background-color: #d4ebff;}#sk-container-id-12 div.sk-parallel-item::after {content: \"\";width: 100%;border-bottom: 1px solid gray;flex-grow: 1;}#sk-container-id-12 div.sk-label:hover label.sk-toggleable__label {background-color: #d4ebff;}#sk-container-id-12 div.sk-serial::before {content: \"\";position: absolute;border-left: 1px solid gray;box-sizing: border-box;top: 0;bottom: 0;left: 50%;z-index: 0;}#sk-container-id-12 div.sk-serial {display: flex;flex-direction: column;align-items: center;background-color: white;padding-right: 0.2em;padding-left: 0.2em;position: relative;}#sk-container-id-12 div.sk-item {position: relative;z-index: 1;}#sk-container-id-12 div.sk-parallel {display: flex;align-items: stretch;justify-content: center;background-color: white;position: relative;}#sk-container-id-12 div.sk-item::before, #sk-container-id-12 div.sk-parallel-item::before {content: \"\";position: absolute;border-left: 1px solid gray;box-sizing: border-box;top: 0;bottom: 0;left: 50%;z-index: -1;}#sk-container-id-12 div.sk-parallel-item {display: flex;flex-direction: column;z-index: 1;position: relative;background-color: white;}#sk-container-id-12 div.sk-parallel-item:first-child::after {align-self: flex-end;width: 50%;}#sk-container-id-12 div.sk-parallel-item:last-child::after {align-self: flex-start;width: 50%;}#sk-container-id-12 div.sk-parallel-item:only-child::after {width: 0;}#sk-container-id-12 div.sk-dashed-wrapped {border: 1px dashed gray;margin: 0 0.4em 0.5em 0.4em;box-sizing: border-box;padding-bottom: 0.4em;background-color: white;}#sk-container-id-12 div.sk-label label {font-family: monospace;font-weight: bold;display: inline-block;line-height: 1.2em;}#sk-container-id-12 div.sk-label-container {text-align: center;}#sk-container-id-12 div.sk-container {/* jupyter's `normalize.less` sets `[hidden] { display: none; }` but bootstrap.min.css set `[hidden] { display: none !important; }` so we also need the `!important` here to be able to override the default hidden behavior on the sphinx rendered scikit-learn.org. See: https://github.com/scikit-learn/scikit-learn/issues/21755 */display: inline-block !important;position: relative;}#sk-container-id-12 div.sk-text-repr-fallback {display: none;}</style><div id=\"sk-container-id-12\" class=\"sk-top-container\"><div class=\"sk-text-repr-fallback\"><pre>BaggingClassifier(base_estimator=DecisionTreeClassifier(), max_features=5,\n",
       "                  n_estimators=50, random_state=42)</pre><b>In a Jupyter environment, please rerun this cell to show the HTML representation or trust the notebook. <br />On GitHub, the HTML representation is unable to render, please try loading this page with nbviewer.org.</b></div><div class=\"sk-container\" hidden><div class=\"sk-item sk-dashed-wrapped\"><div class=\"sk-label-container\"><div class=\"sk-label sk-toggleable\"><input class=\"sk-toggleable__control sk-hidden--visually\" id=\"sk-estimator-id-18\" type=\"checkbox\" ><label for=\"sk-estimator-id-18\" class=\"sk-toggleable__label sk-toggleable__label-arrow\">BaggingClassifier</label><div class=\"sk-toggleable__content\"><pre>BaggingClassifier(base_estimator=DecisionTreeClassifier(), max_features=5,\n",
       "                  n_estimators=50, random_state=42)</pre></div></div></div><div class=\"sk-parallel\"><div class=\"sk-parallel-item\"><div class=\"sk-item\"><div class=\"sk-label-container\"><div class=\"sk-label sk-toggleable\"><input class=\"sk-toggleable__control sk-hidden--visually\" id=\"sk-estimator-id-19\" type=\"checkbox\" ><label for=\"sk-estimator-id-19\" class=\"sk-toggleable__label sk-toggleable__label-arrow\">base_estimator: DecisionTreeClassifier</label><div class=\"sk-toggleable__content\"><pre>DecisionTreeClassifier()</pre></div></div></div><div class=\"sk-serial\"><div class=\"sk-item\"><div class=\"sk-estimator sk-toggleable\"><input class=\"sk-toggleable__control sk-hidden--visually\" id=\"sk-estimator-id-20\" type=\"checkbox\" ><label for=\"sk-estimator-id-20\" class=\"sk-toggleable__label sk-toggleable__label-arrow\">DecisionTreeClassifier</label><div class=\"sk-toggleable__content\"><pre>DecisionTreeClassifier()</pre></div></div></div></div></div></div></div></div></div></div>"
      ],
      "text/plain": [
       "BaggingClassifier(base_estimator=DecisionTreeClassifier(), max_features=5,\n",
       "                  n_estimators=50, random_state=42)"
      ]
     },
     "execution_count": 111,
     "metadata": {},
     "output_type": "execute_result"
    }
   ],
   "source": [
    "bagging_clf.fit(X_train,y_train)"
   ]
  },
  {
   "cell_type": "code",
   "execution_count": 112,
   "id": "214d833c",
   "metadata": {},
   "outputs": [
    {
     "name": "stdout",
     "output_type": "stream",
     "text": [
      "              precision    recall  f1-score   support\n",
      "\n",
      "           0       1.00      0.94      0.97        64\n",
      "           1       0.96      1.00      0.98        86\n",
      "\n",
      "    accuracy                           0.97       150\n",
      "   macro avg       0.98      0.97      0.97       150\n",
      "weighted avg       0.97      0.97      0.97       150\n",
      "\n",
      "============================================================\n",
      "Accuracy Score : 0.9733333333333334\n",
      "============================================================\n"
     ]
    }
   ],
   "source": [
    "print(classification_report(y_test, y_pred))\n",
    "print(\"=\"*60)\n",
    "print('Accuracy Score :',bagging_clf.score(X_test,y_test))\n",
    "print(\"=\"*60)"
   ]
  },
  {
   "cell_type": "markdown",
   "id": "f690b653",
   "metadata": {},
   "source": [
    "# • Stacking"
   ]
  },
  {
   "cell_type": "code",
   "execution_count": 113,
   "id": "985c03ee",
   "metadata": {},
   "outputs": [],
   "source": [
    "import numpy as np\n",
    "import warnings\n",
    "from mlxtend.classifier import StackingClassifier\n",
    "from sklearn import datasets\n",
    "from sklearn.naive_bayes import GaussianNB\n",
    "warnings.filterwarnings('ignore')"
   ]
  },
  {
   "cell_type": "code",
   "execution_count": 114,
   "id": "8ca7ac23",
   "metadata": {},
   "outputs": [
    {
     "data": {
      "text/html": [
       "<style>#sk-container-id-13 {color: black;background-color: white;}#sk-container-id-13 pre{padding: 0;}#sk-container-id-13 div.sk-toggleable {background-color: white;}#sk-container-id-13 label.sk-toggleable__label {cursor: pointer;display: block;width: 100%;margin-bottom: 0;padding: 0.3em;box-sizing: border-box;text-align: center;}#sk-container-id-13 label.sk-toggleable__label-arrow:before {content: \"▸\";float: left;margin-right: 0.25em;color: #696969;}#sk-container-id-13 label.sk-toggleable__label-arrow:hover:before {color: black;}#sk-container-id-13 div.sk-estimator:hover label.sk-toggleable__label-arrow:before {color: black;}#sk-container-id-13 div.sk-toggleable__content {max-height: 0;max-width: 0;overflow: hidden;text-align: left;background-color: #f0f8ff;}#sk-container-id-13 div.sk-toggleable__content pre {margin: 0.2em;color: black;border-radius: 0.25em;background-color: #f0f8ff;}#sk-container-id-13 input.sk-toggleable__control:checked~div.sk-toggleable__content {max-height: 200px;max-width: 100%;overflow: auto;}#sk-container-id-13 input.sk-toggleable__control:checked~label.sk-toggleable__label-arrow:before {content: \"▾\";}#sk-container-id-13 div.sk-estimator input.sk-toggleable__control:checked~label.sk-toggleable__label {background-color: #d4ebff;}#sk-container-id-13 div.sk-label input.sk-toggleable__control:checked~label.sk-toggleable__label {background-color: #d4ebff;}#sk-container-id-13 input.sk-hidden--visually {border: 0;clip: rect(1px 1px 1px 1px);clip: rect(1px, 1px, 1px, 1px);height: 1px;margin: -1px;overflow: hidden;padding: 0;position: absolute;width: 1px;}#sk-container-id-13 div.sk-estimator {font-family: monospace;background-color: #f0f8ff;border: 1px dotted black;border-radius: 0.25em;box-sizing: border-box;margin-bottom: 0.5em;}#sk-container-id-13 div.sk-estimator:hover {background-color: #d4ebff;}#sk-container-id-13 div.sk-parallel-item::after {content: \"\";width: 100%;border-bottom: 1px solid gray;flex-grow: 1;}#sk-container-id-13 div.sk-label:hover label.sk-toggleable__label {background-color: #d4ebff;}#sk-container-id-13 div.sk-serial::before {content: \"\";position: absolute;border-left: 1px solid gray;box-sizing: border-box;top: 0;bottom: 0;left: 50%;z-index: 0;}#sk-container-id-13 div.sk-serial {display: flex;flex-direction: column;align-items: center;background-color: white;padding-right: 0.2em;padding-left: 0.2em;position: relative;}#sk-container-id-13 div.sk-item {position: relative;z-index: 1;}#sk-container-id-13 div.sk-parallel {display: flex;align-items: stretch;justify-content: center;background-color: white;position: relative;}#sk-container-id-13 div.sk-item::before, #sk-container-id-13 div.sk-parallel-item::before {content: \"\";position: absolute;border-left: 1px solid gray;box-sizing: border-box;top: 0;bottom: 0;left: 50%;z-index: -1;}#sk-container-id-13 div.sk-parallel-item {display: flex;flex-direction: column;z-index: 1;position: relative;background-color: white;}#sk-container-id-13 div.sk-parallel-item:first-child::after {align-self: flex-end;width: 50%;}#sk-container-id-13 div.sk-parallel-item:last-child::after {align-self: flex-start;width: 50%;}#sk-container-id-13 div.sk-parallel-item:only-child::after {width: 0;}#sk-container-id-13 div.sk-dashed-wrapped {border: 1px dashed gray;margin: 0 0.4em 0.5em 0.4em;box-sizing: border-box;padding-bottom: 0.4em;background-color: white;}#sk-container-id-13 div.sk-label label {font-family: monospace;font-weight: bold;display: inline-block;line-height: 1.2em;}#sk-container-id-13 div.sk-label-container {text-align: center;}#sk-container-id-13 div.sk-container {/* jupyter's `normalize.less` sets `[hidden] { display: none; }` but bootstrap.min.css set `[hidden] { display: none !important; }` so we also need the `!important` here to be able to override the default hidden behavior on the sphinx rendered scikit-learn.org. See: https://github.com/scikit-learn/scikit-learn/issues/21755 */display: inline-block !important;position: relative;}#sk-container-id-13 div.sk-text-repr-fallback {display: none;}</style><div id=\"sk-container-id-13\" class=\"sk-top-container\"><div class=\"sk-text-repr-fallback\"><pre>StackingClassifier(classifiers=[KNeighborsClassifier(n_neighbors=1),\n",
       "                                RandomForestClassifier(random_state=1),\n",
       "                                GaussianNB()],\n",
       "                   meta_classifier=LogisticRegression(), use_probas=True)</pre><b>In a Jupyter environment, please rerun this cell to show the HTML representation or trust the notebook. <br />On GitHub, the HTML representation is unable to render, please try loading this page with nbviewer.org.</b></div><div class=\"sk-container\" hidden><div class=\"sk-item sk-dashed-wrapped\"><div class=\"sk-label-container\"><div class=\"sk-label sk-toggleable\"><input class=\"sk-toggleable__control sk-hidden--visually\" id=\"sk-estimator-id-21\" type=\"checkbox\" ><label for=\"sk-estimator-id-21\" class=\"sk-toggleable__label sk-toggleable__label-arrow\">StackingClassifier</label><div class=\"sk-toggleable__content\"><pre>StackingClassifier(classifiers=[KNeighborsClassifier(n_neighbors=1),\n",
       "                                RandomForestClassifier(random_state=1),\n",
       "                                GaussianNB()],\n",
       "                   meta_classifier=LogisticRegression(), use_probas=True)</pre></div></div></div><div class=\"sk-parallel\"><div class=\"sk-parallel-item\"><div class=\"sk-item\"><div class=\"sk-label-container\"><div class=\"sk-label sk-toggleable\"><input class=\"sk-toggleable__control sk-hidden--visually\" id=\"sk-estimator-id-22\" type=\"checkbox\" ><label for=\"sk-estimator-id-22\" class=\"sk-toggleable__label sk-toggleable__label-arrow\">meta_classifier: LogisticRegression</label><div class=\"sk-toggleable__content\"><pre>LogisticRegression()</pre></div></div></div><div class=\"sk-serial\"><div class=\"sk-item\"><div class=\"sk-estimator sk-toggleable\"><input class=\"sk-toggleable__control sk-hidden--visually\" id=\"sk-estimator-id-23\" type=\"checkbox\" ><label for=\"sk-estimator-id-23\" class=\"sk-toggleable__label sk-toggleable__label-arrow\">LogisticRegression</label><div class=\"sk-toggleable__content\"><pre>LogisticRegression()</pre></div></div></div></div></div></div></div></div></div></div>"
      ],
      "text/plain": [
       "StackingClassifier(classifiers=[KNeighborsClassifier(n_neighbors=1),\n",
       "                                RandomForestClassifier(random_state=1),\n",
       "                                GaussianNB()],\n",
       "                   meta_classifier=LogisticRegression(), use_probas=True)"
      ]
     },
     "execution_count": 114,
     "metadata": {},
     "output_type": "execute_result"
    }
   ],
   "source": [
    "clf1=KNeighborsClassifier(n_neighbors=1)\n",
    "clf2=RandomForestClassifier(random_state=1)\n",
    "clf3=GaussianNB()\n",
    "lr=LogisticRegression()\n",
    "sclf=StackingClassifier(classifiers=[clf1,clf2,clf3],use_probas=True,meta_classifier=lr)\n",
    "sclf"
   ]
  },
  {
   "cell_type": "code",
   "execution_count": 115,
   "id": "d2955a78",
   "metadata": {},
   "outputs": [
    {
     "name": "stdout",
     "output_type": "stream",
     "text": [
      "              precision    recall  f1-score   support\n",
      "\n",
      "           0       1.00      0.92      0.96        64\n",
      "           1       0.95      1.00      0.97        86\n",
      "\n",
      "    accuracy                           0.97       150\n",
      "   macro avg       0.97      0.96      0.97       150\n",
      "weighted avg       0.97      0.97      0.97       150\n",
      "\n",
      "============================================================\n",
      "Accuracy: 0.9666666666666667\n",
      "============================================================\n"
     ]
    }
   ],
   "source": [
    "# Train the stacking classifier on the training data\n",
    "sclf.fit(X_train, y_train)\n",
    "\n",
    "# Make predictions on the testing data\n",
    "y_pred = sclf.predict(X_test)\n",
    "\n",
    "# Calculate Classification report\n",
    "print(classification_report(y_test, y_pred))\n",
    "print(\"=\"*60)\n",
    "# Calculate accuracy\n",
    "accuracy = accuracy_score(y_test, y_pred)\n",
    "print(\"Accuracy:\", accuracy)\n",
    "print(\"=\"*60)"
   ]
  },
  {
   "cell_type": "code",
   "execution_count": 116,
   "id": "a1d73475",
   "metadata": {},
   "outputs": [
    {
     "name": "stdout",
     "output_type": "stream",
     "text": [
      "3-fold cross validation:\n",
      "\n",
      "f1 Scores:1.00 (+/- 0.00)[KNN]\n",
      "f1 Scores:1.00 (+/- 0.00)[Random_forest]\n",
      "f1 Scores:0.99 (+/- 0.01)[Naive_bayes]\n",
      "f1 Scores:1.00 (+/- 0.00)[StackingClassifier]\n"
     ]
    }
   ],
   "source": [
    "print('3-fold cross validation:\\n')\n",
    "\n",
    "for clf,label in zip([clf1,clf2,clf3,sclf],['KNN','Random_forest','Naive_bayes','StackingClassifier']):\n",
    "    scores=model_selection.cross_val_score(clf,X_train,y_train,cv=3,scoring='f1_macro')\n",
    "    print(\"f1 Scores:%0.2f (+/- %0.2f)[%s]\"%(scores.mean(),scores.std(),label))"
   ]
  },
  {
   "cell_type": "code",
   "execution_count": 117,
   "id": "a6e72d82",
   "metadata": {},
   "outputs": [
    {
     "data": {
      "text/html": [
       "<div>\n",
       "<style scoped>\n",
       "    .dataframe tbody tr th:only-of-type {\n",
       "        vertical-align: middle;\n",
       "    }\n",
       "\n",
       "    .dataframe tbody tr th {\n",
       "        vertical-align: top;\n",
       "    }\n",
       "\n",
       "    .dataframe thead th {\n",
       "        text-align: right;\n",
       "    }\n",
       "</style>\n",
       "<table border=\"1\" class=\"dataframe\">\n",
       "  <thead>\n",
       "    <tr style=\"text-align: right;\">\n",
       "      <th></th>\n",
       "      <th>MODEL</th>\n",
       "      <th>Accuracy</th>\n",
       "    </tr>\n",
       "  </thead>\n",
       "  <tbody>\n",
       "    <tr>\n",
       "      <th>1</th>\n",
       "      <td>Support Vector Machine</td>\n",
       "      <td>0.946667</td>\n",
       "    </tr>\n",
       "    <tr>\n",
       "      <th>5</th>\n",
       "      <td>ADABOOST</td>\n",
       "      <td>0.973333</td>\n",
       "    </tr>\n",
       "    <tr>\n",
       "      <th>6</th>\n",
       "      <td>XGBOOST</td>\n",
       "      <td>0.973333</td>\n",
       "    </tr>\n",
       "    <tr>\n",
       "      <th>7</th>\n",
       "      <td>BAGGING</td>\n",
       "      <td>0.973333</td>\n",
       "    </tr>\n",
       "    <tr>\n",
       "      <th>0</th>\n",
       "      <td>Logistic Regression</td>\n",
       "      <td>0.993333</td>\n",
       "    </tr>\n",
       "    <tr>\n",
       "      <th>2</th>\n",
       "      <td>Decision Tree</td>\n",
       "      <td>0.993333</td>\n",
       "    </tr>\n",
       "    <tr>\n",
       "      <th>4</th>\n",
       "      <td>KNN</td>\n",
       "      <td>0.993333</td>\n",
       "    </tr>\n",
       "    <tr>\n",
       "      <th>3</th>\n",
       "      <td>Random Forest</td>\n",
       "      <td>1.000000</td>\n",
       "    </tr>\n",
       "  </tbody>\n",
       "</table>\n",
       "</div>"
      ],
      "text/plain": [
       "                    MODEL  Accuracy\n",
       "1  Support Vector Machine  0.946667\n",
       "5                ADABOOST  0.973333\n",
       "6                 XGBOOST  0.973333\n",
       "7                 BAGGING  0.973333\n",
       "0     Logistic Regression  0.993333\n",
       "2           Decision Tree  0.993333\n",
       "4                     KNN  0.993333\n",
       "3           Random Forest  1.000000"
      ]
     },
     "execution_count": 117,
     "metadata": {},
     "output_type": "execute_result"
    }
   ],
   "source": [
    "data = {\"MODEL\":pd.Series([\"Logistic Regression\",\"Support Vector Machine\",\"Decision Tree\",\"Random Forest\",\n",
    "                           \"KNN\",\"ADABOOST\",\"XGBOOST\",\"BAGGING\"]),\n",
    "        \"Accuracy\":pd.Series([acc1,acc2,acc3,acc4,acc5,acc6,acc7,\n",
    "bagging_clf.fit(X_train,y_train).score(X_test,y_test)])}\n",
    "Accuracy_table=pd.DataFrame(data)\n",
    "Accuracy_table.sort_values(by='Accuracy')"
   ]
  },
  {
   "cell_type": "markdown",
   "id": "7ecbc00d",
   "metadata": {},
   "source": [
    "# Deployment\n",
    "\n",
    "Here we deployed the data using Random Forest Model"
   ]
  },
  {
   "cell_type": "code",
   "execution_count": 118,
   "id": "fb2e8f3c",
   "metadata": {},
   "outputs": [],
   "source": [
    "import pickle"
   ]
  },
  {
   "cell_type": "code",
   "execution_count": 119,
   "id": "fc397055",
   "metadata": {},
   "outputs": [],
   "source": [
    "classifier = RandomForestClassifier()  # Instantiate the model\n",
    "classifier.fit(X_train, y_train)  # Train the model on your data\n",
    "\n",
    "filename = 'trained_model.sav'\n",
    "with open(filename, 'wb') as model_file:\n",
    "    pickle.dump(classifier, model_file)\n"
   ]
  },
  {
   "cell_type": "code",
   "execution_count": 120,
   "id": "6c2f88ce",
   "metadata": {},
   "outputs": [
    {
     "name": "stdout",
     "output_type": "stream",
     "text": [
      "[1]\n",
      "The company is non-bankrupt\n"
     ]
    }
   ],
   "source": [
    "loaded_model = pickle.load(open('finalized_model.sav', 'rb'))\n",
    "\n",
    "input_data = [0, 0, 0.5, 0.5, 0.5, 0]\n",
    "\n",
    "# Convert input data to a numpy array and reshape\n",
    "input_data_as_numpy_array = np.asarray(input_data)\n",
    "input_data_reshape = input_data_as_numpy_array.reshape(1, -1)\n",
    "\n",
    "prediction = loaded_model.predict(input_data_reshape)\n",
    "print(prediction)\n",
    "\n",
    "if prediction[0] == 0:\n",
    "    print('The company is going to bankrupt')\n",
    "else:\n",
    "    print('The company is non-bankrupt')\n"
   ]
  }
 ],
 "metadata": {
  "kernelspec": {
   "display_name": "Python 3 (ipykernel)",
   "language": "python",
   "name": "python3"
  },
  "language_info": {
   "codemirror_mode": {
    "name": "ipython",
    "version": 3
   },
   "file_extension": ".py",
   "mimetype": "text/x-python",
   "name": "python",
   "nbconvert_exporter": "python",
   "pygments_lexer": "ipython3",
   "version": "3.9.12"
  }
 },
 "nbformat": 4,
 "nbformat_minor": 5
}
